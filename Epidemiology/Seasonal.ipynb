{
  "cells": [
    {
      "cell_type": "code",
      "execution_count": 25,
      "id": "4n9ZUno74yYM",
      "metadata": {
        "colab": {
          "base_uri": "https://localhost:8080/"
        },
        "id": "4n9ZUno74yYM",
        "outputId": "46c0f412-62ce-4984-d889-8c8526092021"
      },
      "outputs": [
        {
          "output_type": "stream",
          "name": "stdout",
          "text": [
            "Requirement already satisfied: MiniSom in /usr/local/lib/python3.10/dist-packages (2.3.3)\n"
          ]
        }
      ],
      "source": [
        "!pip install MiniSom"
      ]
    },
    {
      "cell_type": "code",
      "execution_count": 26,
      "id": "FQ69jtQoOkZl",
      "metadata": {
        "id": "FQ69jtQoOkZl"
      },
      "outputs": [],
      "source": [
        "import numpy as np\n",
        "import matplotlib.pyplot as plt\n",
        "import pandas as pd\n",
        "from sklearn.preprocessing import MinMaxScaler\n",
        "from sklearn.preprocessing import LabelEncoder\n",
        "from sklearn.metrics import mean_squared_error\n",
        "from tensorflow.keras.models import Sequential\n",
        "from tensorflow.keras.layers import LSTM, Dense, Dropout"
      ]
    },
    {
      "cell_type": "code",
      "execution_count": 27,
      "id": "0c1987ba",
      "metadata": {
        "id": "0c1987ba"
      },
      "outputs": [],
      "source": [
        "df = pd.read_csv(\"Train_set.csv\")"
      ]
    },
    {
      "cell_type": "code",
      "execution_count": 28,
      "id": "ef20b8ee",
      "metadata": {
        "colab": {
          "base_uri": "https://localhost:8080/",
          "height": 423
        },
        "id": "ef20b8ee",
        "outputId": "723339a0-eb5d-47d2-8dd5-56b253554984"
      },
      "outputs": [
        {
          "output_type": "execute_result",
          "data": {
            "text/plain": [
              "         _id          Disease  Year    PROVINCE  Week_no  Count\n",
              "0          1  Hand Foot Mouth  2013     Bangkok        1   62.0\n",
              "1          2  Hand Foot Mouth  2013     Bangkok        2   95.0\n",
              "2          3  Hand Foot Mouth  2013     Bangkok        3   88.0\n",
              "3          4  Hand Foot Mouth  2013     Bangkok        4   86.0\n",
              "4          5  Hand Foot Mouth  2013     Bangkok        5  132.0\n",
              "...      ...              ...   ...         ...      ...    ...\n",
              "40189  40190  Hand Foot Mouth  2022  Narathiwat       48   13.0\n",
              "40190  40191  Hand Foot Mouth  2022  Narathiwat       49   11.0\n",
              "40191  40192  Hand Foot Mouth  2022  Narathiwat       50    6.0\n",
              "40192  40193  Hand Foot Mouth  2022  Narathiwat       51   13.0\n",
              "40193  40194  Hand Foot Mouth  2022  Narathiwat       52   12.0\n",
              "\n",
              "[40194 rows x 6 columns]"
            ],
            "text/html": [
              "\n",
              "  <div id=\"df-e67c8a2f-b2eb-470c-97e4-c9e7227edf71\" class=\"colab-df-container\">\n",
              "    <div>\n",
              "<style scoped>\n",
              "    .dataframe tbody tr th:only-of-type {\n",
              "        vertical-align: middle;\n",
              "    }\n",
              "\n",
              "    .dataframe tbody tr th {\n",
              "        vertical-align: top;\n",
              "    }\n",
              "\n",
              "    .dataframe thead th {\n",
              "        text-align: right;\n",
              "    }\n",
              "</style>\n",
              "<table border=\"1\" class=\"dataframe\">\n",
              "  <thead>\n",
              "    <tr style=\"text-align: right;\">\n",
              "      <th></th>\n",
              "      <th>_id</th>\n",
              "      <th>Disease</th>\n",
              "      <th>Year</th>\n",
              "      <th>PROVINCE</th>\n",
              "      <th>Week_no</th>\n",
              "      <th>Count</th>\n",
              "    </tr>\n",
              "  </thead>\n",
              "  <tbody>\n",
              "    <tr>\n",
              "      <th>0</th>\n",
              "      <td>1</td>\n",
              "      <td>Hand Foot Mouth</td>\n",
              "      <td>2013</td>\n",
              "      <td>Bangkok</td>\n",
              "      <td>1</td>\n",
              "      <td>62.0</td>\n",
              "    </tr>\n",
              "    <tr>\n",
              "      <th>1</th>\n",
              "      <td>2</td>\n",
              "      <td>Hand Foot Mouth</td>\n",
              "      <td>2013</td>\n",
              "      <td>Bangkok</td>\n",
              "      <td>2</td>\n",
              "      <td>95.0</td>\n",
              "    </tr>\n",
              "    <tr>\n",
              "      <th>2</th>\n",
              "      <td>3</td>\n",
              "      <td>Hand Foot Mouth</td>\n",
              "      <td>2013</td>\n",
              "      <td>Bangkok</td>\n",
              "      <td>3</td>\n",
              "      <td>88.0</td>\n",
              "    </tr>\n",
              "    <tr>\n",
              "      <th>3</th>\n",
              "      <td>4</td>\n",
              "      <td>Hand Foot Mouth</td>\n",
              "      <td>2013</td>\n",
              "      <td>Bangkok</td>\n",
              "      <td>4</td>\n",
              "      <td>86.0</td>\n",
              "    </tr>\n",
              "    <tr>\n",
              "      <th>4</th>\n",
              "      <td>5</td>\n",
              "      <td>Hand Foot Mouth</td>\n",
              "      <td>2013</td>\n",
              "      <td>Bangkok</td>\n",
              "      <td>5</td>\n",
              "      <td>132.0</td>\n",
              "    </tr>\n",
              "    <tr>\n",
              "      <th>...</th>\n",
              "      <td>...</td>\n",
              "      <td>...</td>\n",
              "      <td>...</td>\n",
              "      <td>...</td>\n",
              "      <td>...</td>\n",
              "      <td>...</td>\n",
              "    </tr>\n",
              "    <tr>\n",
              "      <th>40189</th>\n",
              "      <td>40190</td>\n",
              "      <td>Hand Foot Mouth</td>\n",
              "      <td>2022</td>\n",
              "      <td>Narathiwat</td>\n",
              "      <td>48</td>\n",
              "      <td>13.0</td>\n",
              "    </tr>\n",
              "    <tr>\n",
              "      <th>40190</th>\n",
              "      <td>40191</td>\n",
              "      <td>Hand Foot Mouth</td>\n",
              "      <td>2022</td>\n",
              "      <td>Narathiwat</td>\n",
              "      <td>49</td>\n",
              "      <td>11.0</td>\n",
              "    </tr>\n",
              "    <tr>\n",
              "      <th>40191</th>\n",
              "      <td>40192</td>\n",
              "      <td>Hand Foot Mouth</td>\n",
              "      <td>2022</td>\n",
              "      <td>Narathiwat</td>\n",
              "      <td>50</td>\n",
              "      <td>6.0</td>\n",
              "    </tr>\n",
              "    <tr>\n",
              "      <th>40192</th>\n",
              "      <td>40193</td>\n",
              "      <td>Hand Foot Mouth</td>\n",
              "      <td>2022</td>\n",
              "      <td>Narathiwat</td>\n",
              "      <td>51</td>\n",
              "      <td>13.0</td>\n",
              "    </tr>\n",
              "    <tr>\n",
              "      <th>40193</th>\n",
              "      <td>40194</td>\n",
              "      <td>Hand Foot Mouth</td>\n",
              "      <td>2022</td>\n",
              "      <td>Narathiwat</td>\n",
              "      <td>52</td>\n",
              "      <td>12.0</td>\n",
              "    </tr>\n",
              "  </tbody>\n",
              "</table>\n",
              "<p>40194 rows × 6 columns</p>\n",
              "</div>\n",
              "    <div class=\"colab-df-buttons\">\n",
              "\n",
              "  <div class=\"colab-df-container\">\n",
              "    <button class=\"colab-df-convert\" onclick=\"convertToInteractive('df-e67c8a2f-b2eb-470c-97e4-c9e7227edf71')\"\n",
              "            title=\"Convert this dataframe to an interactive table.\"\n",
              "            style=\"display:none;\">\n",
              "\n",
              "  <svg xmlns=\"http://www.w3.org/2000/svg\" height=\"24px\" viewBox=\"0 -960 960 960\">\n",
              "    <path d=\"M120-120v-720h720v720H120Zm60-500h600v-160H180v160Zm220 220h160v-160H400v160Zm0 220h160v-160H400v160ZM180-400h160v-160H180v160Zm440 0h160v-160H620v160ZM180-180h160v-160H180v160Zm440 0h160v-160H620v160Z\"/>\n",
              "  </svg>\n",
              "    </button>\n",
              "\n",
              "  <style>\n",
              "    .colab-df-container {\n",
              "      display:flex;\n",
              "      gap: 12px;\n",
              "    }\n",
              "\n",
              "    .colab-df-convert {\n",
              "      background-color: #E8F0FE;\n",
              "      border: none;\n",
              "      border-radius: 50%;\n",
              "      cursor: pointer;\n",
              "      display: none;\n",
              "      fill: #1967D2;\n",
              "      height: 32px;\n",
              "      padding: 0 0 0 0;\n",
              "      width: 32px;\n",
              "    }\n",
              "\n",
              "    .colab-df-convert:hover {\n",
              "      background-color: #E2EBFA;\n",
              "      box-shadow: 0px 1px 2px rgba(60, 64, 67, 0.3), 0px 1px 3px 1px rgba(60, 64, 67, 0.15);\n",
              "      fill: #174EA6;\n",
              "    }\n",
              "\n",
              "    .colab-df-buttons div {\n",
              "      margin-bottom: 4px;\n",
              "    }\n",
              "\n",
              "    [theme=dark] .colab-df-convert {\n",
              "      background-color: #3B4455;\n",
              "      fill: #D2E3FC;\n",
              "    }\n",
              "\n",
              "    [theme=dark] .colab-df-convert:hover {\n",
              "      background-color: #434B5C;\n",
              "      box-shadow: 0px 1px 3px 1px rgba(0, 0, 0, 0.15);\n",
              "      filter: drop-shadow(0px 1px 2px rgba(0, 0, 0, 0.3));\n",
              "      fill: #FFFFFF;\n",
              "    }\n",
              "  </style>\n",
              "\n",
              "    <script>\n",
              "      const buttonEl =\n",
              "        document.querySelector('#df-e67c8a2f-b2eb-470c-97e4-c9e7227edf71 button.colab-df-convert');\n",
              "      buttonEl.style.display =\n",
              "        google.colab.kernel.accessAllowed ? 'block' : 'none';\n",
              "\n",
              "      async function convertToInteractive(key) {\n",
              "        const element = document.querySelector('#df-e67c8a2f-b2eb-470c-97e4-c9e7227edf71');\n",
              "        const dataTable =\n",
              "          await google.colab.kernel.invokeFunction('convertToInteractive',\n",
              "                                                    [key], {});\n",
              "        if (!dataTable) return;\n",
              "\n",
              "        const docLinkHtml = 'Like what you see? Visit the ' +\n",
              "          '<a target=\"_blank\" href=https://colab.research.google.com/notebooks/data_table.ipynb>data table notebook</a>'\n",
              "          + ' to learn more about interactive tables.';\n",
              "        element.innerHTML = '';\n",
              "        dataTable['output_type'] = 'display_data';\n",
              "        await google.colab.output.renderOutput(dataTable, element);\n",
              "        const docLink = document.createElement('div');\n",
              "        docLink.innerHTML = docLinkHtml;\n",
              "        element.appendChild(docLink);\n",
              "      }\n",
              "    </script>\n",
              "  </div>\n",
              "\n",
              "\n",
              "<div id=\"df-c02150bd-37ed-4920-8fd3-91bf674febba\">\n",
              "  <button class=\"colab-df-quickchart\" onclick=\"quickchart('df-c02150bd-37ed-4920-8fd3-91bf674febba')\"\n",
              "            title=\"Suggest charts\"\n",
              "            style=\"display:none;\">\n",
              "\n",
              "<svg xmlns=\"http://www.w3.org/2000/svg\" height=\"24px\"viewBox=\"0 0 24 24\"\n",
              "     width=\"24px\">\n",
              "    <g>\n",
              "        <path d=\"M19 3H5c-1.1 0-2 .9-2 2v14c0 1.1.9 2 2 2h14c1.1 0 2-.9 2-2V5c0-1.1-.9-2-2-2zM9 17H7v-7h2v7zm4 0h-2V7h2v10zm4 0h-2v-4h2v4z\"/>\n",
              "    </g>\n",
              "</svg>\n",
              "  </button>\n",
              "\n",
              "<style>\n",
              "  .colab-df-quickchart {\n",
              "      --bg-color: #E8F0FE;\n",
              "      --fill-color: #1967D2;\n",
              "      --hover-bg-color: #E2EBFA;\n",
              "      --hover-fill-color: #174EA6;\n",
              "      --disabled-fill-color: #AAA;\n",
              "      --disabled-bg-color: #DDD;\n",
              "  }\n",
              "\n",
              "  [theme=dark] .colab-df-quickchart {\n",
              "      --bg-color: #3B4455;\n",
              "      --fill-color: #D2E3FC;\n",
              "      --hover-bg-color: #434B5C;\n",
              "      --hover-fill-color: #FFFFFF;\n",
              "      --disabled-bg-color: #3B4455;\n",
              "      --disabled-fill-color: #666;\n",
              "  }\n",
              "\n",
              "  .colab-df-quickchart {\n",
              "    background-color: var(--bg-color);\n",
              "    border: none;\n",
              "    border-radius: 50%;\n",
              "    cursor: pointer;\n",
              "    display: none;\n",
              "    fill: var(--fill-color);\n",
              "    height: 32px;\n",
              "    padding: 0;\n",
              "    width: 32px;\n",
              "  }\n",
              "\n",
              "  .colab-df-quickchart:hover {\n",
              "    background-color: var(--hover-bg-color);\n",
              "    box-shadow: 0 1px 2px rgba(60, 64, 67, 0.3), 0 1px 3px 1px rgba(60, 64, 67, 0.15);\n",
              "    fill: var(--button-hover-fill-color);\n",
              "  }\n",
              "\n",
              "  .colab-df-quickchart-complete:disabled,\n",
              "  .colab-df-quickchart-complete:disabled:hover {\n",
              "    background-color: var(--disabled-bg-color);\n",
              "    fill: var(--disabled-fill-color);\n",
              "    box-shadow: none;\n",
              "  }\n",
              "\n",
              "  .colab-df-spinner {\n",
              "    border: 2px solid var(--fill-color);\n",
              "    border-color: transparent;\n",
              "    border-bottom-color: var(--fill-color);\n",
              "    animation:\n",
              "      spin 1s steps(1) infinite;\n",
              "  }\n",
              "\n",
              "  @keyframes spin {\n",
              "    0% {\n",
              "      border-color: transparent;\n",
              "      border-bottom-color: var(--fill-color);\n",
              "      border-left-color: var(--fill-color);\n",
              "    }\n",
              "    20% {\n",
              "      border-color: transparent;\n",
              "      border-left-color: var(--fill-color);\n",
              "      border-top-color: var(--fill-color);\n",
              "    }\n",
              "    30% {\n",
              "      border-color: transparent;\n",
              "      border-left-color: var(--fill-color);\n",
              "      border-top-color: var(--fill-color);\n",
              "      border-right-color: var(--fill-color);\n",
              "    }\n",
              "    40% {\n",
              "      border-color: transparent;\n",
              "      border-right-color: var(--fill-color);\n",
              "      border-top-color: var(--fill-color);\n",
              "    }\n",
              "    60% {\n",
              "      border-color: transparent;\n",
              "      border-right-color: var(--fill-color);\n",
              "    }\n",
              "    80% {\n",
              "      border-color: transparent;\n",
              "      border-right-color: var(--fill-color);\n",
              "      border-bottom-color: var(--fill-color);\n",
              "    }\n",
              "    90% {\n",
              "      border-color: transparent;\n",
              "      border-bottom-color: var(--fill-color);\n",
              "    }\n",
              "  }\n",
              "</style>\n",
              "\n",
              "  <script>\n",
              "    async function quickchart(key) {\n",
              "      const quickchartButtonEl =\n",
              "        document.querySelector('#' + key + ' button');\n",
              "      quickchartButtonEl.disabled = true;  // To prevent multiple clicks.\n",
              "      quickchartButtonEl.classList.add('colab-df-spinner');\n",
              "      try {\n",
              "        const charts = await google.colab.kernel.invokeFunction(\n",
              "            'suggestCharts', [key], {});\n",
              "      } catch (error) {\n",
              "        console.error('Error during call to suggestCharts:', error);\n",
              "      }\n",
              "      quickchartButtonEl.classList.remove('colab-df-spinner');\n",
              "      quickchartButtonEl.classList.add('colab-df-quickchart-complete');\n",
              "    }\n",
              "    (() => {\n",
              "      let quickchartButtonEl =\n",
              "        document.querySelector('#df-c02150bd-37ed-4920-8fd3-91bf674febba button');\n",
              "      quickchartButtonEl.style.display =\n",
              "        google.colab.kernel.accessAllowed ? 'block' : 'none';\n",
              "    })();\n",
              "  </script>\n",
              "</div>\n",
              "\n",
              "  <div id=\"id_cafe4abb-4957-45d0-b723-e7badd8d3d52\">\n",
              "    <style>\n",
              "      .colab-df-generate {\n",
              "        background-color: #E8F0FE;\n",
              "        border: none;\n",
              "        border-radius: 50%;\n",
              "        cursor: pointer;\n",
              "        display: none;\n",
              "        fill: #1967D2;\n",
              "        height: 32px;\n",
              "        padding: 0 0 0 0;\n",
              "        width: 32px;\n",
              "      }\n",
              "\n",
              "      .colab-df-generate:hover {\n",
              "        background-color: #E2EBFA;\n",
              "        box-shadow: 0px 1px 2px rgba(60, 64, 67, 0.3), 0px 1px 3px 1px rgba(60, 64, 67, 0.15);\n",
              "        fill: #174EA6;\n",
              "      }\n",
              "\n",
              "      [theme=dark] .colab-df-generate {\n",
              "        background-color: #3B4455;\n",
              "        fill: #D2E3FC;\n",
              "      }\n",
              "\n",
              "      [theme=dark] .colab-df-generate:hover {\n",
              "        background-color: #434B5C;\n",
              "        box-shadow: 0px 1px 3px 1px rgba(0, 0, 0, 0.15);\n",
              "        filter: drop-shadow(0px 1px 2px rgba(0, 0, 0, 0.3));\n",
              "        fill: #FFFFFF;\n",
              "      }\n",
              "    </style>\n",
              "    <button class=\"colab-df-generate\" onclick=\"generateWithVariable('df')\"\n",
              "            title=\"Generate code using this dataframe.\"\n",
              "            style=\"display:none;\">\n",
              "\n",
              "  <svg xmlns=\"http://www.w3.org/2000/svg\" height=\"24px\"viewBox=\"0 0 24 24\"\n",
              "       width=\"24px\">\n",
              "    <path d=\"M7,19H8.4L18.45,9,17,7.55,7,17.6ZM5,21V16.75L18.45,3.32a2,2,0,0,1,2.83,0l1.4,1.43a1.91,1.91,0,0,1,.58,1.4,1.91,1.91,0,0,1-.58,1.4L9.25,21ZM18.45,9,17,7.55Zm-12,3A5.31,5.31,0,0,0,4.9,8.1,5.31,5.31,0,0,0,1,6.5,5.31,5.31,0,0,0,4.9,4.9,5.31,5.31,0,0,0,6.5,1,5.31,5.31,0,0,0,8.1,4.9,5.31,5.31,0,0,0,12,6.5,5.46,5.46,0,0,0,6.5,12Z\"/>\n",
              "  </svg>\n",
              "    </button>\n",
              "    <script>\n",
              "      (() => {\n",
              "      const buttonEl =\n",
              "        document.querySelector('#id_cafe4abb-4957-45d0-b723-e7badd8d3d52 button.colab-df-generate');\n",
              "      buttonEl.style.display =\n",
              "        google.colab.kernel.accessAllowed ? 'block' : 'none';\n",
              "\n",
              "      buttonEl.onclick = () => {\n",
              "        google.colab.notebook.generateWithVariable('df');\n",
              "      }\n",
              "      })();\n",
              "    </script>\n",
              "  </div>\n",
              "\n",
              "    </div>\n",
              "  </div>\n"
            ],
            "application/vnd.google.colaboratory.intrinsic+json": {
              "type": "dataframe",
              "variable_name": "df",
              "summary": "{\n  \"name\": \"df\",\n  \"rows\": 40194,\n  \"fields\": [\n    {\n      \"column\": \"_id\",\n      \"properties\": {\n        \"dtype\": \"number\",\n        \"std\": 11603,\n        \"min\": 1,\n        \"max\": 40194,\n        \"num_unique_values\": 40194,\n        \"samples\": [\n          4348,\n          39009,\n          38480\n        ],\n        \"semantic_type\": \"\",\n        \"description\": \"\"\n      }\n    },\n    {\n      \"column\": \"Disease\",\n      \"properties\": {\n        \"dtype\": \"category\",\n        \"num_unique_values\": 1,\n        \"samples\": [\n          \"Hand Foot Mouth\"\n        ],\n        \"semantic_type\": \"\",\n        \"description\": \"\"\n      }\n    },\n    {\n      \"column\": \"Year\",\n      \"properties\": {\n        \"dtype\": \"number\",\n        \"std\": 2,\n        \"min\": 2013,\n        \"max\": 2022,\n        \"num_unique_values\": 10,\n        \"samples\": [\n          2021\n        ],\n        \"semantic_type\": \"\",\n        \"description\": \"\"\n      }\n    },\n    {\n      \"column\": \"PROVINCE\",\n      \"properties\": {\n        \"dtype\": \"category\",\n        \"num_unique_values\": 77,\n        \"samples\": [\n          \"Phra Nakhon Si Ayutthaya\"\n        ],\n        \"semantic_type\": \"\",\n        \"description\": \"\"\n      }\n    },\n    {\n      \"column\": \"Week_no\",\n      \"properties\": {\n        \"dtype\": \"number\",\n        \"std\": 15,\n        \"min\": 1,\n        \"max\": 53,\n        \"num_unique_values\": 53,\n        \"samples\": [\n          20\n        ],\n        \"semantic_type\": \"\",\n        \"description\": \"\"\n      }\n    },\n    {\n      \"column\": \"Count\",\n      \"properties\": {\n        \"dtype\": \"number\",\n        \"std\": 33.26161916667153,\n        \"min\": 0.0,\n        \"max\": 892.0,\n        \"num_unique_values\": 341,\n        \"samples\": [\n          521.0\n        ],\n        \"semantic_type\": \"\",\n        \"description\": \"\"\n      }\n    }\n  ]\n}"
            }
          },
          "metadata": {},
          "execution_count": 28
        }
      ],
      "source": [
        "df"
      ]
    },
    {
      "cell_type": "code",
      "execution_count": 29,
      "id": "JAU97Pvd7wkz",
      "metadata": {
        "colab": {
          "base_uri": "https://localhost:8080/"
        },
        "id": "JAU97Pvd7wkz",
        "outputId": "01f6d5ee-6f15-40ff-84ee-7b486e915404"
      },
      "outputs": [
        {
          "output_type": "stream",
          "name": "stdout",
          "text": [
            "[[4081 'Hand Foot Mouth' 2013 'Narathiwat' 53 4.0]\n",
            " [4082 'Hand Foot Mouth' 2014 'Bangkok' 1 93.0]\n",
            " [4083 'Hand Foot Mouth' 2014 'Bangkok' 2 118.0]\n",
            " [4084 'Hand Foot Mouth' 2014 'Bangkok' 3 87.0]\n",
            " [4085 'Hand Foot Mouth' 2014 'Bangkok' 4 65.0]\n",
            " [4086 'Hand Foot Mouth' 2014 'Bangkok' 5 112.0]\n",
            " [4087 'Hand Foot Mouth' 2014 'Bangkok' 6 70.0]\n",
            " [4088 'Hand Foot Mouth' 2014 'Bangkok' 7 80.0]\n",
            " [4089 'Hand Foot Mouth' 2014 'Bangkok' 8 97.0]\n",
            " [4090 'Hand Foot Mouth' 2014 'Bangkok' 9 141.0]\n",
            " [4091 'Hand Foot Mouth' 2014 'Bangkok' 10 123.0]\n",
            " [4092 'Hand Foot Mouth' 2014 'Bangkok' 11 140.0]\n",
            " [4093 'Hand Foot Mouth' 2014 'Bangkok' 12 101.0]\n",
            " [4094 'Hand Foot Mouth' 2014 'Bangkok' 13 104.0]\n",
            " [4095 'Hand Foot Mouth' 2014 'Bangkok' 14 107.0]\n",
            " [4096 'Hand Foot Mouth' 2014 'Bangkok' 15 69.0]\n",
            " [4097 'Hand Foot Mouth' 2014 'Bangkok' 16 86.0]\n",
            " [4098 'Hand Foot Mouth' 2014 'Bangkok' 17 76.0]\n",
            " [4099 'Hand Foot Mouth' 2014 'Bangkok' 18 68.0]\n",
            " [4100 'Hand Foot Mouth' 2014 'Bangkok' 19 65.0]]\n"
          ]
        }
      ],
      "source": [
        "x = df.iloc[4080:4100, :].values\n",
        "print(x)"
      ]
    },
    {
      "cell_type": "code",
      "execution_count": 30,
      "id": "be51655a",
      "metadata": {
        "colab": {
          "base_uri": "https://localhost:8080/"
        },
        "id": "be51655a",
        "outputId": "bf9f2c1b-ec80-4d6d-db68-ae67636f7e4b"
      },
      "outputs": [
        {
          "output_type": "stream",
          "name": "stdout",
          "text": [
            "         _id          Disease  Year    PROVINCE  Week_no     Count\n",
            "0          1  Hand Foot Mouth  2013     Bangkok        1  0.069507\n",
            "1          2  Hand Foot Mouth  2013     Bangkok        2  0.106502\n",
            "2          3  Hand Foot Mouth  2013     Bangkok        3  0.098655\n",
            "3          4  Hand Foot Mouth  2013     Bangkok        4  0.096413\n",
            "4          5  Hand Foot Mouth  2013     Bangkok        5  0.147982\n",
            "...      ...              ...   ...         ...      ...       ...\n",
            "40189  40190  Hand Foot Mouth  2022  Narathiwat       48  0.014574\n",
            "40190  40191  Hand Foot Mouth  2022  Narathiwat       49  0.012332\n",
            "40191  40192  Hand Foot Mouth  2022  Narathiwat       50  0.006726\n",
            "40192  40193  Hand Foot Mouth  2022  Narathiwat       51  0.014574\n",
            "40193  40194  Hand Foot Mouth  2022  Narathiwat       52  0.013453\n",
            "\n",
            "[40194 rows x 6 columns]\n",
            "         _id          Disease  Year       PROVINCE  Week_no     Count  \\\n",
            "1325    1326  Hand Foot Mouth  2013  Amnat Charoen        1  0.010090   \n",
            "1326    1327  Hand Foot Mouth  2013  Amnat Charoen        2  0.007848   \n",
            "1327    1328  Hand Foot Mouth  2013  Amnat Charoen        3  0.011211   \n",
            "1328    1329  Hand Foot Mouth  2013  Amnat Charoen        4  0.003363   \n",
            "1329    1330  Hand Foot Mouth  2013  Amnat Charoen        5  0.002242   \n",
            "...      ...              ...   ...            ...      ...       ...   \n",
            "37433  37434  Hand Foot Mouth  2022       Yasothon       48  0.008969   \n",
            "37434  37435  Hand Foot Mouth  2022       Yasothon       49  0.006726   \n",
            "37435  37436  Hand Foot Mouth  2022       Yasothon       50  0.004484   \n",
            "37436  37437  Hand Foot Mouth  2022       Yasothon       51  0.007848   \n",
            "37437  37438  Hand Foot Mouth  2022       Yasothon       52  0.010090   \n",
            "\n",
            "       Count_lag1  Count_lag2  Std_4weeks  \n",
            "1325     0.000000    0.000000    0.000000  \n",
            "1326     0.010090    0.000000    0.001585  \n",
            "1327     0.007848    0.010090    0.001712  \n",
            "1328     0.011211    0.007848    0.003471  \n",
            "1329     0.003363    0.011211    0.004144  \n",
            "...           ...         ...         ...  \n",
            "37433    0.016816    0.010090    0.003774  \n",
            "37434    0.008969    0.016816    0.004342  \n",
            "37435    0.006726    0.008969    0.005367  \n",
            "37436    0.004484    0.006726    0.001915  \n",
            "37437    0.007848    0.004484    0.002334  \n",
            "\n",
            "[40194 rows x 9 columns]\n"
          ]
        }
      ],
      "source": [
        "sc = MinMaxScaler()\n",
        "\n",
        "feature = ['Count']\n",
        "df[feature] = sc.fit_transform(df[feature])\n",
        "print(df)\n",
        "\n",
        "df = df.sort_values(by=['PROVINCE', 'Year', 'Week_no'])\n",
        "\n",
        "# Create a lag feature for 'Count' (e.g., 1-week lag)\n",
        "df['Count_lag1'] = df.groupby(['PROVINCE'])['Count'].shift(1)\n",
        "\n",
        "# You can create additional lag features, for example, a 2-week lag\n",
        "df['Count_lag2'] = df.groupby(['PROVINCE'])['Count'].shift(2)\n",
        "\n",
        "\n",
        "df['Std_4weeks'] = df.groupby(['PROVINCE'])['Count'].transform(lambda x: x.rolling(window=4, min_periods=1).std())\n",
        "\n",
        "# Replace NaN values with 0 for Std_4weeks where initial weeks might have them\n",
        "df['Std_4weeks'].fillna(0, inplace=True)\n",
        "\n",
        "df.fillna(0, inplace=True)\n",
        "# Inspect the DataFrame\n",
        "print(df)"
      ]
    },
    {
      "cell_type": "code",
      "execution_count": 31,
      "id": "f3bba639",
      "metadata": {
        "colab": {
          "base_uri": "https://localhost:8080/"
        },
        "id": "f3bba639",
        "outputId": "6935ab24-f6f5-4394-a9f7-b4cfe5a2f9a7"
      },
      "outputs": [
        {
          "output_type": "stream",
          "name": "stdout",
          "text": [
            "[[37541 'Hand Foot Mouth' 2022 'Amnat Charoen' 51 0.0033632286995515697\n",
            "  0.0033632286995515697 0.008968609865470852 0.0030358887909699758]\n",
            " [37542 'Hand Foot Mouth' 2022 'Amnat Charoen' 52 0.008968609865470852\n",
            "  0.0033632286995515697 0.0033632286995515697 0.0032362683250538576]\n",
            " [266 'Hand Foot Mouth' 2013 'Ang Thong' 1 0.006726457399103139 0.0 0.0\n",
            "  0.0]\n",
            " [267 'Hand Foot Mouth' 2013 'Ang Thong' 2 0.011210762331838564\n",
            "  0.006726457399103139 0.0 0.003170882426845504]\n",
            " [268 'Hand Foot Mouth' 2013 'Ang Thong' 3 0.004484304932735426\n",
            "  0.011210762331838564 0.006726457399103139 0.003424944465587324]\n",
            " [269 'Hand Foot Mouth' 2013 'Ang Thong' 4 0.005605381165919282\n",
            "  0.004484304932735426 0.011210762331838564 0.0029483807619692633]\n",
            " [270 'Hand Foot Mouth' 2013 'Ang Thong' 5 0.005605381165919282\n",
            "  0.005605381165919282 0.004484304932735426 0.0030358887909700894]\n",
            " [271 'Hand Foot Mouth' 2013 'Ang Thong' 6 0.004484304932735426\n",
            "  0.005605381165919282 0.005605381165919282 0.0006472536650107881]\n",
            " [272 'Hand Foot Mouth' 2013 'Ang Thong' 7 0.002242152466367713\n",
            "  0.004484304932735426 0.005605381165919282 0.0015854412134227505]\n",
            " [273 'Hand Foot Mouth' 2013 'Ang Thong' 8 0.0033632286995515697\n",
            "  0.002242152466367713 0.004484304932735426 0.0014473031936500038]\n",
            " [274 'Hand Foot Mouth' 2013 'Ang Thong' 9 0.002242152466367713\n",
            "  0.0033632286995515697 0.002242152466367713 0.001073348775511586]\n",
            " [275 'Hand Foot Mouth' 2013 'Ang Thong' 10 0.002242152466367713\n",
            "  0.002242152466367713 0.0033632286995515697 0.0005605381165919201]\n",
            " [276 'Hand Foot Mouth' 2013 'Ang Thong' 11 0.008968609865470852\n",
            "  0.002242152466367713 0.002242152466367713 0.0032200463265347687]\n",
            " [277 'Hand Foot Mouth' 2013 'Ang Thong' 12 0.008968609865470852\n",
            "  0.008968609865470852 0.002242152466367713 0.003883521990064747]\n",
            " [278 'Hand Foot Mouth' 2013 'Ang Thong' 13 0.0011210762331838565\n",
            "  0.008968609865470852 0.008968609865470852 0.00423196997492755]\n",
            " [279 'Hand Foot Mouth' 2013 'Ang Thong' 14 0.0033632286995515697\n",
            "  0.0011210762331838565 0.008968609865470852 0.003989939556065513]\n",
            " [280 'Hand Foot Mouth' 2013 'Ang Thong' 15 0.008968609865470852\n",
            "  0.0033632286995515697 0.0011210762331838565 0.003989939556065513]\n",
            " [281 'Hand Foot Mouth' 2013 'Ang Thong' 16 0.0011210762331838565\n",
            "  0.008968609865470852 0.0033632286995515697 0.0037040784008966748]\n",
            " [282 'Hand Foot Mouth' 2013 'Ang Thong' 17 0.002242152466367713\n",
            "  0.0011210762331838565 0.008968609865470852 0.003485567658104937]\n",
            " [283 'Hand Foot Mouth' 2013 'Ang Thong' 18 0.002242152466367713\n",
            "  0.002242152466367713 0.0011210762331838565 0.003589195200354735]\n",
            " [284 'Hand Foot Mouth' 2013 'Ang Thong' 19 0.008968609865470852\n",
            "  0.002242152466367713 0.002242152466367713 0.003589195200354735]\n",
            " [285 'Hand Foot Mouth' 2013 'Ang Thong' 20 0.008968609865470852\n",
            "  0.008968609865470852 0.002242152466367713 0.003883521990064747]\n",
            " [286 'Hand Foot Mouth' 2013 'Ang Thong' 21 0.008968609865470852\n",
            "  0.008968609865470852 0.008968609865470852 0.00336322869955157]\n",
            " [287 'Hand Foot Mouth' 2013 'Ang Thong' 22 0.0011210762331838565\n",
            "  0.008968609865470852 0.008968609865470852 0.003923766816143498]\n",
            " [288 'Hand Foot Mouth' 2013 'Ang Thong' 23 0.008968609865470852\n",
            "  0.0011210762331838565 0.008968609865470852 0.003923766816143498]\n",
            " [289 'Hand Foot Mouth' 2013 'Ang Thong' 24 0.008968609865470852\n",
            "  0.008968609865470852 0.0011210762331838565 0.003923766816143498]\n",
            " [290 'Hand Foot Mouth' 2013 'Ang Thong' 25 0.01569506726457399\n",
            "  0.008968609865470852 0.008968609865470852 0.005958601912967853]\n",
            " [291 'Hand Foot Mouth' 2013 'Ang Thong' 26 0.01905829596412556\n",
            "  0.01569506726457399 0.008968609865470852 0.005044843049327355]\n",
            " [292 'Hand Foot Mouth' 2013 'Ang Thong' 27 0.016816143497757848\n",
            "  0.01905829596412556 0.01569506726457399 0.0043419095809500196]\n",
            " [293 'Hand Foot Mouth' 2013 'Ang Thong' 28 0.011210762331838564\n",
            "  0.016816143497757848 0.01905829596412556 0.003300359068134473]]\n"
          ]
        }
      ],
      "source": [
        "x = df.iloc[520:550, :].values\n",
        "print(x)"
      ]
    },
    {
      "cell_type": "code",
      "execution_count": 32,
      "id": "5449dc78",
      "metadata": {
        "colab": {
          "base_uri": "https://localhost:8080/",
          "height": 1000
        },
        "id": "5449dc78",
        "outputId": "ed2c70f1-0ad7-4fb8-982e-3c2cb31f5a8a"
      },
      "outputs": [
        {
          "output_type": "stream",
          "name": "stdout",
          "text": [
            "Silhouette Score: 0.30090472899445686\n"
          ]
        },
        {
          "output_type": "display_data",
          "data": {
            "text/plain": [
              "<Figure size 1200x1200 with 2 Axes>"
            ],
            "image/png": "[encoded data removed]"
          },
          "metadata": {}
        }
      ],
      "source": [
        "import pandas as pd\n",
        "import numpy as np\n",
        "from minisom import MiniSom\n",
        "from sklearn.preprocessing import RobustScaler\n",
        "from sklearn.mixture import GaussianMixture\n",
        "from sklearn.metrics import silhouette_score\n",
        "import matplotlib.pyplot as plt\n",
        "from sklearn.preprocessing import StandardScaler\n",
        "from sklearn.decomposition import PCA\n",
        "\n",
        "# Calculate seasonality feature\n",
        "df['Year_Group'] = df['Year'].astype(str) + '-' + df['Week_no'].astype(str)\n",
        "weekly = df.groupby(['PROVINCE', 'Year', 'Week_no'])['Count'].mean().reset_index()\n",
        "weekly_std = weekly.groupby(['PROVINCE', 'Week_no'])['Count'].std().reset_index(name='Weekly_Std')\n",
        "weekly_avg = weekly.groupby(['PROVINCE', 'Week_no'])['Count'].mean().reset_index(name='Weekly_Avg')\n",
        "seasonality_index = pd.merge(weekly_avg, weekly_std, on=['PROVINCE', 'Week_no'])\n",
        "seasonality_index['Seasonality_Score'] = seasonality_index['Weekly_Std'] / seasonality_index['Weekly_Avg']\n",
        "seasonality_feature = seasonality_index.groupby('PROVINCE')['Seasonality_Score'].mean().reset_index()\n",
        "\n",
        "# Focus only on the seasonality feature\n",
        "X = seasonality_feature[['Seasonality_Score']].values\n",
        "\n",
        "# Normalize using RobustScaler\n",
        "scaler = StandardScaler()\n",
        "X_scaled = scaler.fit_transform(seasonality_feature[['Seasonality_Score']].values)\n",
        "\n",
        "# Define the SOM and train using only Seasonality_Score\n",
        "som_size_x = 15\n",
        "som_size_y = 15\n",
        "som = MiniSom(som_size_x, som_size_y, input_len=X_scaled.shape[1], sigma=1.5, learning_rate=0.3)\n",
        "som.random_weights_init(X_scaled)\n",
        "som.train_random(X_scaled, 3000)\n",
        "\n",
        "# Extract winning nodes and apply clustering\n",
        "winning_nodes = np.array([som.winner(x) for x in X_scaled])\n",
        "winning_node_features = np.apply_along_axis(lambda x: x[0] * som_size_y + x[1], 1, winning_nodes)\n",
        "\n",
        "gmm = GaussianMixture(n_components=2, random_state=0)\n",
        "gmm_labels = gmm.fit_predict(winning_node_features.reshape(-1, 1))\n",
        "\n",
        "seasonality_feature['Cluster'] = gmm_labels\n",
        "\n",
        "# Evaluate with Silhouette Score\n",
        "sil_score = silhouette_score(X_scaled, gmm_labels)\n",
        "print(f'Silhouette Score: {sil_score}')\n",
        "\n",
        "# Plot with updated clustering\n",
        "plt.figure(figsize=(12, 12))\n",
        "plt.pcolor(som.distance_map().T, cmap='coolwarm')\n",
        "plt.colorbar()\n",
        "\n",
        "colors = ['red', 'blue', 'green', 'purple', 'orange']\n",
        "for i, (x, y) in enumerate(winning_nodes):\n",
        "    x_offset = np.random.uniform(-0.3, 0.3)\n",
        "    y_offset = np.random.uniform(-0.3, 0.3)\n",
        "    plt.text(x + 0.5 + x_offset, y + 0.5 + y_offset, seasonality_feature['PROVINCE'][i],\n",
        "             ha='center', va='center', bbox=dict(facecolor=colors[seasonality_feature['Cluster'][i] % len(colors)], alpha=0.5), fontsize=8)\n",
        "\n",
        "plt.title('SOM with GMM Clustering Based on Seasonality')\n",
        "plt.show()"
      ]
    },
    {
      "cell_type": "code",
      "execution_count": 33,
      "id": "8bbe2fdf",
      "metadata": {
        "id": "8bbe2fdf"
      },
      "outputs": [],
      "source": [
        "df = df.merge(seasonality_feature[['PROVINCE', 'Cluster']], on='PROVINCE', how='left')\n",
        "\n",
        "# Manage any missing cluster entries, e.g., fill with a value like -1 for clarity\n",
        "df['Cluster'].fillna(-1, inplace=True)"
      ]
    },
    {
      "cell_type": "code",
      "execution_count": 34,
      "id": "a293a9e5",
      "metadata": {
        "colab": {
          "base_uri": "https://localhost:8080/"
        },
        "id": "a293a9e5",
        "outputId": "6ea7ba9d-ab7d-4a0f-92ce-048a933ced9f"
      },
      "outputs": [
        {
          "output_type": "stream",
          "name": "stdout",
          "text": [
            "         _id          Disease  Year       PROVINCE  Week_no     Count  \\\n",
            "0       1326  Hand Foot Mouth  2013  Amnat Charoen        1  0.010090   \n",
            "1       1327  Hand Foot Mouth  2013  Amnat Charoen        2  0.007848   \n",
            "2       1328  Hand Foot Mouth  2013  Amnat Charoen        3  0.011211   \n",
            "3       1329  Hand Foot Mouth  2013  Amnat Charoen        4  0.003363   \n",
            "4       1330  Hand Foot Mouth  2013  Amnat Charoen        5  0.002242   \n",
            "...      ...              ...   ...            ...      ...       ...   \n",
            "40189  37434  Hand Foot Mouth  2022       Yasothon       48  0.008969   \n",
            "40190  37435  Hand Foot Mouth  2022       Yasothon       49  0.006726   \n",
            "40191  37436  Hand Foot Mouth  2022       Yasothon       50  0.004484   \n",
            "40192  37437  Hand Foot Mouth  2022       Yasothon       51  0.007848   \n",
            "40193  37438  Hand Foot Mouth  2022       Yasothon       52  0.010090   \n",
            "\n",
            "       Count_lag1  Count_lag2  Std_4weeks Year_Group  Cluster  \n",
            "0        0.000000    0.000000    0.000000     2013-1        1  \n",
            "1        0.010090    0.000000    0.001585     2013-2        1  \n",
            "2        0.007848    0.010090    0.001712     2013-3        1  \n",
            "3        0.011211    0.007848    0.003471     2013-4        1  \n",
            "4        0.003363    0.011211    0.004144     2013-5        1  \n",
            "...           ...         ...         ...        ...      ...  \n",
            "40189    0.016816    0.010090    0.003774    2022-48        1  \n",
            "40190    0.008969    0.016816    0.004342    2022-49        1  \n",
            "40191    0.006726    0.008969    0.005367    2022-50        1  \n",
            "40192    0.004484    0.006726    0.001915    2022-51        1  \n",
            "40193    0.007848    0.004484    0.002334    2022-52        1  \n",
            "\n",
            "[40194 rows x 11 columns]\n",
            "Index(['_id', 'Disease', 'Year', 'PROVINCE', 'Week_no', 'Count', 'Count_lag1',\n",
            "       'Count_lag2', 'Std_4weeks', 'Year_Group', 'Cluster'],\n",
            "      dtype='object')\n"
          ]
        }
      ],
      "source": [
        "print(df)\n",
        "print(df.columns)"
      ]
    },
    {
      "cell_type": "code",
      "execution_count": 241,
      "id": "6e3c80ec",
      "metadata": {
        "colab": {
          "base_uri": "https://localhost:8080/"
        },
        "id": "6e3c80ec",
        "outputId": "dfb2c605-ebf9-4f72-af6a-004e16fe49b9"
      },
      "outputs": [
        {
          "output_type": "stream",
          "name": "stdout",
          "text": [
            "         _id          Disease Year_Group  Year       PROVINCE  Cluster  \\\n",
            "0       1326  Hand Foot Mouth  2013-2022  2013  Amnat Charoen        1   \n",
            "1       1327  Hand Foot Mouth  2013-2022  2013  Amnat Charoen        1   \n",
            "2       1328  Hand Foot Mouth  2013-2022  2013  Amnat Charoen        1   \n",
            "3       1329  Hand Foot Mouth  2013-2022  2013  Amnat Charoen        1   \n",
            "4       1330  Hand Foot Mouth  2013-2022  2013  Amnat Charoen        1   \n",
            "...      ...              ...        ...   ...            ...      ...   \n",
            "40189  37434  Hand Foot Mouth  2013-2022  2022       Yasothon        1   \n",
            "40190  37435  Hand Foot Mouth  2013-2022  2022       Yasothon        1   \n",
            "40191  37436  Hand Foot Mouth  2013-2022  2022       Yasothon        1   \n",
            "40192  37437  Hand Foot Mouth  2013-2022  2022       Yasothon        1   \n",
            "40193  37438  Hand Foot Mouth  2013-2022  2022       Yasothon        1   \n",
            "\n",
            "       Week_no  Count_lag1  Count_lag2  Std_4weeks     Count  \n",
            "0            1    0.000000    0.000000    0.000000  0.010090  \n",
            "1            2    0.010090    0.000000    0.001585  0.007848  \n",
            "2            3    0.007848    0.010090    0.001712  0.011211  \n",
            "3            4    0.011211    0.007848    0.003471  0.003363  \n",
            "4            5    0.003363    0.011211    0.004144  0.002242  \n",
            "...        ...         ...         ...         ...       ...  \n",
            "40189       48    0.016816    0.010090    0.003774  0.008969  \n",
            "40190       49    0.008969    0.016816    0.004342  0.006726  \n",
            "40191       50    0.006726    0.008969    0.005367  0.004484  \n",
            "40192       51    0.004484    0.006726    0.001915  0.007848  \n",
            "40193       52    0.007848    0.004484    0.002334  0.010090  \n",
            "\n",
            "[40194 rows x 11 columns]\n"
          ]
        }
      ],
      "source": [
        "column_order = ['_id', 'Disease', 'Year_Group', 'Year', 'PROVINCE', 'Cluster', 'Week_no', 'Count_lag1',\n",
        "       'Count_lag2', 'Std_4weeks', 'Count']\n",
        "train_set = df.copy()\n",
        "train_set = train_set[column_order]\n",
        "print(train_set)"
      ]
    },
    {
      "cell_type": "code",
      "execution_count": 242,
      "id": "0c7cfa71",
      "metadata": {
        "id": "0c7cfa71"
      },
      "outputs": [],
      "source": [
        "le = LabelEncoder()\n",
        "train_set['PROVINCE'] = le.fit_transform(df['PROVINCE'])"
      ]
    },
    {
      "cell_type": "code",
      "execution_count": 243,
      "id": "b26a63b3",
      "metadata": {
        "colab": {
          "base_uri": "https://localhost:8080/"
        },
        "id": "b26a63b3",
        "outputId": "5be79712-2b98-4dbb-9eab-5320bfdce5b3"
      },
      "outputs": [
        {
          "output_type": "stream",
          "name": "stdout",
          "text": [
            "       PROVINCE  Cluster  Week_no  Count_lag1  Count_lag2  Std_4weeks  \\\n",
            "1044          2        0        1    0.000000    0.000000    0.000000   \n",
            "1045          2        0        2    0.069507    0.000000    0.026160   \n",
            "1046          2        0        3    0.106502    0.069507    0.019493   \n",
            "1047          2        0        4    0.098655    0.106502    0.016100   \n",
            "1048          2        0        5    0.096413    0.098655    0.024121   \n",
            "...         ...      ...      ...         ...         ...         ...   \n",
            "17221        32        1       48    0.014574    0.012332    0.003171   \n",
            "17222        32        1       49    0.014574    0.014574    0.001295   \n",
            "17223        32        1       50    0.012332    0.014574    0.003704   \n",
            "17224        32        1       51    0.006726    0.012332    0.003704   \n",
            "17225        32        1       52    0.014574    0.006726    0.003486   \n",
            "\n",
            "          Count  \n",
            "1044   0.069507  \n",
            "1045   0.106502  \n",
            "1046   0.098655  \n",
            "1047   0.096413  \n",
            "1048   0.147982  \n",
            "...         ...  \n",
            "17221  0.014574  \n",
            "17222  0.012332  \n",
            "17223  0.006726  \n",
            "17224  0.014574  \n",
            "17225  0.013453  \n",
            "\n",
            "[40194 rows x 7 columns]\n"
          ]
        }
      ],
      "source": [
        "train_set = train_set.sort_values(by='_id')\n",
        "train_set = train_set.drop('Disease', axis=1)\n",
        "train_set = train_set.drop('Year_Group', axis=1)\n",
        "train_set = train_set.drop('_id', axis=1)\n",
        "train_set = train_set.drop('Year', axis=1)\n",
        "print(train_set)"
      ]
    },
    {
      "cell_type": "code",
      "execution_count": 244,
      "id": "765770da",
      "metadata": {
        "id": "765770da"
      },
      "outputs": [],
      "source": [
        "def create_sequences(data, sequence_length, feature_columns):\n",
        "    sequences = []\n",
        "    labels = []\n",
        "    for i in range(len(data) - sequence_length):\n",
        "        seq_data = data[feature_columns].iloc[i:i + sequence_length].values\n",
        "        label = data['Count'].iloc[i + sequence_length]  # Use Count as the target feature\n",
        "        sequences.append(seq_data)\n",
        "        labels.append(label)\n",
        "    return np.array(sequences), np.array(labels)"
      ]
    },
    {
      "cell_type": "code",
      "execution_count": 245,
      "id": "5ef56562",
      "metadata": {
        "id": "5ef56562"
      },
      "outputs": [],
      "source": [
        "feature_columns = ['PROVINCE', 'Cluster', 'Week_no', 'Count_lag1',\n",
        "            'Count_lag2', 'Std_4weeks', 'Count']\n",
        "sequence_length = 53\n",
        "X, y = create_sequences(train_set, sequence_length, feature_columns)"
      ]
    },
    {
      "cell_type": "code",
      "execution_count": 246,
      "id": "28bdb48a",
      "metadata": {
        "id": "28bdb48a"
      },
      "outputs": [],
      "source": [
        "train_size = int(0.8 * len(X))\n",
        "X_train, X_test = X[:train_size], X[train_size:]\n",
        "y_train, y_test = y[:train_size], y[train_size:]"
      ]
    },
    {
      "cell_type": "code",
      "execution_count": 247,
      "id": "tqxl6kL5CRL1",
      "metadata": {
        "colab": {
          "base_uri": "https://localhost:8080/"
        },
        "id": "tqxl6kL5CRL1",
        "outputId": "17e58eb0-3c54-4258-df4e-29c5501c3ce4"
      },
      "outputs": [
        {
          "output_type": "stream",
          "name": "stdout",
          "text": [
            "[[[7.50000000e+01 1.00000000e+00 3.10000000e+01 ... 2.24215247e-03\n",
            "   6.47253665e-04 2.24215247e-03]\n",
            "  [7.50000000e+01 1.00000000e+00 3.20000000e+01 ... 1.12107623e-03\n",
            "   5.81628640e-03 1.34529148e-02]\n",
            "  [7.50000000e+01 1.00000000e+00 3.30000000e+01 ... 2.24215247e-03\n",
            "   1.45596112e-02 3.25112108e-02]\n",
            "  ...\n",
            "  [3.20000000e+01 1.00000000e+00 2.90000000e+01 ... 3.36322870e-03\n",
            "   6.47253665e-04 3.36322870e-03]\n",
            "  [3.20000000e+01 1.00000000e+00 3.00000000e+01 ... 2.24215247e-03\n",
            "   2.48582487e-03 7.84753363e-03]\n",
            "  [3.20000000e+01 1.00000000e+00 3.10000000e+01 ... 3.36322870e-03\n",
            "   2.94838076e-03 7.84753363e-03]]\n",
            "\n",
            " [[7.50000000e+01 1.00000000e+00 3.20000000e+01 ... 1.12107623e-03\n",
            "   5.81628640e-03 1.34529148e-02]\n",
            "  [7.50000000e+01 1.00000000e+00 3.30000000e+01 ... 2.24215247e-03\n",
            "   1.45596112e-02 3.25112108e-02]\n",
            "  [7.50000000e+01 1.00000000e+00 3.40000000e+01 ... 1.34529148e-02\n",
            "   2.89894505e-02 6.83856502e-02]\n",
            "  ...\n",
            "  [3.20000000e+01 1.00000000e+00 3.00000000e+01 ... 2.24215247e-03\n",
            "   2.48582487e-03 7.84753363e-03]\n",
            "  [3.20000000e+01 1.00000000e+00 3.10000000e+01 ... 3.36322870e-03\n",
            "   2.94838076e-03 7.84753363e-03]\n",
            "  [3.20000000e+01 1.00000000e+00 3.20000000e+01 ... 7.84753363e-03\n",
            "   9.39633106e-03 2.46636771e-02]]\n",
            "\n",
            " [[7.50000000e+01 1.00000000e+00 3.30000000e+01 ... 2.24215247e-03\n",
            "   1.45596112e-02 3.25112108e-02]\n",
            "  [7.50000000e+01 1.00000000e+00 3.40000000e+01 ... 1.34529148e-02\n",
            "   2.89894505e-02 6.83856502e-02]\n",
            "  [7.50000000e+01 1.00000000e+00 3.50000000e+01 ... 3.25112108e-02\n",
            "   3.08024068e-02 7.95964126e-02]\n",
            "  ...\n",
            "  [3.20000000e+01 1.00000000e+00 3.10000000e+01 ... 3.36322870e-03\n",
            "   2.94838076e-03 7.84753363e-03]\n",
            "  [3.20000000e+01 1.00000000e+00 3.20000000e+01 ... 7.84753363e-03\n",
            "   9.39633106e-03 2.46636771e-02]\n",
            "  [3.20000000e+01 1.00000000e+00 3.30000000e+01 ... 7.84753363e-03\n",
            "   1.61002316e-02 4.14798206e-02]]]\n"
          ]
        }
      ],
      "source": [
        "print(X_test[:3])"
      ]
    },
    {
      "cell_type": "code",
      "execution_count": 248,
      "id": "c1047421",
      "metadata": {
        "colab": {
          "base_uri": "https://localhost:8080/"
        },
        "id": "c1047421",
        "outputId": "1671e42b-d977-4f4e-b8ff-890707621b71"
      },
      "outputs": [
        {
          "output_type": "stream",
          "name": "stderr",
          "text": [
            "/usr/local/lib/python3.10/dist-packages/keras/src/layers/rnn/rnn.py:204: UserWarning: Do not pass an `input_shape`/`input_dim` argument to a layer. When using Sequential models, prefer using an `Input(shape)` object as the first layer in the model instead.\n",
            "  super().__init__(**kwargs)\n"
          ]
        }
      ],
      "source": [
        "regressor = Sequential()\n",
        "\n",
        "regressor.add(LSTM(units = 77, return_sequences = True, input_shape = (X.shape[1], X.shape[2])))\n",
        "regressor.add(Dropout(0.2))\n",
        "\n",
        "regressor.add(LSTM(units = 77, return_sequences = True))\n",
        "regressor.add(Dropout(0.2))\n",
        "\n",
        "regressor.add(LSTM(units = 77, return_sequences = True))\n",
        "regressor.add(Dropout(0.2))\n",
        "\n",
        "regressor.add(LSTM(units = 77))\n",
        "regressor.add(Dropout(0.2))\n",
        "\n",
        "regressor.add(Dense(units = 1, activation='relu'))\n",
        "\n",
        "regressor.compile(optimizer = 'adam', loss = 'mean_squared_error')"
      ]
    },
    {
      "cell_type": "code",
      "execution_count": 249,
      "id": "977e158a",
      "metadata": {
        "colab": {
          "base_uri": "https://localhost:8080/",
          "height": 596
        },
        "id": "977e158a",
        "outputId": "5022a70b-9f40-47f9-af09-75fb6dd0465c"
      },
      "outputs": [
        {
          "output_type": "stream",
          "name": "stdout",
          "text": [
            "Epoch 1/300\n",
            "\u001b[1m606/606\u001b[0m \u001b[32m━━━━━━━━━━━━━━━━━━━━\u001b[0m\u001b[37m\u001b[0m \u001b[1m12s\u001b[0m 15ms/step - loss: 0.0033 - val_loss: 0.0024\n",
            "Epoch 2/300\n",
            "\u001b[1m606/606\u001b[0m \u001b[32m━━━━━━━━━━━━━━━━━━━━\u001b[0m\u001b[37m\u001b[0m \u001b[1m10s\u001b[0m 15ms/step - loss: 8.5693e-04 - val_loss: 0.0023\n",
            "Epoch 3/300\n",
            "\u001b[1m606/606\u001b[0m \u001b[32m━━━━━━━━━━━━━━━━━━━━\u001b[0m\u001b[37m\u001b[0m \u001b[1m11s\u001b[0m 16ms/step - loss: 7.0079e-04 - val_loss: 0.0025\n",
            "Epoch 4/300\n",
            "\u001b[1m606/606\u001b[0m \u001b[32m━━━━━━━━━━━━━━━━━━━━\u001b[0m\u001b[37m\u001b[0m \u001b[1m9s\u001b[0m 13ms/step - loss: 6.6031e-04 - val_loss: 0.0023\n",
            "Epoch 5/300\n",
            "\u001b[1m606/606\u001b[0m \u001b[32m━━━━━━━━━━━━━━━━━━━━\u001b[0m\u001b[37m\u001b[0m \u001b[1m10s\u001b[0m 16ms/step - loss: 5.4720e-04 - val_loss: 0.0021\n",
            "Epoch 6/300\n",
            "\u001b[1m606/606\u001b[0m \u001b[32m━━━━━━━━━━━━━━━━━━━━\u001b[0m\u001b[37m\u001b[0m \u001b[1m10s\u001b[0m 15ms/step - loss: 5.3431e-04 - val_loss: 0.0020\n",
            "Epoch 7/300\n",
            "\u001b[1m506/606\u001b[0m \u001b[32m━━━━━━━━━━━━━━━━\u001b[0m\u001b[37m━━━━\u001b[0m \u001b[1m1s\u001b[0m 13ms/step - loss: 4.4160e-04"
          ]
        },
        {
          "output_type": "error",
          "ename": "KeyboardInterrupt",
          "evalue": "",
          "traceback": [
            "\u001b[0;31m---------------------------------------------------------------------------\u001b[0m",
            "\u001b[0;31mKeyboardInterrupt\u001b[0m                         Traceback (most recent call last)",
            "\u001b[0;32m<ipython-input-249-e070635ad530>\u001b[0m in \u001b[0;36m<cell line: 1>\u001b[0;34m()\u001b[0m\n\u001b[0;32m----> 1\u001b[0;31m \u001b[0mregressor\u001b[0m\u001b[0;34m.\u001b[0m\u001b[0mfit\u001b[0m\u001b[0;34m(\u001b[0m\u001b[0mX_train\u001b[0m\u001b[0;34m,\u001b[0m \u001b[0my_train\u001b[0m\u001b[0;34m,\u001b[0m \u001b[0mepochs\u001b[0m\u001b[0;34m=\u001b[0m\u001b[0;36m300\u001b[0m\u001b[0;34m,\u001b[0m \u001b[0mbatch_size\u001b[0m\u001b[0;34m=\u001b[0m\u001b[0;36m53\u001b[0m\u001b[0;34m,\u001b[0m \u001b[0mvalidation_data\u001b[0m\u001b[0;34m=\u001b[0m\u001b[0;34m(\u001b[0m\u001b[0mX_test\u001b[0m\u001b[0;34m,\u001b[0m \u001b[0my_test\u001b[0m\u001b[0;34m)\u001b[0m\u001b[0;34m)\u001b[0m\u001b[0;34m\u001b[0m\u001b[0;34m\u001b[0m\u001b[0m\n\u001b[0m\u001b[1;32m      2\u001b[0m \u001b[0mloss\u001b[0m \u001b[0;34m=\u001b[0m \u001b[0mregressor\u001b[0m\u001b[0;34m.\u001b[0m\u001b[0mevaluate\u001b[0m\u001b[0;34m(\u001b[0m\u001b[0mX_test\u001b[0m\u001b[0;34m,\u001b[0m \u001b[0my_test\u001b[0m\u001b[0;34m)\u001b[0m\u001b[0;34m\u001b[0m\u001b[0;34m\u001b[0m\u001b[0m\n\u001b[1;32m      3\u001b[0m \u001b[0mprint\u001b[0m\u001b[0;34m(\u001b[0m\u001b[0;34mf'Test Loss: {loss}'\u001b[0m\u001b[0;34m)\u001b[0m\u001b[0;34m\u001b[0m\u001b[0;34m\u001b[0m\u001b[0m\n",
            "\u001b[0;32m/usr/local/lib/python3.10/dist-packages/keras/src/utils/traceback_utils.py\u001b[0m in \u001b[0;36merror_handler\u001b[0;34m(*args, **kwargs)\u001b[0m\n\u001b[1;32m    115\u001b[0m         \u001b[0mfiltered_tb\u001b[0m \u001b[0;34m=\u001b[0m \u001b[0;32mNone\u001b[0m\u001b[0;34m\u001b[0m\u001b[0;34m\u001b[0m\u001b[0m\n\u001b[1;32m    116\u001b[0m         \u001b[0;32mtry\u001b[0m\u001b[0;34m:\u001b[0m\u001b[0;34m\u001b[0m\u001b[0;34m\u001b[0m\u001b[0m\n\u001b[0;32m--> 117\u001b[0;31m             \u001b[0;32mreturn\u001b[0m \u001b[0mfn\u001b[0m\u001b[0;34m(\u001b[0m\u001b[0;34m*\u001b[0m\u001b[0margs\u001b[0m\u001b[0;34m,\u001b[0m \u001b[0;34m**\u001b[0m\u001b[0mkwargs\u001b[0m\u001b[0;34m)\u001b[0m\u001b[0;34m\u001b[0m\u001b[0;34m\u001b[0m\u001b[0m\n\u001b[0m\u001b[1;32m    118\u001b[0m         \u001b[0;32mexcept\u001b[0m \u001b[0mException\u001b[0m \u001b[0;32mas\u001b[0m \u001b[0me\u001b[0m\u001b[0;34m:\u001b[0m\u001b[0;34m\u001b[0m\u001b[0;34m\u001b[0m\u001b[0m\n\u001b[1;32m    119\u001b[0m             \u001b[0mfiltered_tb\u001b[0m \u001b[0;34m=\u001b[0m \u001b[0m_process_traceback_frames\u001b[0m\u001b[0;34m(\u001b[0m\u001b[0me\u001b[0m\u001b[0;34m.\u001b[0m\u001b[0m__traceback__\u001b[0m\u001b[0;34m)\u001b[0m\u001b[0;34m\u001b[0m\u001b[0;34m\u001b[0m\u001b[0m\n",
            "\u001b[0;32m/usr/local/lib/python3.10/dist-packages/keras/src/backend/tensorflow/trainer.py\u001b[0m in \u001b[0;36mfit\u001b[0;34m(self, x, y, batch_size, epochs, verbose, callbacks, validation_split, validation_data, shuffle, class_weight, sample_weight, initial_epoch, steps_per_epoch, validation_steps, validation_batch_size, validation_freq)\u001b[0m\n\u001b[1;32m    316\u001b[0m                 \u001b[0;32mfor\u001b[0m \u001b[0mstep\u001b[0m\u001b[0;34m,\u001b[0m \u001b[0miterator\u001b[0m \u001b[0;32min\u001b[0m \u001b[0mepoch_iterator\u001b[0m\u001b[0;34m.\u001b[0m\u001b[0menumerate_epoch\u001b[0m\u001b[0;34m(\u001b[0m\u001b[0;34m)\u001b[0m\u001b[0;34m:\u001b[0m\u001b[0;34m\u001b[0m\u001b[0;34m\u001b[0m\u001b[0m\n\u001b[1;32m    317\u001b[0m                     \u001b[0mcallbacks\u001b[0m\u001b[0;34m.\u001b[0m\u001b[0mon_train_batch_begin\u001b[0m\u001b[0;34m(\u001b[0m\u001b[0mstep\u001b[0m\u001b[0;34m)\u001b[0m\u001b[0;34m\u001b[0m\u001b[0;34m\u001b[0m\u001b[0m\n\u001b[0;32m--> 318\u001b[0;31m                     \u001b[0mlogs\u001b[0m \u001b[0;34m=\u001b[0m \u001b[0mself\u001b[0m\u001b[0;34m.\u001b[0m\u001b[0mtrain_function\u001b[0m\u001b[0;34m(\u001b[0m\u001b[0miterator\u001b[0m\u001b[0;34m)\u001b[0m\u001b[0;34m\u001b[0m\u001b[0;34m\u001b[0m\u001b[0m\n\u001b[0m\u001b[1;32m    319\u001b[0m                     \u001b[0mlogs\u001b[0m \u001b[0;34m=\u001b[0m \u001b[0mself\u001b[0m\u001b[0;34m.\u001b[0m\u001b[0m_pythonify_logs\u001b[0m\u001b[0;34m(\u001b[0m\u001b[0mlogs\u001b[0m\u001b[0;34m)\u001b[0m\u001b[0;34m\u001b[0m\u001b[0;34m\u001b[0m\u001b[0m\n\u001b[1;32m    320\u001b[0m                     \u001b[0mcallbacks\u001b[0m\u001b[0;34m.\u001b[0m\u001b[0mon_train_batch_end\u001b[0m\u001b[0;34m(\u001b[0m\u001b[0mstep\u001b[0m\u001b[0;34m,\u001b[0m \u001b[0mlogs\u001b[0m\u001b[0;34m)\u001b[0m\u001b[0;34m\u001b[0m\u001b[0;34m\u001b[0m\u001b[0m\n",
            "\u001b[0;32m/usr/local/lib/python3.10/dist-packages/tensorflow/python/util/traceback_utils.py\u001b[0m in \u001b[0;36merror_handler\u001b[0;34m(*args, **kwargs)\u001b[0m\n\u001b[1;32m    148\u001b[0m     \u001b[0mfiltered_tb\u001b[0m \u001b[0;34m=\u001b[0m \u001b[0;32mNone\u001b[0m\u001b[0;34m\u001b[0m\u001b[0;34m\u001b[0m\u001b[0m\n\u001b[1;32m    149\u001b[0m     \u001b[0;32mtry\u001b[0m\u001b[0;34m:\u001b[0m\u001b[0;34m\u001b[0m\u001b[0;34m\u001b[0m\u001b[0m\n\u001b[0;32m--> 150\u001b[0;31m       \u001b[0;32mreturn\u001b[0m \u001b[0mfn\u001b[0m\u001b[0;34m(\u001b[0m\u001b[0;34m*\u001b[0m\u001b[0margs\u001b[0m\u001b[0;34m,\u001b[0m \u001b[0;34m**\u001b[0m\u001b[0mkwargs\u001b[0m\u001b[0;34m)\u001b[0m\u001b[0;34m\u001b[0m\u001b[0;34m\u001b[0m\u001b[0m\n\u001b[0m\u001b[1;32m    151\u001b[0m     \u001b[0;32mexcept\u001b[0m \u001b[0mException\u001b[0m \u001b[0;32mas\u001b[0m \u001b[0me\u001b[0m\u001b[0;34m:\u001b[0m\u001b[0;34m\u001b[0m\u001b[0;34m\u001b[0m\u001b[0m\n\u001b[1;32m    152\u001b[0m       \u001b[0mfiltered_tb\u001b[0m \u001b[0;34m=\u001b[0m \u001b[0m_process_traceback_frames\u001b[0m\u001b[0;34m(\u001b[0m\u001b[0me\u001b[0m\u001b[0;34m.\u001b[0m\u001b[0m__traceback__\u001b[0m\u001b[0;34m)\u001b[0m\u001b[0;34m\u001b[0m\u001b[0;34m\u001b[0m\u001b[0m\n",
            "\u001b[0;32m/usr/local/lib/python3.10/dist-packages/tensorflow/python/eager/polymorphic_function/polymorphic_function.py\u001b[0m in \u001b[0;36m__call__\u001b[0;34m(self, *args, **kwds)\u001b[0m\n\u001b[1;32m    831\u001b[0m \u001b[0;34m\u001b[0m\u001b[0m\n\u001b[1;32m    832\u001b[0m       \u001b[0;32mwith\u001b[0m \u001b[0mOptionalXlaContext\u001b[0m\u001b[0;34m(\u001b[0m\u001b[0mself\u001b[0m\u001b[0;34m.\u001b[0m\u001b[0m_jit_compile\u001b[0m\u001b[0;34m)\u001b[0m\u001b[0;34m:\u001b[0m\u001b[0;34m\u001b[0m\u001b[0;34m\u001b[0m\u001b[0m\n\u001b[0;32m--> 833\u001b[0;31m         \u001b[0mresult\u001b[0m \u001b[0;34m=\u001b[0m \u001b[0mself\u001b[0m\u001b[0;34m.\u001b[0m\u001b[0m_call\u001b[0m\u001b[0;34m(\u001b[0m\u001b[0;34m*\u001b[0m\u001b[0margs\u001b[0m\u001b[0;34m,\u001b[0m \u001b[0;34m**\u001b[0m\u001b[0mkwds\u001b[0m\u001b[0;34m)\u001b[0m\u001b[0;34m\u001b[0m\u001b[0;34m\u001b[0m\u001b[0m\n\u001b[0m\u001b[1;32m    834\u001b[0m \u001b[0;34m\u001b[0m\u001b[0m\n\u001b[1;32m    835\u001b[0m       \u001b[0mnew_tracing_count\u001b[0m \u001b[0;34m=\u001b[0m \u001b[0mself\u001b[0m\u001b[0;34m.\u001b[0m\u001b[0mexperimental_get_tracing_count\u001b[0m\u001b[0;34m(\u001b[0m\u001b[0;34m)\u001b[0m\u001b[0;34m\u001b[0m\u001b[0;34m\u001b[0m\u001b[0m\n",
            "\u001b[0;32m/usr/local/lib/python3.10/dist-packages/tensorflow/python/eager/polymorphic_function/polymorphic_function.py\u001b[0m in \u001b[0;36m_call\u001b[0;34m(self, *args, **kwds)\u001b[0m\n\u001b[1;32m    876\u001b[0m       \u001b[0;31m# In this case we have not created variables on the first call. So we can\u001b[0m\u001b[0;34m\u001b[0m\u001b[0;34m\u001b[0m\u001b[0m\n\u001b[1;32m    877\u001b[0m       \u001b[0;31m# run the first trace but we should fail if variables are created.\u001b[0m\u001b[0;34m\u001b[0m\u001b[0;34m\u001b[0m\u001b[0m\n\u001b[0;32m--> 878\u001b[0;31m       results = tracing_compilation.call_function(\n\u001b[0m\u001b[1;32m    879\u001b[0m           \u001b[0margs\u001b[0m\u001b[0;34m,\u001b[0m \u001b[0mkwds\u001b[0m\u001b[0;34m,\u001b[0m \u001b[0mself\u001b[0m\u001b[0;34m.\u001b[0m\u001b[0m_variable_creation_config\u001b[0m\u001b[0;34m\u001b[0m\u001b[0;34m\u001b[0m\u001b[0m\n\u001b[1;32m    880\u001b[0m       )\n",
            "\u001b[0;32m/usr/local/lib/python3.10/dist-packages/tensorflow/python/eager/polymorphic_function/tracing_compilation.py\u001b[0m in \u001b[0;36mcall_function\u001b[0;34m(args, kwargs, tracing_options)\u001b[0m\n\u001b[1;32m    137\u001b[0m   \u001b[0mbound_args\u001b[0m \u001b[0;34m=\u001b[0m \u001b[0mfunction\u001b[0m\u001b[0;34m.\u001b[0m\u001b[0mfunction_type\u001b[0m\u001b[0;34m.\u001b[0m\u001b[0mbind\u001b[0m\u001b[0;34m(\u001b[0m\u001b[0;34m*\u001b[0m\u001b[0margs\u001b[0m\u001b[0;34m,\u001b[0m \u001b[0;34m**\u001b[0m\u001b[0mkwargs\u001b[0m\u001b[0;34m)\u001b[0m\u001b[0;34m\u001b[0m\u001b[0;34m\u001b[0m\u001b[0m\n\u001b[1;32m    138\u001b[0m   \u001b[0mflat_inputs\u001b[0m \u001b[0;34m=\u001b[0m \u001b[0mfunction\u001b[0m\u001b[0;34m.\u001b[0m\u001b[0mfunction_type\u001b[0m\u001b[0;34m.\u001b[0m\u001b[0munpack_inputs\u001b[0m\u001b[0;34m(\u001b[0m\u001b[0mbound_args\u001b[0m\u001b[0;34m)\u001b[0m\u001b[0;34m\u001b[0m\u001b[0;34m\u001b[0m\u001b[0m\n\u001b[0;32m--> 139\u001b[0;31m   return function._call_flat(  # pylint: disable=protected-access\n\u001b[0m\u001b[1;32m    140\u001b[0m       \u001b[0mflat_inputs\u001b[0m\u001b[0;34m,\u001b[0m \u001b[0mcaptured_inputs\u001b[0m\u001b[0;34m=\u001b[0m\u001b[0mfunction\u001b[0m\u001b[0;34m.\u001b[0m\u001b[0mcaptured_inputs\u001b[0m\u001b[0;34m\u001b[0m\u001b[0;34m\u001b[0m\u001b[0m\n\u001b[1;32m    141\u001b[0m   )\n",
            "\u001b[0;32m/usr/local/lib/python3.10/dist-packages/tensorflow/python/eager/polymorphic_function/concrete_function.py\u001b[0m in \u001b[0;36m_call_flat\u001b[0;34m(self, tensor_inputs, captured_inputs)\u001b[0m\n\u001b[1;32m   1320\u001b[0m         and executing_eagerly):\n\u001b[1;32m   1321\u001b[0m       \u001b[0;31m# No tape is watching; skip to running the function.\u001b[0m\u001b[0;34m\u001b[0m\u001b[0;34m\u001b[0m\u001b[0m\n\u001b[0;32m-> 1322\u001b[0;31m       \u001b[0;32mreturn\u001b[0m \u001b[0mself\u001b[0m\u001b[0;34m.\u001b[0m\u001b[0m_inference_function\u001b[0m\u001b[0;34m.\u001b[0m\u001b[0mcall_preflattened\u001b[0m\u001b[0;34m(\u001b[0m\u001b[0margs\u001b[0m\u001b[0;34m)\u001b[0m\u001b[0;34m\u001b[0m\u001b[0;34m\u001b[0m\u001b[0m\n\u001b[0m\u001b[1;32m   1323\u001b[0m     forward_backward = self._select_forward_and_backward_functions(\n\u001b[1;32m   1324\u001b[0m         \u001b[0margs\u001b[0m\u001b[0;34m,\u001b[0m\u001b[0;34m\u001b[0m\u001b[0;34m\u001b[0m\u001b[0m\n",
            "\u001b[0;32m/usr/local/lib/python3.10/dist-packages/tensorflow/python/eager/polymorphic_function/atomic_function.py\u001b[0m in \u001b[0;36mcall_preflattened\u001b[0;34m(self, args)\u001b[0m\n\u001b[1;32m    214\u001b[0m   \u001b[0;32mdef\u001b[0m \u001b[0mcall_preflattened\u001b[0m\u001b[0;34m(\u001b[0m\u001b[0mself\u001b[0m\u001b[0;34m,\u001b[0m \u001b[0margs\u001b[0m\u001b[0;34m:\u001b[0m \u001b[0mSequence\u001b[0m\u001b[0;34m[\u001b[0m\u001b[0mcore\u001b[0m\u001b[0;34m.\u001b[0m\u001b[0mTensor\u001b[0m\u001b[0;34m]\u001b[0m\u001b[0;34m)\u001b[0m \u001b[0;34m->\u001b[0m \u001b[0mAny\u001b[0m\u001b[0;34m:\u001b[0m\u001b[0;34m\u001b[0m\u001b[0;34m\u001b[0m\u001b[0m\n\u001b[1;32m    215\u001b[0m     \u001b[0;34m\"\"\"Calls with flattened tensor inputs and returns the structured output.\"\"\"\u001b[0m\u001b[0;34m\u001b[0m\u001b[0;34m\u001b[0m\u001b[0m\n\u001b[0;32m--> 216\u001b[0;31m     \u001b[0mflat_outputs\u001b[0m \u001b[0;34m=\u001b[0m \u001b[0mself\u001b[0m\u001b[0;34m.\u001b[0m\u001b[0mcall_flat\u001b[0m\u001b[0;34m(\u001b[0m\u001b[0;34m*\u001b[0m\u001b[0margs\u001b[0m\u001b[0;34m)\u001b[0m\u001b[0;34m\u001b[0m\u001b[0;34m\u001b[0m\u001b[0m\n\u001b[0m\u001b[1;32m    217\u001b[0m     \u001b[0;32mreturn\u001b[0m \u001b[0mself\u001b[0m\u001b[0;34m.\u001b[0m\u001b[0mfunction_type\u001b[0m\u001b[0;34m.\u001b[0m\u001b[0mpack_output\u001b[0m\u001b[0;34m(\u001b[0m\u001b[0mflat_outputs\u001b[0m\u001b[0;34m)\u001b[0m\u001b[0;34m\u001b[0m\u001b[0;34m\u001b[0m\u001b[0m\n\u001b[1;32m    218\u001b[0m \u001b[0;34m\u001b[0m\u001b[0m\n",
            "\u001b[0;32m/usr/local/lib/python3.10/dist-packages/tensorflow/python/eager/polymorphic_function/atomic_function.py\u001b[0m in \u001b[0;36mcall_flat\u001b[0;34m(self, *args)\u001b[0m\n\u001b[1;32m    249\u001b[0m         \u001b[0;32mwith\u001b[0m \u001b[0mrecord\u001b[0m\u001b[0;34m.\u001b[0m\u001b[0mstop_recording\u001b[0m\u001b[0;34m(\u001b[0m\u001b[0;34m)\u001b[0m\u001b[0;34m:\u001b[0m\u001b[0;34m\u001b[0m\u001b[0;34m\u001b[0m\u001b[0m\n\u001b[1;32m    250\u001b[0m           \u001b[0;32mif\u001b[0m \u001b[0mself\u001b[0m\u001b[0;34m.\u001b[0m\u001b[0m_bound_context\u001b[0m\u001b[0;34m.\u001b[0m\u001b[0mexecuting_eagerly\u001b[0m\u001b[0;34m(\u001b[0m\u001b[0;34m)\u001b[0m\u001b[0;34m:\u001b[0m\u001b[0;34m\u001b[0m\u001b[0;34m\u001b[0m\u001b[0m\n\u001b[0;32m--> 251\u001b[0;31m             outputs = self._bound_context.call_function(\n\u001b[0m\u001b[1;32m    252\u001b[0m                 \u001b[0mself\u001b[0m\u001b[0;34m.\u001b[0m\u001b[0mname\u001b[0m\u001b[0;34m,\u001b[0m\u001b[0;34m\u001b[0m\u001b[0;34m\u001b[0m\u001b[0m\n\u001b[1;32m    253\u001b[0m                 \u001b[0mlist\u001b[0m\u001b[0;34m(\u001b[0m\u001b[0margs\u001b[0m\u001b[0;34m)\u001b[0m\u001b[0;34m,\u001b[0m\u001b[0;34m\u001b[0m\u001b[0;34m\u001b[0m\u001b[0m\n",
            "\u001b[0;32m/usr/local/lib/python3.10/dist-packages/tensorflow/python/eager/context.py\u001b[0m in \u001b[0;36mcall_function\u001b[0;34m(self, name, tensor_inputs, num_outputs)\u001b[0m\n\u001b[1;32m   1550\u001b[0m     \u001b[0mcancellation_context\u001b[0m \u001b[0;34m=\u001b[0m \u001b[0mcancellation\u001b[0m\u001b[0;34m.\u001b[0m\u001b[0mcontext\u001b[0m\u001b[0;34m(\u001b[0m\u001b[0;34m)\u001b[0m\u001b[0;34m\u001b[0m\u001b[0;34m\u001b[0m\u001b[0m\n\u001b[1;32m   1551\u001b[0m     \u001b[0;32mif\u001b[0m \u001b[0mcancellation_context\u001b[0m \u001b[0;32mis\u001b[0m \u001b[0;32mNone\u001b[0m\u001b[0;34m:\u001b[0m\u001b[0;34m\u001b[0m\u001b[0;34m\u001b[0m\u001b[0m\n\u001b[0;32m-> 1552\u001b[0;31m       outputs = execute.execute(\n\u001b[0m\u001b[1;32m   1553\u001b[0m           \u001b[0mname\u001b[0m\u001b[0;34m.\u001b[0m\u001b[0mdecode\u001b[0m\u001b[0;34m(\u001b[0m\u001b[0;34m\"utf-8\"\u001b[0m\u001b[0;34m)\u001b[0m\u001b[0;34m,\u001b[0m\u001b[0;34m\u001b[0m\u001b[0;34m\u001b[0m\u001b[0m\n\u001b[1;32m   1554\u001b[0m           \u001b[0mnum_outputs\u001b[0m\u001b[0;34m=\u001b[0m\u001b[0mnum_outputs\u001b[0m\u001b[0;34m,\u001b[0m\u001b[0;34m\u001b[0m\u001b[0;34m\u001b[0m\u001b[0m\n",
            "\u001b[0;32m/usr/local/lib/python3.10/dist-packages/tensorflow/python/eager/execute.py\u001b[0m in \u001b[0;36mquick_execute\u001b[0;34m(op_name, num_outputs, inputs, attrs, ctx, name)\u001b[0m\n\u001b[1;32m     51\u001b[0m   \u001b[0;32mtry\u001b[0m\u001b[0;34m:\u001b[0m\u001b[0;34m\u001b[0m\u001b[0;34m\u001b[0m\u001b[0m\n\u001b[1;32m     52\u001b[0m     \u001b[0mctx\u001b[0m\u001b[0;34m.\u001b[0m\u001b[0mensure_initialized\u001b[0m\u001b[0;34m(\u001b[0m\u001b[0;34m)\u001b[0m\u001b[0;34m\u001b[0m\u001b[0;34m\u001b[0m\u001b[0m\n\u001b[0;32m---> 53\u001b[0;31m     tensors = pywrap_tfe.TFE_Py_Execute(ctx._handle, device_name, op_name,\n\u001b[0m\u001b[1;32m     54\u001b[0m                                         inputs, attrs, num_outputs)\n\u001b[1;32m     55\u001b[0m   \u001b[0;32mexcept\u001b[0m \u001b[0mcore\u001b[0m\u001b[0;34m.\u001b[0m\u001b[0m_NotOkStatusException\u001b[0m \u001b[0;32mas\u001b[0m \u001b[0me\u001b[0m\u001b[0;34m:\u001b[0m\u001b[0;34m\u001b[0m\u001b[0;34m\u001b[0m\u001b[0m\n",
            "\u001b[0;31mKeyboardInterrupt\u001b[0m: "
          ]
        }
      ],
      "source": [
        "regressor.fit(X_train, y_train, epochs=300, batch_size=53, validation_data=(X_test, y_test))\n",
        "loss = regressor.evaluate(X_test, y_test)\n",
        "print(f'Test Loss: {loss}')"
      ]
    },
    {
      "cell_type": "markdown",
      "id": "U8VnC6mFMOsT",
      "metadata": {
        "id": "U8VnC6mFMOsT"
      },
      "source": [
        " save model"
      ]
    },
    {
      "cell_type": "code",
      "execution_count": null,
      "id": "0n3gIMqwNI2m",
      "metadata": {
        "id": "0n3gIMqwNI2m"
      },
      "outputs": [],
      "source": [
        "!pwd"
      ]
    },
    {
      "cell_type": "code",
      "execution_count": null,
      "id": "NU6lhYWwMj9N",
      "metadata": {
        "id": "NU6lhYWwMj9N"
      },
      "outputs": [],
      "source": [
        "# Save Model (tensorflow lib)\n",
        "regressor.save('/content/regressor-3002epch.h5')"
      ]
    },
    {
      "cell_type": "code",
      "execution_count": null,
      "id": "N23CSQw6NnQH",
      "metadata": {
        "id": "N23CSQw6NnQH"
      },
      "outputs": [],
      "source": [
        "# import tensorflow as tf\n",
        "\n",
        "# # Load the model from the SavedModel format (tensorflow lib)\n",
        "# loaded_model = tf.keras.models.load_model('/content/regressor-5epch.h5')"
      ]
    },
    {
      "cell_type": "code",
      "execution_count": null,
      "id": "daddacd3",
      "metadata": {
        "id": "daddacd3"
      },
      "outputs": [],
      "source": [
        "test_set = pd.read_csv(\"Test_set.csv\")\n",
        "print(test_set)"
      ]
    },
    {
      "cell_type": "code",
      "execution_count": null,
      "id": "1a7501da",
      "metadata": {
        "id": "1a7501da"
      },
      "outputs": [],
      "source": [
        "test_set = test_set.merge(province_year_totals[['PROVINCE', 'Cluster']], on='PROVINCE', how='left')\n",
        "\n",
        "# Manage any missing cluster entries, e.g., fill with a value like -1 for clarity\n",
        "test_set['Cluster'].fillna(-1, inplace=True)"
      ]
    },
    {
      "cell_type": "code",
      "execution_count": null,
      "id": "68ddf36b",
      "metadata": {
        "id": "68ddf36b"
      },
      "outputs": [],
      "source": [
        "combined_set = pd.concat([df, test_set], ignore_index=True)\n",
        "combined_set.sort_values(by=['PROVINCE', 'Year', 'Week_no'], inplace=True)\n",
        "\n",
        "# Calculate lag features\n",
        "combined_set['Count_lag1'] = combined_set.groupby('PROVINCE')['Count'].shift(1)\n",
        "combined_set['Count_lag2'] = combined_set.groupby('PROVINCE')['Count'].shift(2)\n",
        "\n",
        "# Calculate rolling statistics\n",
        "combined_set['Std_4weeks'] = combined_set.groupby('PROVINCE')['Count'].rolling(window=4, min_periods=1).std().reset_index(0, drop=True)\n",
        "\n",
        "# Extract only the test set for 2023 after features are calculated\n",
        "test_set = combined_set[combined_set['Year'] == 2023]\n",
        "\n",
        "# Check to ensure features are present\n",
        "print(test_set)"
      ]
    },
    {
      "cell_type": "code",
      "execution_count": null,
      "id": "e8e4a93f",
      "metadata": {
        "id": "e8e4a93f"
      },
      "outputs": [],
      "source": [
        "test_set['PROVINCE'] = le.transform(test_set['PROVINCE'])\n",
        "column_order = ['_id', 'Disease', 'Year_Group', 'Year', 'PROVINCE', 'Cluster', 'Week_no', 'Count_lag1',\n",
        "       'Count_lag2', 'Std_4weeks', 'Count']\n",
        "test_set = test_set[column_order]\n",
        "test_set = test_set.drop('Disease', axis=1)\n",
        "test_set = test_set.drop('Year_Group', axis = 1)\n",
        "\n",
        "print(test_set)"
      ]
    },
    {
      "cell_type": "code",
      "execution_count": null,
      "id": "76b7L-Nfea5l",
      "metadata": {
        "id": "76b7L-Nfea5l"
      },
      "outputs": [],
      "source": [
        "def pad_provinces_to_53(test_set):\n",
        "    # List to hold all modified province rows\n",
        "    modified_rows = []\n",
        "\n",
        "    # Iterate through each unique province in the test set\n",
        "    for province in test_set['PROVINCE'].unique():\n",
        "        province_data = test_set[test_set['PROVINCE'] == province]\n",
        "        num_rows = len(province_data)\n",
        "\n",
        "        print(f\"Processing province: {province} with {num_rows} rows\")\n",
        "\n",
        "        # If the province has fewer than 53 rows, add new rows\n",
        "        if num_rows < 53:\n",
        "            rows_to_add = 53 - num_rows\n",
        "\n",
        "            # Determine the next week number based on existing data\n",
        "            if not province_data.empty:\n",
        "                next_week_no = province_data['Week_no'].max() + 1\n",
        "                year = province_data['Year'].iloc[0]  # Use the existing year\n",
        "                cluster = province_data['Cluster'].iloc[0]  # Use the existing cluster\n",
        "                std_week1 = province_data['Std_4weeks'].iloc[0]\n",
        "            else:\n",
        "                next_week_no = 1  # If no data, start from week 1\n",
        "                year = 2023  # Default to 2023 if no data\n",
        "                cluster = 0  # Default cluster\n",
        "                std_week1 = 0\n",
        "\n",
        "            # Create new rows\n",
        "            for _ in range(rows_to_add):\n",
        "                new_row = {\n",
        "                    '_id': 0,  # Initialize _id as specified\n",
        "                    'Year': year,  # Same year as existing data\n",
        "                    'PROVINCE': province,\n",
        "                    'Cluster': cluster,  # Same cluster\n",
        "                    'Week_no': next_week_no,\n",
        "                    'Count_lag1': 0,  # Initialize lag columns as NaN\n",
        "                    'Count_lag2': 0,\n",
        "                    'Std_4weeks': std_week1,\n",
        "                    'Count': np.nan\n",
        "                }\n",
        "                modified_rows.append(new_row)  # Append new row to the list\n",
        "                next_week_no += 1  # Increment week number for the next row\n",
        "\n",
        "        # Copy existing province data to the modified rows\n",
        "        modified_rows.extend(province_data.to_dict('records'))\n",
        "\n",
        "    # Create a new DataFrame from the modified rows\n",
        "    modified_df = pd.DataFrame(modified_rows)\n",
        "\n",
        "    return modified_df\n",
        "\n",
        "# Assuming test_set is your original DataFrame\n",
        "test_set = pad_provinces_to_53(test_set)\n",
        "test_set_predict = pad_provinces_to_53(test_set)\n",
        "test_set_predict = test_set.drop('_id', axis=1)\n",
        "test_set_predict = test_set.drop('Year', axis=1)\n",
        "\n",
        "print(test_set_predict)  # Display the last 60 rows to verify the order"
      ]
    },
    {
      "cell_type": "code",
      "execution_count": null,
      "id": "842d9600",
      "metadata": {
        "id": "842d9600"
      },
      "outputs": [],
      "source": [
        "def walk_forward_evaluation(model, test_set, features, sequence_length, verbose=False):\n",
        "    predictions = []\n",
        "\n",
        "    # Iterate over each unique province\n",
        "    for province in test_set['PROVINCE'].unique():\n",
        "        province_data = test_set[test_set['PROVINCE'] == province]\n",
        "        num_rows = len(province_data)\n",
        "\n",
        "        if verbose:\n",
        "            print(f\"Processing province: {province} with {num_rows} rows\")\n",
        "\n",
        "        # Iterate through the data for predictions\n",
        "        for i in range(num_rows):\n",
        "            # Create the input sequence\n",
        "            if i >= sequence_length:\n",
        "                input_sequence = province_data.iloc[i-sequence_length:i][features].values\n",
        "                input_sequence = input_sequence.reshape((1, sequence_length, len(features)))\n",
        "\n",
        "                # Make prediction\n",
        "                predicted_value = model.predict(input_sequence)\n",
        "                predictions.append(predicted_value[0][0])\n",
        "\n",
        "                # Optional verbose logging at intervals\n",
        "                if verbose and i % 10 == 0:  # Print every 10 iterations, adjust as needed\n",
        "                    print(f\"Predicted value for {province}, index {i}: {predicted_value[0][0]}\")\n",
        "            else:\n",
        "                # Fall-back prediction with available data\n",
        "                input_sequence = province_data.iloc[:i+1].fillna(0)[features].values\n",
        "\n",
        "                # Pad input sequence if needed\n",
        "                if len(input_sequence) < sequence_length:\n",
        "                    padding = np.zeros((sequence_length - len(input_sequence), len(features)))\n",
        "                    input_sequence = np.vstack((padding, input_sequence))\n",
        "\n",
        "                input_sequence = input_sequence.reshape((1, sequence_length, len(features)))\n",
        "\n",
        "                # Make prediction with padded input\n",
        "                predicted_value = model.predict(input_sequence)\n",
        "                predictions.append(predicted_value[0][0])\n",
        "\n",
        "                if verbose and i % 10 == 0:\n",
        "                    print(f\"Fallback predicted for {province}, index {i}: {predicted_value[0][0]}\")\n",
        "\n",
        "    return np.array(predictions)\n",
        "\n",
        "# Define features for LSTM input, excluding identifiers\n",
        "features = ['PROVINCE', 'Cluster', 'Week_no', 'Count_lag1',\n",
        "            'Count_lag2', 'Std_4weeks', 'Count']\n",
        "sequence_length = 53  # This should match your LSTM input size\n",
        "\n",
        "# Set verbosity to False to reduce output during evaluation\n",
        "predictions = walk_forward_evaluation(regressor, test_set_predict, features, sequence_length, verbose=False)\n",
        "\n",
        "# Get actual counts for evaluation\n",
        "actual_counts = test_set['Count'].iloc[:len(predictions)].values  # Adjust indexing accordingly based on predictions"
      ]
    },
    {
      "cell_type": "code",
      "execution_count": null,
      "id": "6ec19f71",
      "metadata": {
        "id": "6ec19f71"
      },
      "outputs": [],
      "source": [
        "print(predictions)\n",
        "test_set['Count'] = predictions\n",
        "test_set = test_set.drop('Count_lag1', axis=1)\n",
        "test_set = test_set.drop('Count_lag2', axis = 1)\n",
        "test_set = test_set.drop('Std_4weeks', axis = 1)\n",
        "feature = ['Count']\n",
        "test_set[feature] = sc.inverse_transform(test_set[feature])\n",
        "print(test_set)"
      ]
    },
    {
      "cell_type": "code",
      "execution_count": null,
      "id": "W7cYb4Vq5dk8",
      "metadata": {
        "id": "W7cYb4Vq5dk8"
      },
      "outputs": [],
      "source": [
        "test_set = test_set[test_set['_id'] != 0]\n",
        "\n",
        "# Sort by '_id'\n",
        "test_set = test_set.sort_values(by='_id')\n",
        "\n",
        "test_set['Count'] = np.ceil(test_set['Count']).astype(int)\n",
        "\n",
        "# Reset index if desired\n",
        "test_set.reset_index(drop=True, inplace=True)\n",
        "\n",
        "# Print the resulting DataFrame\n",
        "print(test_set.head(60))"
      ]
    },
    {
      "cell_type": "code",
      "execution_count": null,
      "id": "n4QikKqh6SR5",
      "metadata": {
        "id": "n4QikKqh6SR5"
      },
      "outputs": [],
      "source": [
        "test_set = test_set.drop('Cluster', axis = 1)\n",
        "test_set = test_set.drop('Year', axis=1)\n",
        "test_set = test_set.drop('PROVINCE', axis = 1)\n",
        "test_set = test_set.drop('Week_no', axis = 1)\n",
        "test_set.rename(columns={'Count': 'Pred'}, inplace=True)\n",
        "print(test_set.head(60))"
      ]
    },
    {
      "cell_type": "code",
      "execution_count": null,
      "id": "yMmMVerm80dD",
      "metadata": {
        "id": "yMmMVerm80dD"
      },
      "outputs": [],
      "source": [
        "test_set.to_csv('prediction.csv', index = False)"
      ]
    }
  ],
  "metadata": {
    "colab": {
      "provenance": []
    },
    "kernelspec": {
      "display_name": "Python 3",
      "name": "python3"
    },
    "language_info": {
      "codemirror_mode": {
        "name": "ipython",
        "version": 3
      },
      "file_extension": ".py",
      "mimetype": "text/x-python",
      "name": "python",
      "nbconvert_exporter": "python",
      "pygments_lexer": "ipython3",
      "version": "3.11.7"
    }
  },
  "nbformat": 4,
  "nbformat_minor": 5
}