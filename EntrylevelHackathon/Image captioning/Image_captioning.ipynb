{
  "nbformat": 4,
  "nbformat_minor": 0,
  "metadata": {
    "colab": {
      "provenance": [],
      "gpuType": "T4"
    },
    "kernelspec": {
      "name": "python3",
      "display_name": "Python 3"
    },
    "language_info": {
      "name": "python"
    },
    "accelerator": "GPU",
    "widgets": {
      "application/vnd.jupyter.widget-state+json": {
        "f4f2d231d2844ac8a698267e6b410e7a": {
          "model_module": "@jupyter-widgets/controls",
          "model_name": "HBoxModel",
          "model_module_version": "1.5.0",
          "state": {
            "_dom_classes": [],
            "_model_module": "@jupyter-widgets/controls",
            "_model_module_version": "1.5.0",
            "_model_name": "HBoxModel",
            "_view_count": null,
            "_view_module": "@jupyter-widgets/controls",
            "_view_module_version": "1.5.0",
            "_view_name": "HBoxView",
            "box_style": "",
            "children": [
              "IPY_MODEL_318cb05f147e492e86a64d9019429af6",
              "IPY_MODEL_bdeee3116dee4303b987b73b28cb3564",
              "IPY_MODEL_f01605b7061745a5b9f8eb21f86188d6"
            ],
            "layout": "IPY_MODEL_a265ad3f1aeb4929b1c0f20a33adb22c"
          }
        },
        "318cb05f147e492e86a64d9019429af6": {
          "model_module": "@jupyter-widgets/controls",
          "model_name": "HTMLModel",
          "model_module_version": "1.5.0",
          "state": {
            "_dom_classes": [],
            "_model_module": "@jupyter-widgets/controls",
            "_model_module_version": "1.5.0",
            "_model_name": "HTMLModel",
            "_view_count": null,
            "_view_module": "@jupyter-widgets/controls",
            "_view_module_version": "1.5.0",
            "_view_name": "HTMLView",
            "description": "",
            "description_tooltip": null,
            "layout": "IPY_MODEL_9c94333c1325465baaebaea4e1899936",
            "placeholder": "​",
            "style": "IPY_MODEL_c519cf53d52c40bf8454daf4c27477e8",
            "value": "Map: 100%"
          }
        },
        "bdeee3116dee4303b987b73b28cb3564": {
          "model_module": "@jupyter-widgets/controls",
          "model_name": "FloatProgressModel",
          "model_module_version": "1.5.0",
          "state": {
            "_dom_classes": [],
            "_model_module": "@jupyter-widgets/controls",
            "_model_module_version": "1.5.0",
            "_model_name": "FloatProgressModel",
            "_view_count": null,
            "_view_module": "@jupyter-widgets/controls",
            "_view_module_version": "1.5.0",
            "_view_name": "ProgressView",
            "bar_style": "success",
            "description": "",
            "description_tooltip": null,
            "layout": "IPY_MODEL_3582c0bd4d094b38be2fe190bd14b237",
            "max": 118287,
            "min": 0,
            "orientation": "horizontal",
            "style": "IPY_MODEL_aea66d41e70647ea9e87730255df8541",
            "value": 118287
          }
        },
        "f01605b7061745a5b9f8eb21f86188d6": {
          "model_module": "@jupyter-widgets/controls",
          "model_name": "HTMLModel",
          "model_module_version": "1.5.0",
          "state": {
            "_dom_classes": [],
            "_model_module": "@jupyter-widgets/controls",
            "_model_module_version": "1.5.0",
            "_model_name": "HTMLModel",
            "_view_count": null,
            "_view_module": "@jupyter-widgets/controls",
            "_view_module_version": "1.5.0",
            "_view_name": "HTMLView",
            "description": "",
            "description_tooltip": null,
            "layout": "IPY_MODEL_9a56b77a772e46b5807f0fb205f3e2dd",
            "placeholder": "​",
            "style": "IPY_MODEL_64ef13563de7449db773917c6472f0c9",
            "value": " 118287/118287 [00:03&lt;00:00, 37901.65 examples/s]"
          }
        },
        "a265ad3f1aeb4929b1c0f20a33adb22c": {
          "model_module": "@jupyter-widgets/base",
          "model_name": "LayoutModel",
          "model_module_version": "1.2.0",
          "state": {
            "_model_module": "@jupyter-widgets/base",
            "_model_module_version": "1.2.0",
            "_model_name": "LayoutModel",
            "_view_count": null,
            "_view_module": "@jupyter-widgets/base",
            "_view_module_version": "1.2.0",
            "_view_name": "LayoutView",
            "align_content": null,
            "align_items": null,
            "align_self": null,
            "border": null,
            "bottom": null,
            "display": null,
            "flex": null,
            "flex_flow": null,
            "grid_area": null,
            "grid_auto_columns": null,
            "grid_auto_flow": null,
            "grid_auto_rows": null,
            "grid_column": null,
            "grid_gap": null,
            "grid_row": null,
            "grid_template_areas": null,
            "grid_template_columns": null,
            "grid_template_rows": null,
            "height": null,
            "justify_content": null,
            "justify_items": null,
            "left": null,
            "margin": null,
            "max_height": null,
            "max_width": null,
            "min_height": null,
            "min_width": null,
            "object_fit": null,
            "object_position": null,
            "order": null,
            "overflow": null,
            "overflow_x": null,
            "overflow_y": null,
            "padding": null,
            "right": null,
            "top": null,
            "visibility": null,
            "width": null
          }
        },
        "9c94333c1325465baaebaea4e1899936": {
          "model_module": "@jupyter-widgets/base",
          "model_name": "LayoutModel",
          "model_module_version": "1.2.0",
          "state": {
            "_model_module": "@jupyter-widgets/base",
            "_model_module_version": "1.2.0",
            "_model_name": "LayoutModel",
            "_view_count": null,
            "_view_module": "@jupyter-widgets/base",
            "_view_module_version": "1.2.0",
            "_view_name": "LayoutView",
            "align_content": null,
            "align_items": null,
            "align_self": null,
            "border": null,
            "bottom": null,
            "display": null,
            "flex": null,
            "flex_flow": null,
            "grid_area": null,
            "grid_auto_columns": null,
            "grid_auto_flow": null,
            "grid_auto_rows": null,
            "grid_column": null,
            "grid_gap": null,
            "grid_row": null,
            "grid_template_areas": null,
            "grid_template_columns": null,
            "grid_template_rows": null,
            "height": null,
            "justify_content": null,
            "justify_items": null,
            "left": null,
            "margin": null,
            "max_height": null,
            "max_width": null,
            "min_height": null,
            "min_width": null,
            "object_fit": null,
            "object_position": null,
            "order": null,
            "overflow": null,
            "overflow_x": null,
            "overflow_y": null,
            "padding": null,
            "right": null,
            "top": null,
            "visibility": null,
            "width": null
          }
        },
        "c519cf53d52c40bf8454daf4c27477e8": {
          "model_module": "@jupyter-widgets/controls",
          "model_name": "DescriptionStyleModel",
          "model_module_version": "1.5.0",
          "state": {
            "_model_module": "@jupyter-widgets/controls",
            "_model_module_version": "1.5.0",
            "_model_name": "DescriptionStyleModel",
            "_view_count": null,
            "_view_module": "@jupyter-widgets/base",
            "_view_module_version": "1.2.0",
            "_view_name": "StyleView",
            "description_width": ""
          }
        },
        "3582c0bd4d094b38be2fe190bd14b237": {
          "model_module": "@jupyter-widgets/base",
          "model_name": "LayoutModel",
          "model_module_version": "1.2.0",
          "state": {
            "_model_module": "@jupyter-widgets/base",
            "_model_module_version": "1.2.0",
            "_model_name": "LayoutModel",
            "_view_count": null,
            "_view_module": "@jupyter-widgets/base",
            "_view_module_version": "1.2.0",
            "_view_name": "LayoutView",
            "align_content": null,
            "align_items": null,
            "align_self": null,
            "border": null,
            "bottom": null,
            "display": null,
            "flex": null,
            "flex_flow": null,
            "grid_area": null,
            "grid_auto_columns": null,
            "grid_auto_flow": null,
            "grid_auto_rows": null,
            "grid_column": null,
            "grid_gap": null,
            "grid_row": null,
            "grid_template_areas": null,
            "grid_template_columns": null,
            "grid_template_rows": null,
            "height": null,
            "justify_content": null,
            "justify_items": null,
            "left": null,
            "margin": null,
            "max_height": null,
            "max_width": null,
            "min_height": null,
            "min_width": null,
            "object_fit": null,
            "object_position": null,
            "order": null,
            "overflow": null,
            "overflow_x": null,
            "overflow_y": null,
            "padding": null,
            "right": null,
            "top": null,
            "visibility": null,
            "width": null
          }
        },
        "aea66d41e70647ea9e87730255df8541": {
          "model_module": "@jupyter-widgets/controls",
          "model_name": "ProgressStyleModel",
          "model_module_version": "1.5.0",
          "state": {
            "_model_module": "@jupyter-widgets/controls",
            "_model_module_version": "1.5.0",
            "_model_name": "ProgressStyleModel",
            "_view_count": null,
            "_view_module": "@jupyter-widgets/base",
            "_view_module_version": "1.2.0",
            "_view_name": "StyleView",
            "bar_color": null,
            "description_width": ""
          }
        },
        "9a56b77a772e46b5807f0fb205f3e2dd": {
          "model_module": "@jupyter-widgets/base",
          "model_name": "LayoutModel",
          "model_module_version": "1.2.0",
          "state": {
            "_model_module": "@jupyter-widgets/base",
            "_model_module_version": "1.2.0",
            "_model_name": "LayoutModel",
            "_view_count": null,
            "_view_module": "@jupyter-widgets/base",
            "_view_module_version": "1.2.0",
            "_view_name": "LayoutView",
            "align_content": null,
            "align_items": null,
            "align_self": null,
            "border": null,
            "bottom": null,
            "display": null,
            "flex": null,
            "flex_flow": null,
            "grid_area": null,
            "grid_auto_columns": null,
            "grid_auto_flow": null,
            "grid_auto_rows": null,
            "grid_column": null,
            "grid_gap": null,
            "grid_row": null,
            "grid_template_areas": null,
            "grid_template_columns": null,
            "grid_template_rows": null,
            "height": null,
            "justify_content": null,
            "justify_items": null,
            "left": null,
            "margin": null,
            "max_height": null,
            "max_width": null,
            "min_height": null,
            "min_width": null,
            "object_fit": null,
            "object_position": null,
            "order": null,
            "overflow": null,
            "overflow_x": null,
            "overflow_y": null,
            "padding": null,
            "right": null,
            "top": null,
            "visibility": null,
            "width": null
          }
        },
        "64ef13563de7449db773917c6472f0c9": {
          "model_module": "@jupyter-widgets/controls",
          "model_name": "DescriptionStyleModel",
          "model_module_version": "1.5.0",
          "state": {
            "_model_module": "@jupyter-widgets/controls",
            "_model_module_version": "1.5.0",
            "_model_name": "DescriptionStyleModel",
            "_view_count": null,
            "_view_module": "@jupyter-widgets/base",
            "_view_module_version": "1.2.0",
            "_view_name": "StyleView",
            "description_width": ""
          }
        },
        "11b244e5e0f74a8ca683b1b1d53a4991": {
          "model_module": "@jupyter-widgets/controls",
          "model_name": "HBoxModel",
          "model_module_version": "1.5.0",
          "state": {
            "_dom_classes": [],
            "_model_module": "@jupyter-widgets/controls",
            "_model_module_version": "1.5.0",
            "_model_name": "HBoxModel",
            "_view_count": null,
            "_view_module": "@jupyter-widgets/controls",
            "_view_module_version": "1.5.0",
            "_view_name": "HBoxView",
            "box_style": "",
            "children": [
              "IPY_MODEL_01427c3d098e40128de3a3c5c7b98a59",
              "IPY_MODEL_8c28b0b91f554f74bcd77a7838fbc246",
              "IPY_MODEL_3ba92f7d51d94f228501f30c4efce1ac"
            ],
            "layout": "IPY_MODEL_4fedb49728c5429ebe3cbfd28c2cca2c"
          }
        },
        "01427c3d098e40128de3a3c5c7b98a59": {
          "model_module": "@jupyter-widgets/controls",
          "model_name": "HTMLModel",
          "model_module_version": "1.5.0",
          "state": {
            "_dom_classes": [],
            "_model_module": "@jupyter-widgets/controls",
            "_model_module_version": "1.5.0",
            "_model_name": "HTMLModel",
            "_view_count": null,
            "_view_module": "@jupyter-widgets/controls",
            "_view_module_version": "1.5.0",
            "_view_name": "HTMLView",
            "description": "",
            "description_tooltip": null,
            "layout": "IPY_MODEL_461d0e49d71b4196b5d3dd04866768e1",
            "placeholder": "​",
            "style": "IPY_MODEL_9ff0998341b946eda78904a74468d643",
            "value": "Map: 100%"
          }
        },
        "8c28b0b91f554f74bcd77a7838fbc246": {
          "model_module": "@jupyter-widgets/controls",
          "model_name": "FloatProgressModel",
          "model_module_version": "1.5.0",
          "state": {
            "_dom_classes": [],
            "_model_module": "@jupyter-widgets/controls",
            "_model_module_version": "1.5.0",
            "_model_name": "FloatProgressModel",
            "_view_count": null,
            "_view_module": "@jupyter-widgets/controls",
            "_view_module_version": "1.5.0",
            "_view_name": "ProgressView",
            "bar_style": "success",
            "description": "",
            "description_tooltip": null,
            "layout": "IPY_MODEL_9d7a9427792c479fb945c284a3066dda",
            "max": 5000,
            "min": 0,
            "orientation": "horizontal",
            "style": "IPY_MODEL_857f8758eed6437493414c6ceae3ae0e",
            "value": 5000
          }
        },
        "3ba92f7d51d94f228501f30c4efce1ac": {
          "model_module": "@jupyter-widgets/controls",
          "model_name": "HTMLModel",
          "model_module_version": "1.5.0",
          "state": {
            "_dom_classes": [],
            "_model_module": "@jupyter-widgets/controls",
            "_model_module_version": "1.5.0",
            "_model_name": "HTMLModel",
            "_view_count": null,
            "_view_module": "@jupyter-widgets/controls",
            "_view_module_version": "1.5.0",
            "_view_name": "HTMLView",
            "description": "",
            "description_tooltip": null,
            "layout": "IPY_MODEL_bc10f6da3afa40c29e0db8c9d30cd968",
            "placeholder": "​",
            "style": "IPY_MODEL_c282350ac83a4e1a9cd425ae87d441cf",
            "value": " 5000/5000 [00:00&lt;00:00, 22706.34 examples/s]"
          }
        },
        "4fedb49728c5429ebe3cbfd28c2cca2c": {
          "model_module": "@jupyter-widgets/base",
          "model_name": "LayoutModel",
          "model_module_version": "1.2.0",
          "state": {
            "_model_module": "@jupyter-widgets/base",
            "_model_module_version": "1.2.0",
            "_model_name": "LayoutModel",
            "_view_count": null,
            "_view_module": "@jupyter-widgets/base",
            "_view_module_version": "1.2.0",
            "_view_name": "LayoutView",
            "align_content": null,
            "align_items": null,
            "align_self": null,
            "border": null,
            "bottom": null,
            "display": null,
            "flex": null,
            "flex_flow": null,
            "grid_area": null,
            "grid_auto_columns": null,
            "grid_auto_flow": null,
            "grid_auto_rows": null,
            "grid_column": null,
            "grid_gap": null,
            "grid_row": null,
            "grid_template_areas": null,
            "grid_template_columns": null,
            "grid_template_rows": null,
            "height": null,
            "justify_content": null,
            "justify_items": null,
            "left": null,
            "margin": null,
            "max_height": null,
            "max_width": null,
            "min_height": null,
            "min_width": null,
            "object_fit": null,
            "object_position": null,
            "order": null,
            "overflow": null,
            "overflow_x": null,
            "overflow_y": null,
            "padding": null,
            "right": null,
            "top": null,
            "visibility": null,
            "width": null
          }
        },
        "461d0e49d71b4196b5d3dd04866768e1": {
          "model_module": "@jupyter-widgets/base",
          "model_name": "LayoutModel",
          "model_module_version": "1.2.0",
          "state": {
            "_model_module": "@jupyter-widgets/base",
            "_model_module_version": "1.2.0",
            "_model_name": "LayoutModel",
            "_view_count": null,
            "_view_module": "@jupyter-widgets/base",
            "_view_module_version": "1.2.0",
            "_view_name": "LayoutView",
            "align_content": null,
            "align_items": null,
            "align_self": null,
            "border": null,
            "bottom": null,
            "display": null,
            "flex": null,
            "flex_flow": null,
            "grid_area": null,
            "grid_auto_columns": null,
            "grid_auto_flow": null,
            "grid_auto_rows": null,
            "grid_column": null,
            "grid_gap": null,
            "grid_row": null,
            "grid_template_areas": null,
            "grid_template_columns": null,
            "grid_template_rows": null,
            "height": null,
            "justify_content": null,
            "justify_items": null,
            "left": null,
            "margin": null,
            "max_height": null,
            "max_width": null,
            "min_height": null,
            "min_width": null,
            "object_fit": null,
            "object_position": null,
            "order": null,
            "overflow": null,
            "overflow_x": null,
            "overflow_y": null,
            "padding": null,
            "right": null,
            "top": null,
            "visibility": null,
            "width": null
          }
        },
        "9ff0998341b946eda78904a74468d643": {
          "model_module": "@jupyter-widgets/controls",
          "model_name": "DescriptionStyleModel",
          "model_module_version": "1.5.0",
          "state": {
            "_model_module": "@jupyter-widgets/controls",
            "_model_module_version": "1.5.0",
            "_model_name": "DescriptionStyleModel",
            "_view_count": null,
            "_view_module": "@jupyter-widgets/base",
            "_view_module_version": "1.2.0",
            "_view_name": "StyleView",
            "description_width": ""
          }
        },
        "9d7a9427792c479fb945c284a3066dda": {
          "model_module": "@jupyter-widgets/base",
          "model_name": "LayoutModel",
          "model_module_version": "1.2.0",
          "state": {
            "_model_module": "@jupyter-widgets/base",
            "_model_module_version": "1.2.0",
            "_model_name": "LayoutModel",
            "_view_count": null,
            "_view_module": "@jupyter-widgets/base",
            "_view_module_version": "1.2.0",
            "_view_name": "LayoutView",
            "align_content": null,
            "align_items": null,
            "align_self": null,
            "border": null,
            "bottom": null,
            "display": null,
            "flex": null,
            "flex_flow": null,
            "grid_area": null,
            "grid_auto_columns": null,
            "grid_auto_flow": null,
            "grid_auto_rows": null,
            "grid_column": null,
            "grid_gap": null,
            "grid_row": null,
            "grid_template_areas": null,
            "grid_template_columns": null,
            "grid_template_rows": null,
            "height": null,
            "justify_content": null,
            "justify_items": null,
            "left": null,
            "margin": null,
            "max_height": null,
            "max_width": null,
            "min_height": null,
            "min_width": null,
            "object_fit": null,
            "object_position": null,
            "order": null,
            "overflow": null,
            "overflow_x": null,
            "overflow_y": null,
            "padding": null,
            "right": null,
            "top": null,
            "visibility": null,
            "width": null
          }
        },
        "857f8758eed6437493414c6ceae3ae0e": {
          "model_module": "@jupyter-widgets/controls",
          "model_name": "ProgressStyleModel",
          "model_module_version": "1.5.0",
          "state": {
            "_model_module": "@jupyter-widgets/controls",
            "_model_module_version": "1.5.0",
            "_model_name": "ProgressStyleModel",
            "_view_count": null,
            "_view_module": "@jupyter-widgets/base",
            "_view_module_version": "1.2.0",
            "_view_name": "StyleView",
            "bar_color": null,
            "description_width": ""
          }
        },
        "bc10f6da3afa40c29e0db8c9d30cd968": {
          "model_module": "@jupyter-widgets/base",
          "model_name": "LayoutModel",
          "model_module_version": "1.2.0",
          "state": {
            "_model_module": "@jupyter-widgets/base",
            "_model_module_version": "1.2.0",
            "_model_name": "LayoutModel",
            "_view_count": null,
            "_view_module": "@jupyter-widgets/base",
            "_view_module_version": "1.2.0",
            "_view_name": "LayoutView",
            "align_content": null,
            "align_items": null,
            "align_self": null,
            "border": null,
            "bottom": null,
            "display": null,
            "flex": null,
            "flex_flow": null,
            "grid_area": null,
            "grid_auto_columns": null,
            "grid_auto_flow": null,
            "grid_auto_rows": null,
            "grid_column": null,
            "grid_gap": null,
            "grid_row": null,
            "grid_template_areas": null,
            "grid_template_columns": null,
            "grid_template_rows": null,
            "height": null,
            "justify_content": null,
            "justify_items": null,
            "left": null,
            "margin": null,
            "max_height": null,
            "max_width": null,
            "min_height": null,
            "min_width": null,
            "object_fit": null,
            "object_position": null,
            "order": null,
            "overflow": null,
            "overflow_x": null,
            "overflow_y": null,
            "padding": null,
            "right": null,
            "top": null,
            "visibility": null,
            "width": null
          }
        },
        "c282350ac83a4e1a9cd425ae87d441cf": {
          "model_module": "@jupyter-widgets/controls",
          "model_name": "DescriptionStyleModel",
          "model_module_version": "1.5.0",
          "state": {
            "_model_module": "@jupyter-widgets/controls",
            "_model_module_version": "1.5.0",
            "_model_name": "DescriptionStyleModel",
            "_view_count": null,
            "_view_module": "@jupyter-widgets/base",
            "_view_module_version": "1.2.0",
            "_view_name": "StyleView",
            "description_width": ""
          }
        },
        "5507850b4bd9444292b45ffce7a8802a": {
          "model_module": "@jupyter-widgets/controls",
          "model_name": "HBoxModel",
          "model_module_version": "1.5.0",
          "state": {
            "_dom_classes": [],
            "_model_module": "@jupyter-widgets/controls",
            "_model_module_version": "1.5.0",
            "_model_name": "HBoxModel",
            "_view_count": null,
            "_view_module": "@jupyter-widgets/controls",
            "_view_module_version": "1.5.0",
            "_view_name": "HBoxView",
            "box_style": "",
            "children": [
              "IPY_MODEL_e542f780bf52458f847c84b1080506e0",
              "IPY_MODEL_fa67e4c51b3447d3a4eb7a38d89ad3a9",
              "IPY_MODEL_ef5fcf07fc9049c5a1d908950e177a8c"
            ],
            "layout": "IPY_MODEL_650e92dc397542d1a768b981bf076c09"
          }
        },
        "e542f780bf52458f847c84b1080506e0": {
          "model_module": "@jupyter-widgets/controls",
          "model_name": "HTMLModel",
          "model_module_version": "1.5.0",
          "state": {
            "_dom_classes": [],
            "_model_module": "@jupyter-widgets/controls",
            "_model_module_version": "1.5.0",
            "_model_name": "HTMLModel",
            "_view_count": null,
            "_view_module": "@jupyter-widgets/controls",
            "_view_module_version": "1.5.0",
            "_view_name": "HTMLView",
            "description": "",
            "description_tooltip": null,
            "layout": "IPY_MODEL_267f46fb50224c3d8f7aaeb3961425e9",
            "placeholder": "​",
            "style": "IPY_MODEL_fe086d2b48b5434e96565dbe5af1032f",
            "value": "Loading checkpoint shards:   0%"
          }
        },
        "fa67e4c51b3447d3a4eb7a38d89ad3a9": {
          "model_module": "@jupyter-widgets/controls",
          "model_name": "FloatProgressModel",
          "model_module_version": "1.5.0",
          "state": {
            "_dom_classes": [],
            "_model_module": "@jupyter-widgets/controls",
            "_model_module_version": "1.5.0",
            "_model_name": "FloatProgressModel",
            "_view_count": null,
            "_view_module": "@jupyter-widgets/controls",
            "_view_module_version": "1.5.0",
            "_view_name": "ProgressView",
            "bar_style": "danger",
            "description": "",
            "description_tooltip": null,
            "layout": "IPY_MODEL_73be56a4aec34a16bc61bcdd926621f0",
            "max": 2,
            "min": 0,
            "orientation": "horizontal",
            "style": "IPY_MODEL_8b0c126cb96a456ebd32151558ea2172",
            "value": 0
          }
        },
        "ef5fcf07fc9049c5a1d908950e177a8c": {
          "model_module": "@jupyter-widgets/controls",
          "model_name": "HTMLModel",
          "model_module_version": "1.5.0",
          "state": {
            "_dom_classes": [],
            "_model_module": "@jupyter-widgets/controls",
            "_model_module_version": "1.5.0",
            "_model_name": "HTMLModel",
            "_view_count": null,
            "_view_module": "@jupyter-widgets/controls",
            "_view_module_version": "1.5.0",
            "_view_name": "HTMLView",
            "description": "",
            "description_tooltip": null,
            "layout": "IPY_MODEL_94bd3e8e43fc44e3ba795ad3fba8acd6",
            "placeholder": "​",
            "style": "IPY_MODEL_a501e4a90c544d49aa31580b307fa39d",
            "value": " 0/2 [00:19&lt;?, ?it/s]"
          }
        },
        "650e92dc397542d1a768b981bf076c09": {
          "model_module": "@jupyter-widgets/base",
          "model_name": "LayoutModel",
          "model_module_version": "1.2.0",
          "state": {
            "_model_module": "@jupyter-widgets/base",
            "_model_module_version": "1.2.0",
            "_model_name": "LayoutModel",
            "_view_count": null,
            "_view_module": "@jupyter-widgets/base",
            "_view_module_version": "1.2.0",
            "_view_name": "LayoutView",
            "align_content": null,
            "align_items": null,
            "align_self": null,
            "border": null,
            "bottom": null,
            "display": null,
            "flex": null,
            "flex_flow": null,
            "grid_area": null,
            "grid_auto_columns": null,
            "grid_auto_flow": null,
            "grid_auto_rows": null,
            "grid_column": null,
            "grid_gap": null,
            "grid_row": null,
            "grid_template_areas": null,
            "grid_template_columns": null,
            "grid_template_rows": null,
            "height": null,
            "justify_content": null,
            "justify_items": null,
            "left": null,
            "margin": null,
            "max_height": null,
            "max_width": null,
            "min_height": null,
            "min_width": null,
            "object_fit": null,
            "object_position": null,
            "order": null,
            "overflow": null,
            "overflow_x": null,
            "overflow_y": null,
            "padding": null,
            "right": null,
            "top": null,
            "visibility": null,
            "width": null
          }
        },
        "267f46fb50224c3d8f7aaeb3961425e9": {
          "model_module": "@jupyter-widgets/base",
          "model_name": "LayoutModel",
          "model_module_version": "1.2.0",
          "state": {
            "_model_module": "@jupyter-widgets/base",
            "_model_module_version": "1.2.0",
            "_model_name": "LayoutModel",
            "_view_count": null,
            "_view_module": "@jupyter-widgets/base",
            "_view_module_version": "1.2.0",
            "_view_name": "LayoutView",
            "align_content": null,
            "align_items": null,
            "align_self": null,
            "border": null,
            "bottom": null,
            "display": null,
            "flex": null,
            "flex_flow": null,
            "grid_area": null,
            "grid_auto_columns": null,
            "grid_auto_flow": null,
            "grid_auto_rows": null,
            "grid_column": null,
            "grid_gap": null,
            "grid_row": null,
            "grid_template_areas": null,
            "grid_template_columns": null,
            "grid_template_rows": null,
            "height": null,
            "justify_content": null,
            "justify_items": null,
            "left": null,
            "margin": null,
            "max_height": null,
            "max_width": null,
            "min_height": null,
            "min_width": null,
            "object_fit": null,
            "object_position": null,
            "order": null,
            "overflow": null,
            "overflow_x": null,
            "overflow_y": null,
            "padding": null,
            "right": null,
            "top": null,
            "visibility": null,
            "width": null
          }
        },
        "fe086d2b48b5434e96565dbe5af1032f": {
          "model_module": "@jupyter-widgets/controls",
          "model_name": "DescriptionStyleModel",
          "model_module_version": "1.5.0",
          "state": {
            "_model_module": "@jupyter-widgets/controls",
            "_model_module_version": "1.5.0",
            "_model_name": "DescriptionStyleModel",
            "_view_count": null,
            "_view_module": "@jupyter-widgets/base",
            "_view_module_version": "1.2.0",
            "_view_name": "StyleView",
            "description_width": ""
          }
        },
        "73be56a4aec34a16bc61bcdd926621f0": {
          "model_module": "@jupyter-widgets/base",
          "model_name": "LayoutModel",
          "model_module_version": "1.2.0",
          "state": {
            "_model_module": "@jupyter-widgets/base",
            "_model_module_version": "1.2.0",
            "_model_name": "LayoutModel",
            "_view_count": null,
            "_view_module": "@jupyter-widgets/base",
            "_view_module_version": "1.2.0",
            "_view_name": "LayoutView",
            "align_content": null,
            "align_items": null,
            "align_self": null,
            "border": null,
            "bottom": null,
            "display": null,
            "flex": null,
            "flex_flow": null,
            "grid_area": null,
            "grid_auto_columns": null,
            "grid_auto_flow": null,
            "grid_auto_rows": null,
            "grid_column": null,
            "grid_gap": null,
            "grid_row": null,
            "grid_template_areas": null,
            "grid_template_columns": null,
            "grid_template_rows": null,
            "height": null,
            "justify_content": null,
            "justify_items": null,
            "left": null,
            "margin": null,
            "max_height": null,
            "max_width": null,
            "min_height": null,
            "min_width": null,
            "object_fit": null,
            "object_position": null,
            "order": null,
            "overflow": null,
            "overflow_x": null,
            "overflow_y": null,
            "padding": null,
            "right": null,
            "top": null,
            "visibility": null,
            "width": null
          }
        },
        "8b0c126cb96a456ebd32151558ea2172": {
          "model_module": "@jupyter-widgets/controls",
          "model_name": "ProgressStyleModel",
          "model_module_version": "1.5.0",
          "state": {
            "_model_module": "@jupyter-widgets/controls",
            "_model_module_version": "1.5.0",
            "_model_name": "ProgressStyleModel",
            "_view_count": null,
            "_view_module": "@jupyter-widgets/base",
            "_view_module_version": "1.2.0",
            "_view_name": "StyleView",
            "bar_color": null,
            "description_width": ""
          }
        },
        "94bd3e8e43fc44e3ba795ad3fba8acd6": {
          "model_module": "@jupyter-widgets/base",
          "model_name": "LayoutModel",
          "model_module_version": "1.2.0",
          "state": {
            "_model_module": "@jupyter-widgets/base",
            "_model_module_version": "1.2.0",
            "_model_name": "LayoutModel",
            "_view_count": null,
            "_view_module": "@jupyter-widgets/base",
            "_view_module_version": "1.2.0",
            "_view_name": "LayoutView",
            "align_content": null,
            "align_items": null,
            "align_self": null,
            "border": null,
            "bottom": null,
            "display": null,
            "flex": null,
            "flex_flow": null,
            "grid_area": null,
            "grid_auto_columns": null,
            "grid_auto_flow": null,
            "grid_auto_rows": null,
            "grid_column": null,
            "grid_gap": null,
            "grid_row": null,
            "grid_template_areas": null,
            "grid_template_columns": null,
            "grid_template_rows": null,
            "height": null,
            "justify_content": null,
            "justify_items": null,
            "left": null,
            "margin": null,
            "max_height": null,
            "max_width": null,
            "min_height": null,
            "min_width": null,
            "object_fit": null,
            "object_position": null,
            "order": null,
            "overflow": null,
            "overflow_x": null,
            "overflow_y": null,
            "padding": null,
            "right": null,
            "top": null,
            "visibility": null,
            "width": null
          }
        },
        "a501e4a90c544d49aa31580b307fa39d": {
          "model_module": "@jupyter-widgets/controls",
          "model_name": "DescriptionStyleModel",
          "model_module_version": "1.5.0",
          "state": {
            "_model_module": "@jupyter-widgets/controls",
            "_model_module_version": "1.5.0",
            "_model_name": "DescriptionStyleModel",
            "_view_count": null,
            "_view_module": "@jupyter-widgets/base",
            "_view_module_version": "1.2.0",
            "_view_name": "StyleView",
            "description_width": ""
          }
        }
      }
    }
  },
  "cells": [
    {
      "cell_type": "markdown",
      "source": [
        "## LOAD"
      ],
      "metadata": {
        "id": "KAZqFgjDqW3E"
      }
    },
    {
      "cell_type": "code",
      "execution_count": 1,
      "metadata": {
        "colab": {
          "base_uri": "https://localhost:8080/"
        },
        "id": "uoAibwPWYl4q",
        "outputId": "48e3ec36-89a6-440b-ece3-9fabe61cc106"
      },
      "outputs": [
        {
          "output_type": "stream",
          "name": "stdout",
          "text": [
            "--2025-02-01 04:22:33--  http://images.cocodataset.org/zips/train2017.zip\n",
            "Resolving images.cocodataset.org (images.cocodataset.org)... 52.216.10.195, 54.231.224.201, 16.182.66.233, ...\n",
            "Connecting to images.cocodataset.org (images.cocodataset.org)|52.216.10.195|:80... connected.\n",
            "HTTP request sent, awaiting response... 200 OK\n",
            "Length: 19336861798 (18G) [application/zip]\n",
            "Saving to: ‘/content/coco/train2017.zip’\n",
            "\n",
            "train2017.zip       100%[===================>]  18.01G  16.8MB/s    in 21m 57s \n",
            "\n",
            "2025-02-01 04:44:31 (14.0 MB/s) - ‘/content/coco/train2017.zip’ saved [19336861798/19336861798]\n",
            "\n",
            "--2025-02-01 04:44:31--  http://images.cocodataset.org/zips/val2017.zip\n",
            "Resolving images.cocodataset.org (images.cocodataset.org)... 16.182.34.9, 16.15.176.16, 52.216.218.233, ...\n",
            "Connecting to images.cocodataset.org (images.cocodataset.org)|16.182.34.9|:80... connected.\n",
            "HTTP request sent, awaiting response... 200 OK\n",
            "Length: 815585330 (778M) [application/zip]\n",
            "Saving to: ‘/content/coco/val2017.zip’\n",
            "\n",
            "val2017.zip         100%[===================>] 777.80M  17.2MB/s    in 48s     \n",
            "\n",
            "2025-02-01 04:45:19 (16.2 MB/s) - ‘/content/coco/val2017.zip’ saved [815585330/815585330]\n",
            "\n",
            "--2025-02-01 04:45:19--  http://images.cocodataset.org/annotations/annotations_trainval2017.zip\n",
            "Resolving images.cocodataset.org (images.cocodataset.org)... 3.5.30.23, 3.5.31.126, 52.216.179.91, ...\n",
            "Connecting to images.cocodataset.org (images.cocodataset.org)|3.5.30.23|:80... connected.\n",
            "HTTP request sent, awaiting response... 200 OK\n",
            "Length: 252907541 (241M) [application/zip]\n",
            "Saving to: ‘/content/coco/annotations_trainval2017.zip’\n",
            "\n",
            "annotations_trainva 100%[===================>] 241.19M  17.4MB/s    in 16s     \n",
            "\n",
            "2025-02-01 04:45:35 (15.4 MB/s) - ‘/content/coco/annotations_trainval2017.zip’ saved [252907541/252907541]\n",
            "\n"
          ]
        }
      ],
      "source": [
        "!mkdir -p /content/coco\n",
        "\n",
        "!wget -c http://images.cocodataset.org/zips/train2017.zip -P /content/coco\n",
        "!wget -c http://images.cocodataset.org/zips/val2017.zip -P /content/coco\n",
        "!wget -c http://images.cocodataset.org/annotations/annotations_trainval2017.zip -P /content/coco"
      ]
    },
    {
      "cell_type": "code",
      "source": [
        "import pandas as pd"
      ],
      "metadata": {
        "id": "k-kIGUcstEQt"
      },
      "execution_count": 1,
      "outputs": []
    },
    {
      "cell_type": "code",
      "source": [
        "import os\n",
        "\n",
        "dataset_path = \"/content/coco\"\n",
        "\n",
        "# Extract the zip file\n",
        "os.system(f\"unzip {dataset_path}/train2017.zip -d {dataset_path}\")\n",
        "os.system(f\"unzip {dataset_path}/val2017.zip -d {dataset_path}\")\n",
        "os.system(f\"unzip {dataset_path}/annotations_trainval2017.zip -d {dataset_path}\")"
      ],
      "metadata": {
        "colab": {
          "base_uri": "https://localhost:8080/"
        },
        "id": "bLBa6uBRdOI1",
        "outputId": "b251f357-f857-4a74-eb87-cf5a67caae70"
      },
      "execution_count": 5,
      "outputs": [
        {
          "output_type": "execute_result",
          "data": {
            "text/plain": [
              "256"
            ]
          },
          "metadata": {},
          "execution_count": 5
        }
      ]
    },
    {
      "cell_type": "code",
      "source": [
        "import os\n",
        "\n",
        "dataset_path = \"/content/coco\"\n",
        "train_images_path = \"/content/coco/train2017\"\n",
        "\n",
        "if os.path.exists(train_images_path):\n",
        "    print(\"Download and extraction successful!\")\n",
        "    print(f\"Number of images: {len(os.listdir(train_images_path))}\")\n",
        "else:\n",
        "    print(\"Something went wrong.\")\n",
        "\n",
        "val_images_path = \"/content/coco/val2017\"\n",
        "\n",
        "if os.path.exists(val_images_path):\n",
        "    print(\"Download and extraction successful!\")\n",
        "    print(f\"Number of images: {len(os.listdir(val_images_path))}\")\n",
        "else:\n",
        "    print(\"Something went wrong.\")\n",
        "\n",
        "anno_images_path = \"/content/coco/annotations\"\n",
        "\n",
        "if os.path.exists(anno_images_path):\n",
        "    print(\"Download and extraction successful!\")\n",
        "    print(f\"Number of images: {len(os.listdir(val_images_path))}\")\n",
        "else:\n",
        "    print(\"Something went wrong.\")"
      ],
      "metadata": {
        "colab": {
          "base_uri": "https://localhost:8080/"
        },
        "id": "ubu9JNvHdkDq",
        "outputId": "7f1786ad-7315-4205-e750-e7409110f774"
      },
      "execution_count": 2,
      "outputs": [
        {
          "output_type": "stream",
          "name": "stdout",
          "text": [
            "Download and extraction successful!\n",
            "Number of images: 118287\n",
            "Download and extraction successful!\n",
            "Number of images: 5000\n",
            "Download and extraction successful!\n",
            "Number of images: 5000\n"
          ]
        }
      ]
    },
    {
      "cell_type": "code",
      "source": [
        "'''\n",
        "!wget -c http://images.cocodataset.org/annotations/stuff_annotations_trainval2017.zip -P /content/coco\n",
        "os.system(f\"unzip {dataset_path}/stuff_annotations_trainval2017.zip -d {dataset_path}\")\n",
        "anno_images_path = \"/content/coco/annotations\"\n",
        "\n",
        "if os.path.exists(val_images_path):\n",
        "    print(\"Download and extraction successful!\")\n",
        "    print(f\"Number of images: {len(os.listdir(val_images_path))}\")\n",
        "else:\n",
        "    print(\"Something went wrong.\")\n",
        "    '''"
      ],
      "metadata": {
        "colab": {
          "base_uri": "https://localhost:8080/",
          "height": 87
        },
        "id": "5QbbKP_siFbj",
        "outputId": "6b48f509-513a-4474-8fe2-1826a0ac5752"
      },
      "execution_count": 5,
      "outputs": [
        {
          "output_type": "execute_result",
          "data": {
            "text/plain": [
              "'\\n!wget -c http://images.cocodataset.org/annotations/stuff_annotations_trainval2017.zip -P /content/coco\\nos.system(f\"unzip {dataset_path}/stuff_annotations_trainval2017.zip -d {dataset_path}\")\\nanno_images_path = \"/content/coco/annotations\"\\n\\nif os.path.exists(val_images_path):\\n    print(\"Download and extraction successful!\")\\n    print(f\"Number of images: {len(os.listdir(val_images_path))}\")\\nelse:\\n    print(\"Something went wrong.\")\\n    '"
            ],
            "application/vnd.google.colaboratory.intrinsic+json": {
              "type": "string"
            }
          },
          "metadata": {},
          "execution_count": 5
        }
      ]
    },
    {
      "cell_type": "code",
      "source": [
        "!mkdir -p ~/.kaggle\n",
        "\n",
        "# Move kaggle.json to the correct folder\n",
        "!mv kaggle.json ~/.kaggle/\n",
        "!kaggle competitions download -c image-processing-thai-language-image-captioning\n",
        "!mkdir -p /content/kaggle_competition\n",
        "\n",
        "# Unzip the dataset into the directory\n",
        "!unzip -q image-processing-thai-language-image-captioning.zip -d /content/kaggle_competition"
      ],
      "metadata": {
        "colab": {
          "base_uri": "https://localhost:8080/"
        },
        "id": "aAZvDglOls35",
        "outputId": "b31fcc2a-e641-4ba8-f123-83bedb3e713f"
      },
      "execution_count": 6,
      "outputs": [
        {
          "output_type": "stream",
          "name": "stdout",
          "text": [
            "Warning: Your Kaggle API key is readable by other users on this system! To fix this, you can run 'chmod 600 /root/.kaggle/kaggle.json'\n",
            "Downloading image-processing-thai-language-image-captioning.zip to /content\n",
            "100% 1.74G/1.75G [01:19<00:00, 25.0MB/s]\n",
            "100% 1.75G/1.75G [01:19<00:00, 23.5MB/s]\n"
          ]
        }
      ]
    },
    {
      "cell_type": "code",
      "source": [
        "dataset_path = \"/content/kaggle_competition\"\n",
        "\n",
        "print(\"Files in dataset folder:\", os.listdir(dataset_path))"
      ],
      "metadata": {
        "colab": {
          "base_uri": "https://localhost:8080/"
        },
        "id": "O98eUzrbl_xs",
        "outputId": "bc358e83-3c41-464a-b356-cd75861ebdf0"
      },
      "execution_count": 6,
      "outputs": [
        {
          "output_type": "stream",
          "name": "stdout",
          "text": [
            "Files in dataset folder: ['capgen_v1.0_val.json', 'test', 'capgen_v1.0_train.json', 'sample_submission.csv', 'val', 'train']\n"
          ]
        }
      ]
    },
    {
      "cell_type": "markdown",
      "source": [
        "## ADJUST"
      ],
      "metadata": {
        "id": "x6XaGgSfqbgU"
      }
    },
    {
      "cell_type": "code",
      "source": [
        "!pip install datasets  # For creating a Hugging Face Dataset\n",
        "\n",
        "import os\n",
        "import json\n",
        "from datasets import Dataset"
      ],
      "metadata": {
        "id": "YXeHpDPRqLOk",
        "outputId": "0fe387bc-6b36-4fa4-d5d1-eee20da36cad",
        "colab": {
          "base_uri": "https://localhost:8080/"
        }
      },
      "execution_count": 1,
      "outputs": [
        {
          "output_type": "stream",
          "name": "stdout",
          "text": [
            "Requirement already satisfied: datasets in /usr/local/lib/python3.11/dist-packages (3.2.0)\n",
            "Requirement already satisfied: filelock in /usr/local/lib/python3.11/dist-packages (from datasets) (3.17.0)\n",
            "Requirement already satisfied: numpy>=1.17 in /usr/local/lib/python3.11/dist-packages (from datasets) (1.26.4)\n",
            "Requirement already satisfied: pyarrow>=15.0.0 in /usr/local/lib/python3.11/dist-packages (from datasets) (17.0.0)\n",
            "Requirement already satisfied: dill<0.3.9,>=0.3.0 in /usr/local/lib/python3.11/dist-packages (from datasets) (0.3.8)\n",
            "Requirement already satisfied: pandas in /usr/local/lib/python3.11/dist-packages (from datasets) (2.2.2)\n",
            "Requirement already satisfied: requests>=2.32.2 in /usr/local/lib/python3.11/dist-packages (from datasets) (2.32.3)\n",
            "Requirement already satisfied: tqdm>=4.66.3 in /usr/local/lib/python3.11/dist-packages (from datasets) (4.67.1)\n",
            "Requirement already satisfied: xxhash in /usr/local/lib/python3.11/dist-packages (from datasets) (3.5.0)\n",
            "Requirement already satisfied: multiprocess<0.70.17 in /usr/local/lib/python3.11/dist-packages (from datasets) (0.70.16)\n",
            "Requirement already satisfied: fsspec<=2024.9.0,>=2023.1.0 in /usr/local/lib/python3.11/dist-packages (from fsspec[http]<=2024.9.0,>=2023.1.0->datasets) (2024.9.0)\n",
            "Requirement already satisfied: aiohttp in /usr/local/lib/python3.11/dist-packages (from datasets) (3.11.11)\n",
            "Requirement already satisfied: huggingface-hub>=0.23.0 in /usr/local/lib/python3.11/dist-packages (from datasets) (0.27.1)\n",
            "Requirement already satisfied: packaging in /usr/local/lib/python3.11/dist-packages (from datasets) (24.2)\n",
            "Requirement already satisfied: pyyaml>=5.1 in /usr/local/lib/python3.11/dist-packages (from datasets) (6.0.2)\n",
            "Requirement already satisfied: aiohappyeyeballs>=2.3.0 in /usr/local/lib/python3.11/dist-packages (from aiohttp->datasets) (2.4.4)\n",
            "Requirement already satisfied: aiosignal>=1.1.2 in /usr/local/lib/python3.11/dist-packages (from aiohttp->datasets) (1.3.2)\n",
            "Requirement already satisfied: attrs>=17.3.0 in /usr/local/lib/python3.11/dist-packages (from aiohttp->datasets) (25.1.0)\n",
            "Requirement already satisfied: frozenlist>=1.1.1 in /usr/local/lib/python3.11/dist-packages (from aiohttp->datasets) (1.5.0)\n",
            "Requirement already satisfied: multidict<7.0,>=4.5 in /usr/local/lib/python3.11/dist-packages (from aiohttp->datasets) (6.1.0)\n",
            "Requirement already satisfied: propcache>=0.2.0 in /usr/local/lib/python3.11/dist-packages (from aiohttp->datasets) (0.2.1)\n",
            "Requirement already satisfied: yarl<2.0,>=1.17.0 in /usr/local/lib/python3.11/dist-packages (from aiohttp->datasets) (1.18.3)\n",
            "Requirement already satisfied: typing-extensions>=3.7.4.3 in /usr/local/lib/python3.11/dist-packages (from huggingface-hub>=0.23.0->datasets) (4.12.2)\n",
            "Requirement already satisfied: charset-normalizer<4,>=2 in /usr/local/lib/python3.11/dist-packages (from requests>=2.32.2->datasets) (3.4.1)\n",
            "Requirement already satisfied: idna<4,>=2.5 in /usr/local/lib/python3.11/dist-packages (from requests>=2.32.2->datasets) (3.10)\n",
            "Requirement already satisfied: urllib3<3,>=1.21.1 in /usr/local/lib/python3.11/dist-packages (from requests>=2.32.2->datasets) (2.3.0)\n",
            "Requirement already satisfied: certifi>=2017.4.17 in /usr/local/lib/python3.11/dist-packages (from requests>=2.32.2->datasets) (2024.12.14)\n",
            "Requirement already satisfied: python-dateutil>=2.8.2 in /usr/local/lib/python3.11/dist-packages (from pandas->datasets) (2.8.2)\n",
            "Requirement already satisfied: pytz>=2020.1 in /usr/local/lib/python3.11/dist-packages (from pandas->datasets) (2024.2)\n",
            "Requirement already satisfied: tzdata>=2022.7 in /usr/local/lib/python3.11/dist-packages (from pandas->datasets) (2025.1)\n",
            "Requirement already satisfied: six>=1.5 in /usr/local/lib/python3.11/dist-packages (from python-dateutil>=2.8.2->pandas->datasets) (1.17.0)\n"
          ]
        }
      ]
    },
    {
      "cell_type": "code",
      "source": [
        "'''def parse_coco_captions(caption_file, images_dir):\n",
        "    \"\"\"\n",
        "    Parses a COCO caption file and returns a list of dictionaries\n",
        "    with keys: ['cocoid', 'image', 'caption'].\n",
        "    \"\"\"\n",
        "\n",
        "    with open(caption_file, 'r') as f:\n",
        "        coco_data = json.load(f)\n",
        "\n",
        "    # Map from image_id -> file_name\n",
        "    image_id_to_file = {\n",
        "        img[\"id\"]: img[\"file_name\"] for img in coco_data[\"images\"]\n",
        "    }\n",
        "\n",
        "    # Build our dataset entries\n",
        "    dataset_entries = []\n",
        "    for ann in coco_data[\"annotations\"]:\n",
        "        image_id = ann[\"image_id\"]\n",
        "        caption = ann[\"caption\"]\n",
        "\n",
        "        # The COCO file name (e.g. \"000000391895.jpg\")\n",
        "        file_name = image_id_to_file[image_id]\n",
        "        image_path = os.path.join(images_dir, file_name)\n",
        "\n",
        "        # You can decide how to define \"cocoid\"\n",
        "        # Here we just use the image file name without .jpg\n",
        "        cocoid = file_name.replace(\".jpg\", \"\")\n",
        "\n",
        "        dataset_entries.append({\n",
        "            \"cocoid\": cocoid,\n",
        "            \"image\": image_path,\n",
        "            \"caption\": caption\n",
        "        })\n",
        "\n",
        "    return dataset_entries'''\n"
      ],
      "metadata": {
        "colab": {
          "base_uri": "https://localhost:8080/",
          "height": 174
        },
        "id": "T2M0uHUnNL0c",
        "outputId": "7893a7a1-9c43-433e-df4b-6a99d62da273"
      },
      "execution_count": 2,
      "outputs": [
        {
          "output_type": "execute_result",
          "data": {
            "text/plain": [
              "'def parse_coco_captions(caption_file, images_dir):\\n    \"\"\"\\n    Parses a COCO caption file and returns a list of dictionaries\\n    with keys: [\\'cocoid\\', \\'image\\', \\'caption\\'].\\n    \"\"\"\\n\\n    with open(caption_file, \\'r\\') as f:\\n        coco_data = json.load(f)\\n\\n    # Map from image_id -> file_name\\n    image_id_to_file = {\\n        img[\"id\"]: img[\"file_name\"] for img in coco_data[\"images\"]\\n    }\\n\\n    # Build our dataset entries\\n    dataset_entries = []\\n    for ann in coco_data[\"annotations\"]:\\n        image_id = ann[\"image_id\"]\\n        caption = ann[\"caption\"]\\n\\n        # The COCO file name (e.g. \"000000391895.jpg\")\\n        file_name = image_id_to_file[image_id]\\n        image_path = os.path.join(images_dir, file_name)\\n\\n        # You can decide how to define \"cocoid\"\\n        # Here we just use the image file name without .jpg\\n        cocoid = file_name.replace(\".jpg\", \"\")\\n\\n        dataset_entries.append({\\n            \"cocoid\": cocoid,\\n            \"image\": image_path,\\n            \"caption\": caption\\n        })\\n\\n    return dataset_entries'"
            ],
            "application/vnd.google.colaboratory.intrinsic+json": {
              "type": "string"
            }
          },
          "metadata": {},
          "execution_count": 2
        }
      ]
    },
    {
      "cell_type": "code",
      "source": [
        "def parse_coco_captions_single(caption_file, images_dir):\n",
        "    \"\"\"\n",
        "    Parses a COCO caption file but keeps only ONE caption per image.\n",
        "    Returns a list of dictionaries with keys: ['cocoid', 'image', 'caption'].\n",
        "    \"\"\"\n",
        "\n",
        "    with open(caption_file, \"r\") as f:\n",
        "        coco_data = json.load(f)\n",
        "\n",
        "    # Map from image_id -> file_name (COCO's standard approach)\n",
        "    image_id_to_file = {\n",
        "        img[\"id\"]: img[\"file_name\"] for img in coco_data[\"images\"]\n",
        "    }\n",
        "\n",
        "    # We'll keep only the first caption we see for each image_id\n",
        "    image_id_to_caption = {}\n",
        "\n",
        "    # Loop through all annotations, store ONLY the first encountered\n",
        "    for ann in coco_data[\"annotations\"]:\n",
        "        image_id = ann[\"image_id\"]\n",
        "        caption = ann[\"caption\"]\n",
        "\n",
        "        # If we haven't set a caption for this image yet, store it\n",
        "        if image_id not in image_id_to_caption:\n",
        "            image_id_to_caption[image_id] = caption\n",
        "\n",
        "    # Build the final dataset entries\n",
        "    dataset_entries = []\n",
        "    for image_id, caption in image_id_to_caption.items():\n",
        "        file_name = image_id_to_file[image_id]  # e.g. \"000000391895.jpg\"\n",
        "        image_path = os.path.join(images_dir, file_name)\n",
        "\n",
        "        # We'll define 'cocoid' as the file name minus \".jpg\"\n",
        "        cocoid = file_name.replace(\".jpg\", \"\")\n",
        "\n",
        "        dataset_entries.append({\n",
        "            \"cocoid\": cocoid,\n",
        "            \"image\": image_path,\n",
        "            \"caption\": caption\n",
        "        })\n",
        "\n",
        "    return dataset_entries"
      ],
      "metadata": {
        "id": "xvu24iMXeDoj"
      },
      "execution_count": 3,
      "outputs": []
    },
    {
      "cell_type": "code",
      "source": [
        "train_caption_file = \"/content/coco/annotations/captions_train2017.json\"\n",
        "val_caption_file   = \"/content/coco/annotations/captions_val2017.json\"\n",
        "\n",
        "train_images_dir = \"/content/coco/train2017\"\n",
        "val_images_dir   = \"/content/coco/val2017\"\n",
        "\n",
        "train_entries = parse_coco_captions_single(train_caption_file, train_images_dir)\n",
        "val_entries   = parse_coco_captions_single(val_caption_file, val_images_dir)\n",
        "\n",
        "train_dataset = Dataset.from_list(train_entries)\n",
        "val_dataset   = Dataset.from_list(val_entries)"
      ],
      "metadata": {
        "id": "hr2XsZsuNSu8"
      },
      "execution_count": 4,
      "outputs": []
    },
    {
      "cell_type": "code",
      "source": [
        "train_dataset"
      ],
      "metadata": {
        "colab": {
          "base_uri": "https://localhost:8080/"
        },
        "id": "IJv36w88NmSM",
        "outputId": "6bb367e4-0d85-4d0b-a808-545e593aeb09"
      },
      "execution_count": 5,
      "outputs": [
        {
          "output_type": "execute_result",
          "data": {
            "text/plain": [
              "Dataset({\n",
              "    features: ['cocoid', 'image', 'caption'],\n",
              "    num_rows: 118287\n",
              "})"
            ]
          },
          "metadata": {},
          "execution_count": 5
        }
      ]
    },
    {
      "cell_type": "code",
      "source": [
        "train_dataset[5:8]"
      ],
      "metadata": {
        "colab": {
          "base_uri": "https://localhost:8080/"
        },
        "id": "sQg5OeEtPzZM",
        "outputId": "4b5675af-d7e1-4b75-a618-c770d6eb255a"
      },
      "execution_count": 6,
      "outputs": [
        {
          "output_type": "execute_result",
          "data": {
            "text/plain": [
              "{'cocoid': ['000000301837', '000000315702', '000000189634'],\n",
              " 'image': ['/content/coco/train2017/000000301837.jpg',\n",
              "  '/content/coco/train2017/000000315702.jpg',\n",
              "  '/content/coco/train2017/000000189634.jpg'],\n",
              " 'caption': ['A long empty, minimal modern skylit home kitchen.',\n",
              "  'A bathroom sink with toiletries on the counter.',\n",
              "  'This is an open box containing four cucumbers.']}"
            ]
          },
          "metadata": {},
          "execution_count": 6
        }
      ]
    },
    {
      "cell_type": "code",
      "source": [
        "from PIL import Image\n",
        "Image.open(train_dataset[0][\"image\"])"
      ],
      "metadata": {
        "colab": {
          "base_uri": "https://localhost:8080/",
          "height": 417
        },
        "id": "4ovSAcsdP7Rg",
        "outputId": "31114d6b-fbce-42f0-c43b-9873711d0e0c"
      },
      "execution_count": 7,
      "outputs": [
        {
          "output_type": "execute_result",
          "data": {
            "text/plain": [
              "<PIL.JpegImagePlugin.JpegImageFile image mode=RGB size=400x400>"
            ],
            "image/png": "[encoded data removed]",
            "image/jpeg": "[encoded data removed]"
          },
          "metadata": {},
          "execution_count": 7
        }
      ]
    },
    {
      "cell_type": "code",
      "source": [
        "train_dataset[0][\"caption\"]"
      ],
      "metadata": {
        "colab": {
          "base_uri": "https://localhost:8080/",
          "height": 35
        },
        "id": "MOI6uM3kP7hK",
        "outputId": "6a0ea086-a608-4bc0-ea51-49c4eff3a080"
      },
      "execution_count": 8,
      "outputs": [
        {
          "output_type": "execute_result",
          "data": {
            "text/plain": [
              "'A bicycle replica with a clock as the front wheel.'"
            ],
            "application/vnd.google.colaboratory.intrinsic+json": {
              "type": "string"
            }
          },
          "metadata": {},
          "execution_count": 8
        }
      ]
    },
    {
      "cell_type": "code",
      "source": [
        "import json\n",
        "import os\n",
        "\n",
        "# Path to your original JSON file\n",
        "input_json_path = \"/content/kaggle_competition/capgen_v1.0_train.json\"\n",
        "input_json_path2 = \"/content/kaggle_competition/capgen_v1.0_val.json\"\n",
        "\n",
        "# Where we'll save the separated JSON files\n",
        "ipu24_output_path = \"/content/kaggle_competition/ipu24_data.json\"\n",
        "coco_output_path = \"/content/kaggle_competition/coco_data.json\"\n",
        "ipu24_output_path2 = \"/content/kaggle_competition/ipu24_data2.json\"\n",
        "coco_output_path2 = \"/content/kaggle_competition/coco_data2.json\"\n",
        "\n",
        "# 1. Load the original JSON\n",
        "with open(input_json_path, \"r\", encoding=\"utf-8\") as f:\n",
        "    data = json.load(f)\n",
        "\n",
        "# 2. Prepare dictionaries to hold separated data\n",
        "ipu24_data_train = {}\n",
        "coco_data_train = {}\n",
        "ipu24_data_val = {}\n",
        "coco_data_val = {}\n",
        "\n",
        "# 3. Define a helper to pick the longest caption\n",
        "def pick_longest_string(captions_list):\n",
        "    \"\"\"Return the single longest string from a list of strings.\"\"\"\n",
        "    if not captions_list:\n",
        "        return \"\"  # Return empty if there's no data\n",
        "    return max(captions_list, key=len)\n",
        "\n",
        "# 4. Loop through each entry, separate, and reduce\n",
        "for image_path, captions in data.items():\n",
        "    # Get the single longest caption\n",
        "    longest_caption = pick_longest_string(captions)\n",
        "\n",
        "    if image_path.startswith(\"ipu24\"):\n",
        "        ipu24_data_train[image_path] = longest_caption\n",
        "    elif image_path.startswith(\"coco\"):\n",
        "        coco_data_train[image_path] = longest_caption\n",
        "    else:\n",
        "        # If there's another prefix, decide how to handle it\n",
        "        # For now, let's ignore or you could store in a separate dict\n",
        "        pass\n",
        "\n",
        "with open(input_json_path2, \"r\", encoding=\"utf-8\") as f:\n",
        "    data = json.load(f)\n",
        "\n",
        "  # 4. Loop through each entry, separate, and reduce\n",
        "for image_path, captions in data.items():\n",
        "    # Get the single longest caption\n",
        "    longest_caption = pick_longest_string(captions)\n",
        "\n",
        "    if image_path.startswith(\"ipu24\"):\n",
        "        ipu24_data_val[image_path] = longest_caption\n",
        "    elif image_path.startswith(\"coco\"):\n",
        "        coco_data_val[image_path] = longest_caption\n",
        "    else:\n",
        "        # If there's another prefix, decide how to handle it\n",
        "        # For now, let's ignore or you could store in a separate dict\n",
        "        pass\n"
      ],
      "metadata": {
        "id": "x4_rtM_eRSUz"
      },
      "execution_count": 9,
      "outputs": []
    },
    {
      "cell_type": "code",
      "source": [
        "len(ipu24_data_val)"
      ],
      "metadata": {
        "colab": {
          "base_uri": "https://localhost:8080/"
        },
        "id": "4mgS8UlMVnMh",
        "outputId": "b76073b8-d2b9-45d6-fbe2-b86fc80a54f6"
      },
      "execution_count": 10,
      "outputs": [
        {
          "output_type": "execute_result",
          "data": {
            "text/plain": [
              "4036"
            ]
          },
          "metadata": {},
          "execution_count": 10
        }
      ]
    },
    {
      "cell_type": "code",
      "source": [
        "'''def replace_captions_train(batch):\n",
        "    images = batch[\"image\"]\n",
        "    old_captions = batch[\"caption\"]\n",
        "\n",
        "    new_captions = []\n",
        "    replaced_flags = []\n",
        "\n",
        "    for img_path, old_cap in zip(images, old_captions):\n",
        "        # Extract the last two path components => e.g. \"coco/train2017/000000214481.jpg\"\n",
        "        # Typically: \"/content/coco/train2017/000000214481.jpg\" -> \"coco/train2017/000000214481.jpg\"\n",
        "        parts = img_path.split(\"/\")[-2:]  # e.g. ['train2017', '000000214481.jpg']\n",
        "        rel_path = \"/\".join(parts)        # => \"train2017/000000214481.jpg\"\n",
        "\n",
        "        # We might need \"coco/train2017/filename.jpg\", so if your dictionary\n",
        "        # keys ALWAYS have \"coco/train2017/filename.jpg\" (no leading \"/content/\"):\n",
        "        # Then do:\n",
        "        rel_path = f\"coco/{rel_path}\"  # => \"coco/train2017/000000214481.jpg\"\n",
        "\n",
        "        # Check if rel_path in dictionary\n",
        "        if rel_path in coco_data_train:\n",
        "            new_captions.append(coco_data_train[rel_path])\n",
        "            replaced_flags.append(1)\n",
        "        else:\n",
        "            new_captions.append(old_cap)\n",
        "            replaced_flags.append(0)\n",
        "\n",
        "    return {\n",
        "        \"caption\": new_captions,\n",
        "        \"replaced\": replaced_flags\n",
        "    }'''"
      ],
      "metadata": {
        "colab": {
          "base_uri": "https://localhost:8080/",
          "height": 174
        },
        "id": "iYbVuTRokXc8",
        "outputId": "a89fd825-a21c-4581-f262-880e5e56e3bb"
      },
      "execution_count": 11,
      "outputs": [
        {
          "output_type": "execute_result",
          "data": {
            "text/plain": [
              "'def replace_captions_train(batch):\\n    images = batch[\"image\"]\\n    old_captions = batch[\"caption\"]\\n\\n    new_captions = []\\n    replaced_flags = []\\n\\n    for img_path, old_cap in zip(images, old_captions):\\n        # Extract the last two path components => e.g. \"coco/train2017/000000214481.jpg\"\\n        # Typically: \"/content/coco/train2017/000000214481.jpg\" -> \"coco/train2017/000000214481.jpg\"\\n        parts = img_path.split(\"/\")[-2:]  # e.g. [\\'train2017\\', \\'000000214481.jpg\\']\\n        rel_path = \"/\".join(parts)        # => \"train2017/000000214481.jpg\"\\n\\n        # We might need \"coco/train2017/filename.jpg\", so if your dictionary\\n        # keys ALWAYS have \"coco/train2017/filename.jpg\" (no leading \"/content/\"):\\n        # Then do:\\n        rel_path = f\"coco/{rel_path}\"  # => \"coco/train2017/000000214481.jpg\"\\n\\n        # Check if rel_path in dictionary\\n        if rel_path in coco_data_train:\\n            new_captions.append(coco_data_train[rel_path])\\n            replaced_flags.append(1)\\n        else:\\n            new_captions.append(old_cap)\\n            replaced_flags.append(0)\\n\\n    return {\\n        \"caption\": new_captions,\\n        \"replaced\": replaced_flags\\n    }'"
            ],
            "application/vnd.google.colaboratory.intrinsic+json": {
              "type": "string"
            }
          },
          "metadata": {},
          "execution_count": 11
        }
      ]
    },
    {
      "cell_type": "code",
      "source": [
        "def replace_captions_train(batch):\n",
        "    images = batch[\"image\"]\n",
        "    old_captions = batch[\"caption\"]\n",
        "\n",
        "    new_captions = []\n",
        "\n",
        "    for img_path, old_cap in zip(images, old_captions):\n",
        "        # Extract the last two path components => e.g. \"coco/train2017/000000214481.jpg\"\n",
        "        # Typically: \"/content/coco/train2017/000000214481.jpg\" -> \"coco/train2017/000000214481.jpg\"\n",
        "        parts = img_path.split(\"/\")[-2:]  # e.g. ['train2017', '000000214481.jpg']\n",
        "        rel_path = \"/\".join(parts)        # => \"train2017/000000214481.jpg\"\n",
        "\n",
        "        # We might need \"coco/train2017/filename.jpg\", so if your dictionary\n",
        "        # keys ALWAYS have \"coco/train2017/filename.jpg\" (no leading \"/content/\"):\n",
        "        # Then do:\n",
        "        rel_path = f\"coco/{rel_path}\"  # => \"coco/train2017/000000214481.jpg\"\n",
        "\n",
        "        # Check if rel_path in dictionary\n",
        "        if rel_path in coco_data_train:\n",
        "            new_captions.append(coco_data_train[rel_path])\n",
        "        else:\n",
        "            new_captions.append(old_cap)\n",
        "\n",
        "    return {\n",
        "        \"caption\": new_captions\n",
        "    }\n",
        "\n",
        "def replace_captions_val(batch):\n",
        "    images = batch[\"image\"]\n",
        "    old_captions = batch[\"caption\"]\n",
        "\n",
        "    new_captions = []\n",
        "\n",
        "    for img_path, old_cap in zip(images, old_captions):\n",
        "        # Extract the last two path components => e.g. \"coco/train2017/000000214481.jpg\"\n",
        "        # Typically: \"/content/coco/train2017/000000214481.jpg\" -> \"coco/train2017/000000214481.jpg\"\n",
        "        parts = img_path.split(\"/\")[-2:]  # e.g. ['train2017', '000000214481.jpg']\n",
        "        rel_path = \"/\".join(parts)        # => \"train2017/000000214481.jpg\"\n",
        "\n",
        "        # We might need \"coco/train2017/filename.jpg\", so if your dictionary\n",
        "        # keys ALWAYS have \"coco/train2017/filename.jpg\" (no leading \"/content/\"):\n",
        "        # Then do:\n",
        "        rel_path = f\"coco/{rel_path}\"  # => \"coco/train2017/000000214481.jpg\"\n",
        "\n",
        "        # Check if rel_path in dictionary\n",
        "        if rel_path in coco_data_val:\n",
        "            new_captions.append(coco_data_val[rel_path])\n",
        "        else:\n",
        "            new_captions.append(old_cap)\n",
        "\n",
        "    return {\n",
        "        \"caption\": new_captions\n",
        "    }"
      ],
      "metadata": {
        "id": "0DUcIEMRWV1-"
      },
      "execution_count": 12,
      "outputs": []
    },
    {
      "cell_type": "code",
      "source": [
        "updated_train_dataset = train_dataset.map(\n",
        "    replace_captions_train,\n",
        "    batched=True,    # Process rows in batches\n",
        "    batch_size=1000, # Tweak if needed\n",
        "    num_proc=1       # or more if you want parallel processing\n",
        ")\n",
        "\n",
        "updated_val_dataset = val_dataset.map(\n",
        "    replace_captions_val,\n",
        "    batched=True,    # Process rows in batches\n",
        "    batch_size=1000, # Tweak if needed\n",
        "    num_proc=1       # or more if you want parallel processing\n",
        ")\n"
      ],
      "metadata": {
        "colab": {
          "base_uri": "https://localhost:8080/",
          "height": 81,
          "referenced_widgets": [
            "f4f2d231d2844ac8a698267e6b410e7a",
            "318cb05f147e492e86a64d9019429af6",
            "bdeee3116dee4303b987b73b28cb3564",
            "f01605b7061745a5b9f8eb21f86188d6",
            "a265ad3f1aeb4929b1c0f20a33adb22c",
            "9c94333c1325465baaebaea4e1899936",
            "c519cf53d52c40bf8454daf4c27477e8",
            "3582c0bd4d094b38be2fe190bd14b237",
            "aea66d41e70647ea9e87730255df8541",
            "9a56b77a772e46b5807f0fb205f3e2dd",
            "64ef13563de7449db773917c6472f0c9",
            "11b244e5e0f74a8ca683b1b1d53a4991",
            "01427c3d098e40128de3a3c5c7b98a59",
            "8c28b0b91f554f74bcd77a7838fbc246",
            "3ba92f7d51d94f228501f30c4efce1ac",
            "4fedb49728c5429ebe3cbfd28c2cca2c",
            "461d0e49d71b4196b5d3dd04866768e1",
            "9ff0998341b946eda78904a74468d643",
            "9d7a9427792c479fb945c284a3066dda",
            "857f8758eed6437493414c6ceae3ae0e",
            "bc10f6da3afa40c29e0db8c9d30cd968",
            "c282350ac83a4e1a9cd425ae87d441cf"
          ]
        },
        "id": "tp3DgovNapAJ",
        "outputId": "3cb16bb2-5444-4edf-a2ee-0a904bada1c3"
      },
      "execution_count": 13,
      "outputs": [
        {
          "output_type": "display_data",
          "data": {
            "text/plain": [
              "Map:   0%|          | 0/118287 [00:00<?, ? examples/s]"
            ],
            "application/vnd.jupyter.widget-view+json": {
              "version_major": 2,
              "version_minor": 0,
              "model_id": "f4f2d231d2844ac8a698267e6b410e7a"
            }
          },
          "metadata": {}
        },
        {
          "output_type": "display_data",
          "data": {
            "text/plain": [
              "Map:   0%|          | 0/5000 [00:00<?, ? examples/s]"
            ],
            "application/vnd.jupyter.widget-view+json": {
              "version_major": 2,
              "version_minor": 0,
              "model_id": "11b244e5e0f74a8ca683b1b1d53a4991"
            }
          },
          "metadata": {}
        }
      ]
    },
    {
      "cell_type": "code",
      "source": [
        "updated_val_dataset"
      ],
      "metadata": {
        "colab": {
          "base_uri": "https://localhost:8080/"
        },
        "id": "nUFQoGVVckVZ",
        "outputId": "e6c21791-648a-4fcf-98de-ed61a6713fb6"
      },
      "execution_count": 14,
      "outputs": [
        {
          "output_type": "execute_result",
          "data": {
            "text/plain": [
              "Dataset({\n",
              "    features: ['cocoid', 'image', 'caption'],\n",
              "    num_rows: 5000\n",
              "})"
            ]
          },
          "metadata": {},
          "execution_count": 14
        }
      ]
    },
    {
      "cell_type": "code",
      "source": [
        "train_dataset[:10]"
      ],
      "metadata": {
        "colab": {
          "base_uri": "https://localhost:8080/"
        },
        "id": "CCDHyhewctZ_",
        "outputId": "2ac1c3cb-8495-46f1-8295-f7bdaad5e86e"
      },
      "execution_count": 15,
      "outputs": [
        {
          "output_type": "execute_result",
          "data": {
            "text/plain": [
              "{'cocoid': ['000000203564',\n",
              "  '000000322141',\n",
              "  '000000016977',\n",
              "  '000000106140',\n",
              "  '000000571635',\n",
              "  '000000301837',\n",
              "  '000000315702',\n",
              "  '000000189634',\n",
              "  '000000472598',\n",
              "  '000000162113'],\n",
              " 'image': ['/content/coco/train2017/000000203564.jpg',\n",
              "  '/content/coco/train2017/000000322141.jpg',\n",
              "  '/content/coco/train2017/000000016977.jpg',\n",
              "  '/content/coco/train2017/000000106140.jpg',\n",
              "  '/content/coco/train2017/000000571635.jpg',\n",
              "  '/content/coco/train2017/000000301837.jpg',\n",
              "  '/content/coco/train2017/000000315702.jpg',\n",
              "  '/content/coco/train2017/000000189634.jpg',\n",
              "  '/content/coco/train2017/000000472598.jpg',\n",
              "  '/content/coco/train2017/000000162113.jpg'],\n",
              " 'caption': ['A bicycle replica with a clock as the front wheel.',\n",
              "  'A room with blue walls and a white sink and door.',\n",
              "  'A car that seems to be parked illegally behind a legally parked car',\n",
              "  'A large passenger airplane flying through the air.',\n",
              "  'A bathroom with a toilet, sink, and shower.',\n",
              "  'A long empty, minimal modern skylit home kitchen.',\n",
              "  'A bathroom sink with toiletries on the counter.',\n",
              "  'This is an open box containing four cucumbers.',\n",
              "  'An old-fashioned green station wagon is parked on a shady driveway.',\n",
              "  'A gas stove next to a stainless steel kitchen sink and countertop.']}"
            ]
          },
          "metadata": {},
          "execution_count": 15
        }
      ]
    },
    {
      "cell_type": "code",
      "source": [
        "def create_ipu24train_dataset(data_dict, root_dir=\"/content/kaggle_competition/train/train\"):\n",
        "    \"\"\"\n",
        "    data_dict: a dictionary of { \"ipu24/train/.../xxxx.jpg\": \"some caption\", ... }\n",
        "    root_dir: the parent directory where subfolders \"food\" and \"travel\" exist.\n",
        "\n",
        "    Returns a Hugging Face Dataset with columns [ipuid, image, caption].\n",
        "    \"\"\"\n",
        "\n",
        "    entries = []\n",
        "\n",
        "    for key, caption in data_dict.items():\n",
        "        # 'key' example: \"ipu24/train/travel/00000.jpg\"\n",
        "\n",
        "        # 1) Remove the leading \"ipu24/train\" part to get a relative path like \"travel/00000.jpg\"\n",
        "        relative_path = key.replace(\"ipu24/train\", \"\").lstrip(\"/\")\n",
        "        # Now 'relative_path' should be \"travel/00000.jpg\" or \"food/16311.jpg\", etc.\n",
        "\n",
        "        # 2) Build the full path to the local image\n",
        "        # => \"/content/kaggle_competition/train/train/travel/00000.jpg\"\n",
        "        image_path = os.path.join(root_dir, relative_path)\n",
        "\n",
        "        # 3) Create an 'ipuid' (unique ID) by stripping \".jpg\" from the filename\n",
        "        file_name = os.path.basename(image_path)   # e.g. \"00000.jpg\"\n",
        "        ipuid = file_name.replace(\".jpg\", \"\")      # e.g. \"00000\"\n",
        "\n",
        "        # 4) Append to a list of dictionaries\n",
        "        entries.append({\n",
        "            \"ipuid\": ipuid,\n",
        "            \"image\": image_path,\n",
        "            \"caption\": caption\n",
        "        })\n",
        "\n",
        "    # 5) Create a Hugging Face Dataset from the list of rows\n",
        "    dataset = Dataset.from_list(entries)\n",
        "    return dataset\n",
        "\n",
        "def create_ipu24val_dataset(data_dict, root_dir=\"/content/kaggle_competition/val/val\"):\n",
        "    \"\"\"\n",
        "    data_dict: a dictionary of { \"ipu24/train/.../xxxx.jpg\": \"some caption\", ... }\n",
        "    root_dir: the parent directory where subfolders \"food\" and \"travel\" exist.\n",
        "\n",
        "    Returns a Hugging Face Dataset with columns [ipuid, image, caption].\n",
        "    \"\"\"\n",
        "\n",
        "    entries = []\n",
        "\n",
        "    for key, caption in data_dict.items():\n",
        "        # 'key' example: \"ipu24/train/travel/00000.jpg\"\n",
        "\n",
        "        # 1) Remove the leading \"ipu24/train\" part to get a relative path like \"travel/00000.jpg\"\n",
        "        relative_path = key.replace(\"ipu24/val\", \"\").lstrip(\"/\")\n",
        "        # Now 'relative_path' should be \"travel/00000.jpg\" or \"food/16311.jpg\", etc.\n",
        "\n",
        "        # 2) Build the full path to the local image\n",
        "        # => \"/content/kaggle_competition/train/train/travel/00000.jpg\"\n",
        "        image_path = os.path.join(root_dir, relative_path)\n",
        "\n",
        "        # 3) Create an 'ipuid' (unique ID) by stripping \".jpg\" from the filename\n",
        "        file_name = os.path.basename(image_path)   # e.g. \"00000.jpg\"\n",
        "        ipuid = file_name.replace(\".jpg\", \"\")      # e.g. \"00000\"\n",
        "\n",
        "        # 4) Append to a list of dictionaries\n",
        "        entries.append({\n",
        "            \"ipuid\": ipuid,\n",
        "            \"image\": image_path,\n",
        "            \"caption\": caption\n",
        "        })\n",
        "\n",
        "    # 5) Create a Hugging Face Dataset from the list of rows\n",
        "    dataset = Dataset.from_list(entries)\n",
        "    return dataset"
      ],
      "metadata": {
        "id": "UUnjnk9jk3zz"
      },
      "execution_count": 16,
      "outputs": []
    },
    {
      "cell_type": "code",
      "source": [
        "train_dir = \"/content/kaggle_competition/train/train\"\n",
        "kaggle_train_dataset = create_ipu24train_dataset(ipu24_data_train, root_dir=train_dir)\n",
        "\n",
        "val_dir = \"/content/kaggle_competition/val/val\"\n",
        "kaggle_val_dataset = create_ipu24val_dataset(ipu24_data_val, root_dir=val_dir)\n",
        "\n",
        "print(kaggle_train_dataset)\n",
        "print(kaggle_val_dataset)"
      ],
      "metadata": {
        "colab": {
          "base_uri": "https://localhost:8080/"
        },
        "id": "8SWbCx-5m3-Q",
        "outputId": "cfde445a-ac5f-476a-94c0-1b3801a401bc"
      },
      "execution_count": 17,
      "outputs": [
        {
          "output_type": "stream",
          "name": "stdout",
          "text": [
            "Dataset({\n",
            "    features: ['ipuid', 'image', 'caption'],\n",
            "    num_rows: 28004\n",
            "})\n",
            "Dataset({\n",
            "    features: ['ipuid', 'image', 'caption'],\n",
            "    num_rows: 4036\n",
            "})\n"
          ]
        }
      ]
    },
    {
      "cell_type": "code",
      "source": [
        "kaggle_train_dataset[:10]"
      ],
      "metadata": {
        "colab": {
          "base_uri": "https://localhost:8080/"
        },
        "id": "t_2aK8_Wm5b-",
        "outputId": "f7ddbbf3-290e-4651-ffd6-ff604ec47311"
      },
      "execution_count": 18,
      "outputs": [
        {
          "output_type": "execute_result",
          "data": {
            "text/plain": [
              "{'ipuid': ['00000',\n",
              "  '00001',\n",
              "  '00002',\n",
              "  '00003',\n",
              "  '00004',\n",
              "  '00005',\n",
              "  '00006',\n",
              "  '00007',\n",
              "  '00008',\n",
              "  '00009'],\n",
              " 'image': ['/content/kaggle_competition/train/train/travel/00000.jpg',\n",
              "  '/content/kaggle_competition/train/train/travel/00001.jpg',\n",
              "  '/content/kaggle_competition/train/train/travel/00002.jpg',\n",
              "  '/content/kaggle_competition/train/train/travel/00003.jpg',\n",
              "  '/content/kaggle_competition/train/train/travel/00004.jpg',\n",
              "  '/content/kaggle_competition/train/train/travel/00005.jpg',\n",
              "  '/content/kaggle_competition/train/train/travel/00006.jpg',\n",
              "  '/content/kaggle_competition/train/train/travel/00007.jpg',\n",
              "  '/content/kaggle_competition/train/train/travel/00008.jpg',\n",
              "  '/content/kaggle_competition/train/train/travel/00009.jpg'],\n",
              " 'caption': ['รูปปั้นมังกร มีหนวดสีทอง เขี้ยวและฟันสีขาว ลำตัวสีแดง เกล็ดสีทอง เท้าสีทอง ข้างโคมไฟสีแดง',\n",
              "  'สร้างโบราณสถานขนาดใหญ่ที่อยู่ตรงพื้นที่เต็มไปด้วยต้นไม้สีเขียว',\n",
              "  'พระพุทธรูปปางมารวิชัยในท่านั่งสีทอง บนฐานลายกลีบบัวสีแดง ด้านหน้ามีเทียน 2 อัน',\n",
              "  'พระอุโบสถขนาดเล็ก ศิลปะแบบล้านนา ตั้งอยู่ภายในวัดอุโมงค์มหาเถรจันทร์ จังหวัดเชียงใหม่',\n",
              "  'เจดีย์ที่ฐานมีรูปปั้นช้างล้อมรอบและด้านบนเป็นเจดีย์สีทอง',\n",
              "  'รูปปั้นพระพุทธรูปตัวใหญ่ตั้งอยู่บนพื้นปูนสีแดงด้านหน้ามีดอกไม้',\n",
              "  'อนุสาวรีย์ตั้งอยู่ข้าง ๆ มีรูปปั้นช้าง ด้านหลังมีเจดีย์หินเก่าตั้งอยู่',\n",
              "  'แผ่นกระเบื้องสี่เหลี่ยมสีน้ำตาลหลายอันวางเรียงซ้อนกันอยู่บนพื้นปูนสีเทา',\n",
              "  'ทางขึ้นโบสถ์แห่งหนึ่ง มีรูปปั้นพญานาคสองตัว ปากและหงอนสีแดง',\n",
              "  'พระพุทธรูปสององค์สีทองอยู่ด้านหน้าอาคาร ด้านหลังมีรถจักรยานยนต์จอดอยู่']}"
            ]
          },
          "metadata": {},
          "execution_count": 18
        }
      ]
    },
    {
      "cell_type": "code",
      "source": [
        "import datasets\n",
        "from datasets import concatenate_datasets\n",
        "\n",
        "# 1️⃣ Rename 'cocoid' to 'ipuid' in updated datasets\n",
        "updated_train_dataset = updated_train_dataset.rename_columns({\"cocoid\": \"ipuid\"})\n",
        "updated_val_dataset = updated_val_dataset.rename_columns({\"cocoid\": \"ipuid\"})\n",
        "\n",
        "# 3️⃣ Merge all three datasets\n",
        "merged_dataset = concatenate_datasets([kaggle_train_dataset, updated_train_dataset, updated_val_dataset])\n"
      ],
      "metadata": {
        "id": "peFad5IaOM1w"
      },
      "execution_count": 19,
      "outputs": []
    },
    {
      "cell_type": "code",
      "source": [
        "merged_dataset"
      ],
      "metadata": {
        "colab": {
          "base_uri": "https://localhost:8080/"
        },
        "id": "Qe1KWlCLQIJP",
        "outputId": "6e17b8df-0294-467a-ce4e-14f6c282c315"
      },
      "execution_count": 20,
      "outputs": [
        {
          "output_type": "execute_result",
          "data": {
            "text/plain": [
              "Dataset({\n",
              "    features: ['ipuid', 'image', 'caption'],\n",
              "    num_rows: 151291\n",
              "})"
            ]
          },
          "metadata": {},
          "execution_count": 20
        }
      ]
    },
    {
      "cell_type": "code",
      "source": [
        "kaggle_1000_dataset = kaggle_train_dataset.shuffle(seed=42).select(range(1000))"
      ],
      "metadata": {
        "id": "IoisWko998pX"
      },
      "execution_count": 21,
      "outputs": []
    },
    {
      "cell_type": "code",
      "source": [
        "kaggle_1000_dataset"
      ],
      "metadata": {
        "colab": {
          "base_uri": "https://localhost:8080/"
        },
        "id": "UgfT8ine-GCU",
        "outputId": "6b0c5edd-6bb4-410a-d4a7-58143f1c87d9"
      },
      "execution_count": 22,
      "outputs": [
        {
          "output_type": "execute_result",
          "data": {
            "text/plain": [
              "Dataset({\n",
              "    features: ['ipuid', 'image', 'caption'],\n",
              "    num_rows: 1000\n",
              "})"
            ]
          },
          "metadata": {},
          "execution_count": 22
        }
      ]
    },
    {
      "cell_type": "markdown",
      "source": [
        "## MODEL\n"
      ],
      "metadata": {
        "id": "htN0z9M9qLgU"
      }
    },
    {
      "cell_type": "code",
      "source": [
        "%%capture\n",
        "!pip install unsloth\n",
        "# Also get the latest nightly Unsloth!\n",
        "!pip uninstall unsloth -y && pip install --upgrade --no-cache-dir --no-deps git+https://github.com/unslothai/unsloth.git"
      ],
      "metadata": {
        "id": "ihl5zkzSfRFm"
      },
      "execution_count": 26,
      "outputs": []
    },
    {
      "cell_type": "code",
      "source": [
        "import torch\n",
        "\n",
        "print(\"GPU Available:\", torch.cuda.is_available())\n",
        "print(\"GPU Name:\", torch.cuda.get_device_name(0) if torch.cuda.is_available() else \"No GPU found\")\n"
      ],
      "metadata": {
        "colab": {
          "base_uri": "https://localhost:8080/"
        },
        "id": "tWIcG5rHl4qA",
        "outputId": "de627d4b-f527-45ab-fbde-810f594801ed"
      },
      "execution_count": 25,
      "outputs": [
        {
          "output_type": "stream",
          "name": "stdout",
          "text": [
            "GPU Available: True\n",
            "GPU Name: Tesla T4\n"
          ]
        }
      ]
    },
    {
      "cell_type": "code",
      "source": [
        "from unsloth import FastVisionModel # FastLanguageModel for LLMs\n",
        "import torch\n",
        "\n",
        "# 4bit pre quantized models we support for 4x faster downloading + no OOMs.\n",
        "fourbit_models = [\n",
        "    \"unsloth/Llama-3.2-11B-Vision-Instruct-bnb-4bit\", # Llama 3.2 vision support\n",
        "    \"unsloth/Llama-3.2-11B-Vision-bnb-4bit\",\n",
        "    \"unsloth/Llama-3.2-90B-Vision-Instruct-bnb-4bit\", # Can fit in a 80GB card!\n",
        "    \"unsloth/Llama-3.2-90B-Vision-bnb-4bit\",\n",
        "\n",
        "    \"unsloth/Pixtral-12B-2409-bnb-4bit\",              # Pixtral fits in 16GB!\n",
        "    \"unsloth/Pixtral-12B-Base-2409-bnb-4bit\",         # Pixtral base model\n",
        "\n",
        "    \"unsloth/Qwen2-VL-2B-Instruct-bnb-4bit\",          # Qwen2 VL support\n",
        "    \"unsloth/Qwen2-VL-7B-Instruct-bnb-4bit\",\n",
        "    \"unsloth/Qwen2-VL-72B-Instruct-bnb-4bit\",\n",
        "\n",
        "    \"unsloth/llava-v1.6-mistral-7b-hf-bnb-4bit\",      # Any Llava variant works!\n",
        "    \"unsloth/llava-1.5-7b-hf-bnb-4bit\",\n",
        "] # More models at https://huggingface.co/unsloth\n"
      ],
      "metadata": {
        "colab": {
          "base_uri": "https://localhost:8080/"
        },
        "id": "8eLN2sxDfa92",
        "outputId": "916a2f89-3319-4c1a-c900-1ad0a7f78918"
      },
      "execution_count": 27,
      "outputs": [
        {
          "output_type": "stream",
          "name": "stdout",
          "text": [
            "🦥 Unsloth: Will patch your computer to enable 2x faster free finetuning.\n",
            "🦥 Unsloth Zoo will now patch everything to make training faster!\n"
          ]
        }
      ]
    },
    {
      "cell_type": "code",
      "source": [
        "instruction = \"คิดแคปชั่นรูปนี้ให้หน่อย\"\n",
        "\n",
        "def convert_to_conversation(sample):\n",
        "    conversation = [\n",
        "        { \"role\": \"user\",\n",
        "          \"content\" : [\n",
        "            {\"type\" : \"text\",  \"text\"  : instruction},\n",
        "            {\"type\" : \"image\", \"image\" : sample[\"image\"]} ]\n",
        "        },\n",
        "        { \"role\" : \"assistant\",\n",
        "          \"content\" : [\n",
        "            {\"type\" : \"text\",  \"text\"  : sample[\"caption\"]} ]\n",
        "        },\n",
        "    ]\n",
        "    return { \"messages\" : conversation }\n",
        "pass\n",
        "\n",
        "converted_train_dataset = [convert_to_conversation(sample) for sample in merged_dataset]\n",
        "converted_val_dataset = [convert_to_conversation(sample) for sample in kaggle_val_dataset]\n"
      ],
      "metadata": {
        "id": "Y8jnmF0uyOxZ"
      },
      "execution_count": 28,
      "outputs": []
    },
    {
      "cell_type": "code",
      "source": [
        "converted_kaggle_dataset = [convert_to_conversation(sample) for sample in kaggle_train_dataset]\n",
        "converted_1000_kaggle_dataset = [convert_to_conversation(sample) for sample in kaggle_1000_dataset]"
      ],
      "metadata": {
        "id": "izghtslj4u59"
      },
      "execution_count": 29,
      "outputs": []
    },
    {
      "cell_type": "code",
      "source": [
        "converted_1000_kaggle_dataset[0]"
      ],
      "metadata": {
        "id": "wR5edzWaAQNi",
        "colab": {
          "base_uri": "https://localhost:8080/"
        },
        "outputId": "585001d8-be94-4232-feb8-30b3e6bb259a"
      },
      "execution_count": 30,
      "outputs": [
        {
          "output_type": "execute_result",
          "data": {
            "text/plain": [
              "{'messages': [{'role': 'user',\n",
              "   'content': [{'type': 'text', 'text': 'คิดแคปชั่นรูปนี้ให้หน่อย'},\n",
              "    {'type': 'image',\n",
              "     'image': '/content/kaggle_competition/train/train/food/26823.jpg'}]},\n",
              "  {'role': 'assistant',\n",
              "   'content': [{'type': 'text',\n",
              "     'text': 'ชามสีขาว มีน้ำซุปสีส้มผสมสีแดง มีเนื้อสัตว์ มีไข่ 2 ฟอง มีถั่วลิสงและผักโรย'}]}]}"
            ]
          },
          "metadata": {},
          "execution_count": 30
        }
      ]
    },
    {
      "cell_type": "code",
      "source": [
        "'''from datasets import Dataset\n",
        "from PIL import Image\n",
        "from transformers import AutoTokenizer\n",
        "\n",
        "# ✅ Load tokenizer\n",
        "tokenizer = AutoTokenizer.from_pretrained(\"unsloth/Qwen2-VL-7B-Instruct-bnb-4bit\")\n",
        "\n",
        "# ✅ Define preprocessing function\n",
        "def preprocess(batch):\n",
        "    # Convert image paths to PIL images\n",
        "    batch[\"image\"] = [Image.open(img).convert(\"RGB\") for img in batch[\"image\"]]\n",
        "\n",
        "    # Tokenize captions\n",
        "    batch[\"caption\"] = tokenizer(batch[\"caption\"], truncation=True, padding=\"max_length\", max_length=128)\n",
        "\n",
        "    return batch\n",
        "\n",
        "# ✅ Apply preprocessing\n",
        "kaggle_train_dataset = kaggle_train_dataset.map(preprocess, batched=True)\n",
        "kaggle_val_dataset = kaggle_val_dataset.map(preprocess, batched=True)'''\n"
      ],
      "metadata": {
        "id": "aUMrjDCTqYPi",
        "colab": {
          "base_uri": "https://localhost:8080/",
          "height": 140
        },
        "outputId": "b290f01b-82d8-4327-dde6-57d28ecf39e1"
      },
      "execution_count": 31,
      "outputs": [
        {
          "output_type": "execute_result",
          "data": {
            "text/plain": [
              "'from datasets import Dataset\\nfrom PIL import Image\\nfrom transformers import AutoTokenizer\\n\\n# ✅ Load tokenizer\\ntokenizer = AutoTokenizer.from_pretrained(\"unsloth/Qwen2-VL-7B-Instruct-bnb-4bit\")\\n\\n# ✅ Define preprocessing function\\ndef preprocess(batch):\\n    # Convert image paths to PIL images\\n    batch[\"image\"] = [Image.open(img).convert(\"RGB\") for img in batch[\"image\"]]\\n\\n    # Tokenize captions\\n    batch[\"caption\"] = tokenizer(batch[\"caption\"], truncation=True, padding=\"max_length\", max_length=128)\\n\\n    return batch\\n\\n# ✅ Apply preprocessing\\nkaggle_train_dataset = kaggle_train_dataset.map(preprocess, batched=True)\\nkaggle_val_dataset = kaggle_val_dataset.map(preprocess, batched=True)'"
            ],
            "application/vnd.google.colaboratory.intrinsic+json": {
              "type": "string"
            }
          },
          "metadata": {},
          "execution_count": 31
        }
      ]
    },
    {
      "cell_type": "code",
      "source": [
        "from unsloth import is_bf16_supported\n",
        "from unsloth.trainer import UnslothVisionDataCollator\n",
        "from trl import SFTTrainer, SFTConfig\n",
        "\n",
        "model, tokenizer = FastVisionModel.from_pretrained(\n",
        "    # \"scb10x/typhoon2-qwen2vl-7b-vision-instruct\",\n",
        "    \"unsloth/Qwen2-VL-7B-Instruct-bnb-4bit\",\n",
        "    load_in_4bit = True, # Use 4bit to reduce memory use. False for 16bit LoRA.\n",
        "    use_gradient_checkpointing = \"unsloth\", # True or \"unsloth\" for long context\n",
        ")\n",
        "\n",
        "model = FastVisionModel.get_peft_model(\n",
        "    model,\n",
        "    finetune_vision_layers     = False, # False if not finetuning vision layers\n",
        "    finetune_language_layers   = True, # False if not finetuning language layers\n",
        "    finetune_attention_modules = True, # False if not finetuning attention layers\n",
        "    finetune_mlp_modules       = False, # False if not finetuning MLP layers\n",
        "\n",
        "    r = 8,           # The larger, the higher the accuracy, but might overfit\n",
        "    lora_alpha = 16,  # Recommended alpha == r at least\n",
        "    lora_dropout = 0.05,\n",
        "    bias = \"none\",\n",
        "    random_state = 3407,\n",
        "    use_rslora = True,  # We support rank stabilized LoRA\n",
        "    loftq_config = None, # And LoftQ\n",
        "    # target_modules = \"all-linear\", # Optional now! Can specify a list if needed\n",
        ")\n",
        "FastVisionModel.for_training(model) # Enable for training!\n",
        "\n",
        "trainer = SFTTrainer(\n",
        "    model = model,\n",
        "    tokenizer = tokenizer,\n",
        "    data_collator = UnslothVisionDataCollator(model, tokenizer), # Must use!\n",
        "    train_dataset = converted_1000_kaggle_dataset,\n",
        "    eval_dataset = converted_val_dataset,\n",
        "    args = SFTConfig(\n",
        "        per_device_train_batch_size = 2,\n",
        "        gradient_accumulation_steps = 4,\n",
        "        warmup_steps = 10,\n",
        "        num_train_epochs = 1, # Set this instead of max_steps for full training runs\n",
        "        learning_rate = 5e-4,\n",
        "        fp16 = not is_bf16_supported(),\n",
        "        bf16 = is_bf16_supported(),\n",
        "        logging_steps = 50,\n",
        "        optim = \"adamw_8bit\",\n",
        "        weight_decay = 0.01,\n",
        "        lr_scheduler_type = \"linear\",\n",
        "        seed = 3407,\n",
        "        output_dir = \"outputs\",\n",
        "        report_to = \"none\",     # For Weights and Biases\n",
        "\n",
        "        # You MUST put the below items for vision finetuning:\n",
        "        remove_unused_columns = False,\n",
        "        dataset_text_field = \"messages\",\n",
        "        dataset_kwargs = {\"skip_prepare_dataset\": True},\n",
        "        dataset_num_proc = 4,\n",
        "        max_seq_length = 1024,\n",
        "    ),\n",
        ")"
      ],
      "metadata": {
        "id": "-DkxgRjhh1e7",
        "colab": {
          "base_uri": "https://localhost:8080/"
        },
        "outputId": "7d873eed-3eaa-4050-fd0e-360f2f0ce452"
      },
      "execution_count": 32,
      "outputs": [
        {
          "output_type": "stream",
          "name": "stdout",
          "text": [
            "==((====))==  Unsloth 2025.1.8: Fast Qwen2_Vl vision patching. Transformers: 4.47.1.\n",
            "   \\\\   /|    GPU: Tesla T4. Max memory: 14.741 GB. Platform: Linux.\n",
            "O^O/ \\_/ \\    Torch: 2.5.1+cu124. CUDA: 7.5. CUDA Toolkit: 12.4. Triton: 3.1.0\n",
            "\\        /    Bfloat16 = FALSE. FA [Xformers = 0.0.29.post1. FA2 = False]\n",
            " \"-____-\"     Free Apache license: http://github.com/unslothai/unsloth\n",
            "Unsloth: Fast downloading is enabled - ignore downloading bars which are red colored!\n"
          ]
        },
        {
          "output_type": "stream",
          "name": "stderr",
          "text": [
            "`Qwen2VLRotaryEmbedding` can now be fully parameterized by passing the model config through the `config` argument. All other arguments will be removed in v4.46\n"
          ]
        },
        {
          "output_type": "stream",
          "name": "stdout",
          "text": [
            "Unsloth: Making `model.base_model.model.model` require gradients\n"
          ]
        }
      ]
    },
    {
      "cell_type": "code",
      "source": [
        "trainer_stats = trainer.train()"
      ],
      "metadata": {
        "id": "yN0iTl013Qfd",
        "colab": {
          "base_uri": "https://localhost:8080/",
          "height": 260
        },
        "outputId": "ea9e9a5e-fa66-449b-dffb-4f83bd749533"
      },
      "execution_count": 33,
      "outputs": [
        {
          "output_type": "stream",
          "name": "stderr",
          "text": [
            "==((====))==  Unsloth - 2x faster free finetuning | Num GPUs = 1\n",
            "   \\\\   /|    Num examples = 1,000 | Num Epochs = 1\n",
            "O^O/ \\_/ \\    Batch size per device = 2 | Gradient Accumulation steps = 4\n",
            "\\        /    Total batch size = 8 | Total steps = 125\n",
            " \"-____-\"     Number of trainable parameters = 5,046,272\n",
            "🦥 Unsloth needs about 1-3 minutes to load everything - please wait!\n"
          ]
        },
        {
          "output_type": "stream",
          "name": "stdout",
          "text": [
            "Unsloth: Will smartly offload gradients to save VRAM!\n"
          ]
        },
        {
          "output_type": "display_data",
          "data": {
            "text/plain": [
              "<IPython.core.display.HTML object>"
            ],
            "text/html": [
              "\n",
              "    <div>\n",
              "      \n",
              "      <progress value='125' max='125' style='width:300px; height:20px; vertical-align: middle;'></progress>\n",
              "      [125/125 35:54, Epoch 1/1]\n",
              "    </div>\n",
              "    <table border=\"1\" class=\"dataframe\">\n",
              "  <thead>\n",
              " <tr style=\"text-align: left;\">\n",
              "      <th>Step</th>\n",
              "      <th>Training Loss</th>\n",
              "    </tr>\n",
              "  </thead>\n",
              "  <tbody>\n",
              "    <tr>\n",
              "      <td>50</td>\n",
              "      <td>1.396300</td>\n",
              "    </tr>\n",
              "    <tr>\n",
              "      <td>100</td>\n",
              "      <td>0.799300</td>\n",
              "    </tr>\n",
              "  </tbody>\n",
              "</table><p>"
            ]
          },
          "metadata": {}
        }
      ]
    },
    {
      "cell_type": "code",
      "source": [
        "model = model.merge_and_unload()\n",
        "model.save_pretrained(\"fine_tuned_qwen2_vl_merged\")\n",
        "tokenizer.save_pretrained(\"fine_tuned_qwen2_vl_merged\")"
      ],
      "metadata": {
        "colab": {
          "base_uri": "https://localhost:8080/"
        },
        "id": "JlI5C6apJ6RU",
        "outputId": "d3d4276a-99b8-4b22-9599-041b290344aa"
      },
      "execution_count": 35,
      "outputs": [
        {
          "output_type": "stream",
          "name": "stderr",
          "text": [
            "/usr/local/lib/python3.11/dist-packages/peft/tuners/lora/bnb.py:355: UserWarning: Merge lora module to 4-bit linear may get different generations due to rounding errors.\n",
            "  warnings.warn(\n"
          ]
        },
        {
          "output_type": "execute_result",
          "data": {
            "text/plain": [
              "[]"
            ]
          },
          "metadata": {},
          "execution_count": 35
        }
      ]
    },
    {
      "cell_type": "code",
      "source": [
        "import shutil\n",
        "\n",
        "# Zip the folder\n",
        "shutil.make_archive(\"/content/fine_tuned_qwen2_vl_merged\", 'zip', \"/content/fine_tuned_qwen2_vl_merged\")\n"
      ],
      "metadata": {
        "colab": {
          "base_uri": "https://localhost:8080/",
          "height": 34
        },
        "id": "zlAyGFYdLSBR",
        "outputId": "44356aea-802d-4d24-eb22-1e30ad3dc411"
      },
      "execution_count": 37,
      "outputs": [
        {
          "output_type": "display_data",
          "data": {
            "text/plain": [
              "<IPython.core.display.Javascript object>"
            ],
            "application/javascript": [
              "\n",
              "    async function download(id, filename, size) {\n",
              "      if (!google.colab.kernel.accessAllowed) {\n",
              "        return;\n",
              "      }\n",
              "      const div = document.createElement('div');\n",
              "      const label = document.createElement('label');\n",
              "      label.textContent = `Downloading \"${filename}\": `;\n",
              "      div.appendChild(label);\n",
              "      const progress = document.createElement('progress');\n",
              "      progress.max = size;\n",
              "      div.appendChild(progress);\n",
              "      document.body.appendChild(div);\n",
              "\n",
              "      const buffers = [];\n",
              "      let downloaded = 0;\n",
              "\n",
              "      const channel = await google.colab.kernel.comms.open(id);\n",
              "      // Send a message to notify the kernel that we're ready.\n",
              "      channel.send({})\n",
              "\n",
              "      for await (const message of channel.messages) {\n",
              "        // Send a message to notify the kernel that we're ready.\n",
              "        channel.send({})\n",
              "        if (message.buffers) {\n",
              "          for (const buffer of message.buffers) {\n",
              "            buffers.push(buffer);\n",
              "            downloaded += buffer.byteLength;\n",
              "            progress.value = downloaded;\n",
              "          }\n",
              "        }\n",
              "      }\n",
              "      const blob = new Blob(buffers, {type: 'application/binary'});\n",
              "      const a = document.createElement('a');\n",
              "      a.href = window.URL.createObjectURL(blob);\n",
              "      a.download = filename;\n",
              "      div.appendChild(a);\n",
              "      a.click();\n",
              "      div.remove();\n",
              "    }\n",
              "  "
            ]
          },
          "metadata": {}
        },
        {
          "output_type": "display_data",
          "data": {
            "text/plain": [
              "<IPython.core.display.Javascript object>"
            ],
            "application/javascript": [
              "download(\"download_0fa43510-8318-40a3-88c5-cb611daa2c54\", \"fine_tuned_qwen2_vl_merged\", 4096)"
            ]
          },
          "metadata": {}
        }
      ]
    },
    {
      "cell_type": "code",
      "source": [
        "from google.colab import files\n",
        "\n",
        "# Download the zip file\n",
        "files.download(\"/content/fine_tuned_qwen2_vl_merged.zip\")\n"
      ],
      "metadata": {
        "colab": {
          "base_uri": "https://localhost:8080/",
          "height": 34
        },
        "id": "7GdB64RfO-mr",
        "outputId": "2e1c9bd1-3e54-4b9c-d7fe-811813dbd305"
      },
      "execution_count": 39,
      "outputs": [
        {
          "output_type": "display_data",
          "data": {
            "text/plain": [
              "<IPython.core.display.Javascript object>"
            ],
            "application/javascript": [
              "\n",
              "    async function download(id, filename, size) {\n",
              "      if (!google.colab.kernel.accessAllowed) {\n",
              "        return;\n",
              "      }\n",
              "      const div = document.createElement('div');\n",
              "      const label = document.createElement('label');\n",
              "      label.textContent = `Downloading \"${filename}\": `;\n",
              "      div.appendChild(label);\n",
              "      const progress = document.createElement('progress');\n",
              "      progress.max = size;\n",
              "      div.appendChild(progress);\n",
              "      document.body.appendChild(div);\n",
              "\n",
              "      const buffers = [];\n",
              "      let downloaded = 0;\n",
              "\n",
              "      const channel = await google.colab.kernel.comms.open(id);\n",
              "      // Send a message to notify the kernel that we're ready.\n",
              "      channel.send({})\n",
              "\n",
              "      for await (const message of channel.messages) {\n",
              "        // Send a message to notify the kernel that we're ready.\n",
              "        channel.send({})\n",
              "        if (message.buffers) {\n",
              "          for (const buffer of message.buffers) {\n",
              "            buffers.push(buffer);\n",
              "            downloaded += buffer.byteLength;\n",
              "            progress.value = downloaded;\n",
              "          }\n",
              "        }\n",
              "      }\n",
              "      const blob = new Blob(buffers, {type: 'application/binary'});\n",
              "      const a = document.createElement('a');\n",
              "      a.href = window.URL.createObjectURL(blob);\n",
              "      a.download = filename;\n",
              "      div.appendChild(a);\n",
              "      a.click();\n",
              "      div.remove();\n",
              "    }\n",
              "  "
            ]
          },
          "metadata": {}
        },
        {
          "output_type": "display_data",
          "data": {
            "text/plain": [
              "<IPython.core.display.Javascript object>"
            ],
            "application/javascript": [
              "download(\"download_80cd7c0c-3b73-4314-9ee0-f18ea0fe6bb3\", \"fine_tuned_qwen2_vl_merged.zip\", 5585996262)"
            ]
          },
          "metadata": {}
        }
      ]
    },
    {
      "cell_type": "code",
      "source": [
        "trainer.save_model(\"/content/fine_tuned_qwen2_vl_merged\")\n",
        "tokenizer.save_pretrained(\"/content/fine_tuned_qwen2_vl_merged\")"
      ],
      "metadata": {
        "colab": {
          "base_uri": "https://localhost:8080/",
          "height": 159
        },
        "id": "ltEM7hWxRSNM",
        "outputId": "b6962da0-494c-4df5-ddf7-a84ab766c2f6"
      },
      "execution_count": 25,
      "outputs": [
        {
          "output_type": "error",
          "ename": "NameError",
          "evalue": "name 'trainer' is not defined",
          "traceback": [
            "\u001b[0;31m---------------------------------------------------------------------------\u001b[0m",
            "\u001b[0;31mNameError\u001b[0m                                 Traceback (most recent call last)",
            "\u001b[0;32m<ipython-input-25-ffd43153d6ae>\u001b[0m in \u001b[0;36m<cell line: 0>\u001b[0;34m()\u001b[0m\n\u001b[0;32m----> 1\u001b[0;31m \u001b[0mtrainer\u001b[0m\u001b[0;34m.\u001b[0m\u001b[0msave_model\u001b[0m\u001b[0;34m(\u001b[0m\u001b[0;34m\"/content/fine_tuned_qwen2_vl_merged\"\u001b[0m\u001b[0;34m)\u001b[0m\u001b[0;34m\u001b[0m\u001b[0;34m\u001b[0m\u001b[0m\n\u001b[0m\u001b[1;32m      2\u001b[0m \u001b[0mtokenizer\u001b[0m\u001b[0;34m.\u001b[0m\u001b[0msave_pretrained\u001b[0m\u001b[0;34m(\u001b[0m\u001b[0;34m\"/content/fine_tuned_qwen2_vl_merged\"\u001b[0m\u001b[0;34m)\u001b[0m\u001b[0;34m\u001b[0m\u001b[0;34m\u001b[0m\u001b[0m\n",
            "\u001b[0;31mNameError\u001b[0m: name 'trainer' is not defined"
          ]
        }
      ]
    },
    {
      "cell_type": "code",
      "source": [
        "from unsloth import FastVisionModel\n",
        "from transformers import AutoTokenizer\n",
        "import torch\n",
        "from PIL import Image\n",
        "\n",
        "# ✅ Load the fine-tuned model\n",
        "model, tokenizer = FastVisionModel.from_pretrained(\n",
        "    \"/content/fine_tuned_qwen2_vl_merged\",  # Path to your saved model\n",
        "    load_in_4bit=True,  # Set to False if using a fully merged model\n",
        "    device_map=\"auto\"  # Automatically use GPU if available\n",
        ")\n",
        "\n",
        "# Move model to CUDA if available\n",
        "device = \"cuda\" if torch.cuda.is_available() else \"cpu\"\n",
        "model.to(device)\n"
      ],
      "metadata": {
        "id": "ZLvL6gH-qxsi",
        "colab": {
          "base_uri": "https://localhost:8080/",
          "height": 544,
          "referenced_widgets": [
            "5507850b4bd9444292b45ffce7a8802a",
            "e542f780bf52458f847c84b1080506e0",
            "fa67e4c51b3447d3a4eb7a38d89ad3a9",
            "ef5fcf07fc9049c5a1d908950e177a8c",
            "650e92dc397542d1a768b981bf076c09",
            "267f46fb50224c3d8f7aaeb3961425e9",
            "fe086d2b48b5434e96565dbe5af1032f",
            "73be56a4aec34a16bc61bcdd926621f0",
            "8b0c126cb96a456ebd32151558ea2172",
            "94bd3e8e43fc44e3ba795ad3fba8acd6",
            "a501e4a90c544d49aa31580b307fa39d"
          ]
        },
        "outputId": "232946f1-bbe6-4b1a-b567-91806c429961"
      },
      "execution_count": 24,
      "outputs": [
        {
          "output_type": "stream",
          "name": "stdout",
          "text": [
            "==((====))==  Unsloth 2025.1.8: Fast Qwen2_Vl vision patching. Transformers: 4.47.1.\n",
            "   \\\\   /|    GPU: Tesla T4. Max memory: 14.741 GB. Platform: Linux.\n",
            "O^O/ \\_/ \\    Torch: 2.5.1+cu124. CUDA: 7.5. CUDA Toolkit: 12.4. Triton: 3.1.0\n",
            "\\        /    Bfloat16 = FALSE. FA [Xformers = 0.0.29.post1. FA2 = False]\n",
            " \"-____-\"     Free Apache license: http://github.com/unslothai/unsloth\n",
            "Unsloth: Fast downloading is enabled - ignore downloading bars which are red colored!\n"
          ]
        },
        {
          "output_type": "display_data",
          "data": {
            "text/plain": [
              "Loading checkpoint shards:   0%|          | 0/2 [00:00<?, ?it/s]"
            ],
            "application/vnd.jupyter.widget-view+json": {
              "version_major": 2,
              "version_minor": 0,
              "model_id": "5507850b4bd9444292b45ffce7a8802a"
            }
          },
          "metadata": {}
        },
        {
          "output_type": "error",
          "ename": "ValueError",
          "evalue": "Supplied state dict for visual.blocks.0.attn.proj.weight does not contain `bitsandbytes__*` and possibly other `quantized_stats` components.",
          "traceback": [
            "\u001b[0;31m---------------------------------------------------------------------------\u001b[0m",
            "\u001b[0;31mValueError\u001b[0m                                Traceback (most recent call last)",
            "\u001b[0;32m<ipython-input-24-f768e3b20f77>\u001b[0m in \u001b[0;36m<cell line: 0>\u001b[0;34m()\u001b[0m\n\u001b[1;32m      5\u001b[0m \u001b[0;34m\u001b[0m\u001b[0m\n\u001b[1;32m      6\u001b[0m \u001b[0;31m# ✅ Load the fine-tuned model\u001b[0m\u001b[0;34m\u001b[0m\u001b[0;34m\u001b[0m\u001b[0m\n\u001b[0;32m----> 7\u001b[0;31m model, tokenizer = FastVisionModel.from_pretrained(\n\u001b[0m\u001b[1;32m      8\u001b[0m     \u001b[0;34m\"/content/fine_tuned_qwen2_vl_merged\"\u001b[0m\u001b[0;34m,\u001b[0m  \u001b[0;31m# Path to your saved model\u001b[0m\u001b[0;34m\u001b[0m\u001b[0;34m\u001b[0m\u001b[0m\n\u001b[1;32m      9\u001b[0m     \u001b[0mload_in_4bit\u001b[0m\u001b[0;34m=\u001b[0m\u001b[0;32mTrue\u001b[0m\u001b[0;34m,\u001b[0m  \u001b[0;31m# Set to False if using a fully merged model\u001b[0m\u001b[0;34m\u001b[0m\u001b[0;34m\u001b[0m\u001b[0m\n",
            "\u001b[0;32m/usr/local/lib/python3.11/dist-packages/unsloth/models/loader.py\u001b[0m in \u001b[0;36mfrom_pretrained\u001b[0;34m(model_name, max_seq_length, dtype, load_in_4bit, token, device_map, rope_scaling, fix_tokenizer, trust_remote_code, use_gradient_checkpointing, resize_model_vocab, revision, return_logits, fullgraph, use_exact_model_name, *args, **kwargs)\u001b[0m\n\u001b[1;32m    511\u001b[0m         \u001b[0;32mpass\u001b[0m\u001b[0;34m\u001b[0m\u001b[0;34m\u001b[0m\u001b[0m\n\u001b[1;32m    512\u001b[0m \u001b[0;34m\u001b[0m\u001b[0m\n\u001b[0;32m--> 513\u001b[0;31m         model, tokenizer = FastBaseVisionModel.from_pretrained(\n\u001b[0m\u001b[1;32m    514\u001b[0m             \u001b[0mmodel_name\u001b[0m        \u001b[0;34m=\u001b[0m \u001b[0mmodel_name\u001b[0m\u001b[0;34m,\u001b[0m\u001b[0;34m\u001b[0m\u001b[0;34m\u001b[0m\u001b[0m\n\u001b[1;32m    515\u001b[0m             \u001b[0mmax_seq_length\u001b[0m    \u001b[0;34m=\u001b[0m \u001b[0mmax_seq_length\u001b[0m\u001b[0;34m,\u001b[0m\u001b[0;34m\u001b[0m\u001b[0;34m\u001b[0m\u001b[0m\n",
            "\u001b[0;32m/usr/local/lib/python3.11/dist-packages/unsloth/models/vision.py\u001b[0m in \u001b[0;36mfrom_pretrained\u001b[0;34m(model_name, max_seq_length, dtype, load_in_4bit, token, device_map, trust_remote_code, model_types, tokenizer_name, **kwargs)\u001b[0m\n\u001b[1;32m    143\u001b[0m         \u001b[0;32mif\u001b[0m \u001b[0mload_in_4bit\u001b[0m\u001b[0;34m:\u001b[0m \u001b[0mkwargs\u001b[0m\u001b[0;34m[\u001b[0m\u001b[0;34m\"quantization_config\"\u001b[0m\u001b[0;34m]\u001b[0m \u001b[0;34m=\u001b[0m \u001b[0mbnb_config\u001b[0m\u001b[0;34m\u001b[0m\u001b[0;34m\u001b[0m\u001b[0m\n\u001b[1;32m    144\u001b[0m \u001b[0;34m\u001b[0m\u001b[0m\n\u001b[0;32m--> 145\u001b[0;31m         model = AutoModelForVision2Seq.from_pretrained(\n\u001b[0m\u001b[1;32m    146\u001b[0m             \u001b[0mmodel_name\u001b[0m\u001b[0;34m,\u001b[0m\u001b[0;34m\u001b[0m\u001b[0;34m\u001b[0m\u001b[0m\n\u001b[1;32m    147\u001b[0m             \u001b[0mdevice_map\u001b[0m              \u001b[0;34m=\u001b[0m \u001b[0mdevice_map\u001b[0m\u001b[0;34m,\u001b[0m\u001b[0;34m\u001b[0m\u001b[0;34m\u001b[0m\u001b[0m\n",
            "\u001b[0;32m/usr/local/lib/python3.11/dist-packages/transformers/models/auto/auto_factory.py\u001b[0m in \u001b[0;36mfrom_pretrained\u001b[0;34m(cls, pretrained_model_name_or_path, *model_args, **kwargs)\u001b[0m\n\u001b[1;32m    562\u001b[0m         \u001b[0;32melif\u001b[0m \u001b[0mtype\u001b[0m\u001b[0;34m(\u001b[0m\u001b[0mconfig\u001b[0m\u001b[0;34m)\u001b[0m \u001b[0;32min\u001b[0m \u001b[0mcls\u001b[0m\u001b[0;34m.\u001b[0m\u001b[0m_model_mapping\u001b[0m\u001b[0;34m.\u001b[0m\u001b[0mkeys\u001b[0m\u001b[0;34m(\u001b[0m\u001b[0;34m)\u001b[0m\u001b[0;34m:\u001b[0m\u001b[0;34m\u001b[0m\u001b[0;34m\u001b[0m\u001b[0m\n\u001b[1;32m    563\u001b[0m             \u001b[0mmodel_class\u001b[0m \u001b[0;34m=\u001b[0m \u001b[0m_get_model_class\u001b[0m\u001b[0;34m(\u001b[0m\u001b[0mconfig\u001b[0m\u001b[0;34m,\u001b[0m \u001b[0mcls\u001b[0m\u001b[0;34m.\u001b[0m\u001b[0m_model_mapping\u001b[0m\u001b[0;34m)\u001b[0m\u001b[0;34m\u001b[0m\u001b[0;34m\u001b[0m\u001b[0m\n\u001b[0;32m--> 564\u001b[0;31m             return model_class.from_pretrained(\n\u001b[0m\u001b[1;32m    565\u001b[0m                 \u001b[0mpretrained_model_name_or_path\u001b[0m\u001b[0;34m,\u001b[0m \u001b[0;34m*\u001b[0m\u001b[0mmodel_args\u001b[0m\u001b[0;34m,\u001b[0m \u001b[0mconfig\u001b[0m\u001b[0;34m=\u001b[0m\u001b[0mconfig\u001b[0m\u001b[0;34m,\u001b[0m \u001b[0;34m**\u001b[0m\u001b[0mhub_kwargs\u001b[0m\u001b[0;34m,\u001b[0m \u001b[0;34m**\u001b[0m\u001b[0mkwargs\u001b[0m\u001b[0;34m\u001b[0m\u001b[0;34m\u001b[0m\u001b[0m\n\u001b[1;32m    566\u001b[0m             )\n",
            "\u001b[0;32m/usr/local/lib/python3.11/dist-packages/transformers/modeling_utils.py\u001b[0m in \u001b[0;36mfrom_pretrained\u001b[0;34m(cls, pretrained_model_name_or_path, config, cache_dir, ignore_mismatched_sizes, force_download, local_files_only, token, revision, use_safetensors, weights_only, *model_args, **kwargs)\u001b[0m\n\u001b[1;32m   4262\u001b[0m                     \u001b[0moffload_index\u001b[0m\u001b[0;34m,\u001b[0m\u001b[0;34m\u001b[0m\u001b[0;34m\u001b[0m\u001b[0m\n\u001b[1;32m   4263\u001b[0m                     \u001b[0merror_msgs\u001b[0m\u001b[0;34m,\u001b[0m\u001b[0;34m\u001b[0m\u001b[0;34m\u001b[0m\u001b[0m\n\u001b[0;32m-> 4264\u001b[0;31m                 \u001b[0;34m)\u001b[0m \u001b[0;34m=\u001b[0m \u001b[0mcls\u001b[0m\u001b[0;34m.\u001b[0m\u001b[0m_load_pretrained_model\u001b[0m\u001b[0;34m(\u001b[0m\u001b[0;34m\u001b[0m\u001b[0;34m\u001b[0m\u001b[0m\n\u001b[0m\u001b[1;32m   4265\u001b[0m                     \u001b[0mmodel\u001b[0m\u001b[0;34m,\u001b[0m\u001b[0;34m\u001b[0m\u001b[0;34m\u001b[0m\u001b[0m\n\u001b[1;32m   4266\u001b[0m                     \u001b[0mstate_dict\u001b[0m\u001b[0;34m,\u001b[0m\u001b[0;34m\u001b[0m\u001b[0;34m\u001b[0m\u001b[0m\n",
            "\u001b[0;32m/usr/local/lib/python3.11/dist-packages/transformers/modeling_utils.py\u001b[0m in \u001b[0;36m_load_pretrained_model\u001b[0;34m(cls, model, state_dict, loaded_keys, resolved_archive_file, pretrained_model_name_or_path, ignore_mismatched_sizes, sharded_metadata, _fast_init, low_cpu_mem_usage, device_map, offload_folder, offload_state_dict, dtype, hf_quantizer, keep_in_fp32_modules, gguf_path, weights_only)\u001b[0m\n\u001b[1;32m   4775\u001b[0m                                 )\n\u001b[1;32m   4776\u001b[0m                     \u001b[0;32melse\u001b[0m\u001b[0;34m:\u001b[0m\u001b[0;34m\u001b[0m\u001b[0;34m\u001b[0m\u001b[0m\n\u001b[0;32m-> 4777\u001b[0;31m                         new_error_msgs, offload_index, state_dict_index = _load_state_dict_into_meta_model(\n\u001b[0m\u001b[1;32m   4778\u001b[0m                             \u001b[0mmodel_to_load\u001b[0m\u001b[0;34m,\u001b[0m\u001b[0;34m\u001b[0m\u001b[0;34m\u001b[0m\u001b[0m\n\u001b[1;32m   4779\u001b[0m                             \u001b[0mstate_dict\u001b[0m\u001b[0;34m,\u001b[0m\u001b[0;34m\u001b[0m\u001b[0;34m\u001b[0m\u001b[0m\n",
            "\u001b[0;32m/usr/local/lib/python3.11/dist-packages/transformers/modeling_utils.py\u001b[0m in \u001b[0;36m_load_state_dict_into_meta_model\u001b[0;34m(model, state_dict, start_prefix, expected_keys, device_map, offload_folder, offload_index, state_dict_folder, state_dict_index, dtype, hf_quantizer, is_safetensors, keep_in_fp32_modules, unexpected_keys, pretrained_model_name_or_path)\u001b[0m\n\u001b[1;32m    942\u001b[0m             \u001b[0mset_module_tensor_to_device\u001b[0m\u001b[0;34m(\u001b[0m\u001b[0mmodel\u001b[0m\u001b[0;34m,\u001b[0m \u001b[0mparam_name\u001b[0m\u001b[0;34m,\u001b[0m \u001b[0mparam_device\u001b[0m\u001b[0;34m,\u001b[0m \u001b[0;34m**\u001b[0m\u001b[0mset_module_kwargs\u001b[0m\u001b[0;34m)\u001b[0m\u001b[0;34m\u001b[0m\u001b[0;34m\u001b[0m\u001b[0m\n\u001b[1;32m    943\u001b[0m         \u001b[0;32melse\u001b[0m\u001b[0;34m:\u001b[0m\u001b[0;34m\u001b[0m\u001b[0;34m\u001b[0m\u001b[0m\n\u001b[0;32m--> 944\u001b[0;31m             \u001b[0mhf_quantizer\u001b[0m\u001b[0;34m.\u001b[0m\u001b[0mcreate_quantized_param\u001b[0m\u001b[0;34m(\u001b[0m\u001b[0mmodel\u001b[0m\u001b[0;34m,\u001b[0m \u001b[0mparam\u001b[0m\u001b[0;34m,\u001b[0m \u001b[0mparam_name\u001b[0m\u001b[0;34m,\u001b[0m \u001b[0mparam_device\u001b[0m\u001b[0;34m,\u001b[0m \u001b[0mstate_dict\u001b[0m\u001b[0;34m,\u001b[0m \u001b[0munexpected_keys\u001b[0m\u001b[0;34m)\u001b[0m\u001b[0;34m\u001b[0m\u001b[0;34m\u001b[0m\u001b[0m\n\u001b[0m\u001b[1;32m    945\u001b[0m             \u001b[0;31m# For quantized modules with FSDP/DeepSpeed Stage 3, we need to quantize the parameter on the GPU\u001b[0m\u001b[0;34m\u001b[0m\u001b[0;34m\u001b[0m\u001b[0m\n\u001b[1;32m    946\u001b[0m             \u001b[0;31m# and then cast it to CPU to avoid excessive memory usage on each GPU\u001b[0m\u001b[0;34m\u001b[0m\u001b[0;34m\u001b[0m\u001b[0m\n",
            "\u001b[0;32m/usr/local/lib/python3.11/dist-packages/transformers/quantizers/quantizer_bnb_4bit.py\u001b[0m in \u001b[0;36mcreate_quantized_param\u001b[0;34m(self, model, param_value, param_name, target_device, state_dict, unexpected_keys)\u001b[0m\n\u001b[1;32m    205\u001b[0m                 \u001b[0mparam_name\u001b[0m \u001b[0;34m+\u001b[0m \u001b[0;34m\".quant_state.bitsandbytes__nf4\"\u001b[0m \u001b[0;32mnot\u001b[0m \u001b[0;32min\u001b[0m \u001b[0mstate_dict\u001b[0m\u001b[0;34m\u001b[0m\u001b[0;34m\u001b[0m\u001b[0m\n\u001b[1;32m    206\u001b[0m             ):\n\u001b[0;32m--> 207\u001b[0;31m                 raise ValueError(\n\u001b[0m\u001b[1;32m    208\u001b[0m                     \u001b[0;34mf\"Supplied state dict for {param_name} does not contain `bitsandbytes__*` and possibly other `quantized_stats` components.\"\u001b[0m\u001b[0;34m\u001b[0m\u001b[0;34m\u001b[0m\u001b[0m\n\u001b[1;32m    209\u001b[0m                 )\n",
            "\u001b[0;31mValueError\u001b[0m: Supplied state dict for visual.blocks.0.attn.proj.weight does not contain `bitsandbytes__*` and possibly other `quantized_stats` components."
          ]
        }
      ]
    },
    {
      "cell_type": "code",
      "source": [
        "# ✅ Load a test image\n",
        "test_image = Image.open(\"/content/kaggle_competition/test/test/00001.jpg\").convert(\"RGB\")\n",
        "\n",
        "from transformers import AutoProcessor\n",
        "\n",
        "# Load processor for vision models\n",
        "processor = AutoProcessor.from_pretrained(\"./fine_tuned_qwen2_vl_merged\")\n",
        "inputs = processor(images=test_image, return_tensors=\"pt\").to(device)\n",
        "\n",
        "# ✅ Prepare the text input in Thai\n",
        "prompt = \"อธิบายภาพนี้เป็นภาษาไทย:\"  # \"Describe this image in Thai:\"\n",
        "text_inputs = tokenizer(prompt, return_tensors=\"pt\").to(device)\n",
        "\n",
        "# ✅ Generate the response\n",
        "output = model.generate(**text_inputs, max_length=50)\n",
        "\n",
        "# ✅ Decode and print the caption\n",
        "caption = tokenizer.decode(output[0], skip_special_tokens=True)\n",
        "print(\"Generated Caption:\", caption)\n"
      ],
      "metadata": {
        "id": "o_UtRrDZrJjc"
      },
      "execution_count": null,
      "outputs": []
    },
    {
      "cell_type": "code",
      "source": [
        "model, tokenizer = FastVisionModel.from_pretrained(\"./fine_tuned_qwen2_vl_thai\")\n",
        "\n",
        "# ✅ Set to evaluation mode\n",
        "model.eval()"
      ],
      "metadata": {
        "id": "achN9woqr44o"
      },
      "execution_count": null,
      "outputs": []
    },
    {
      "cell_type": "code",
      "source": [
        "from PIL import Image\n",
        "\n",
        "# ✅ Path to test images\n",
        "test_images_dir = \"/content/kaggle_competition/test/test\"\n",
        "\n",
        "# ✅ Get list of all test image files\n",
        "test_images = sorted([f for f in os.listdir(test_images_dir) if f.endswith(\".jpg\")])\n",
        "\n",
        "# ✅ Prepare a list of dictionaries for the dataset\n",
        "test_data = []\n",
        "for image_file in test_images:\n",
        "    image_path = os.path.join(test_images_dir, image_file)\n",
        "\n",
        "    # Extract the 'ipuid' from filename (remove .jpg)\n",
        "    ipuid = image_file.replace(\".jpg\", \"\")\n",
        "\n",
        "    test_data.append({\"ipuid\": ipuid, \"image\": image_path})"
      ],
      "metadata": {
        "id": "TaMyo0rDsDWp"
      },
      "execution_count": null,
      "outputs": []
    },
    {
      "cell_type": "code",
      "source": [
        "import torch\n",
        "\n",
        "# ✅ Function to generate captions\n",
        "def generate_caption(image_path):\n",
        "    # Load the image\n",
        "    image = Image.open(image_path).convert(\"RGB\")\n",
        "\n",
        "    # Encode input prompt\n",
        "    inputs = tokenizer(\"Describe this image in Thai:\", return_tensors=\"pt\").to(\"cuda\")\n",
        "\n",
        "    # Generate output\n",
        "    with torch.no_grad():\n",
        "        output = model.generate(**inputs, max_length=50)\n",
        "\n",
        "    # Decode generated caption\n",
        "    caption = tokenizer.decode(output[0], skip_special_tokens=True)\n",
        "    return caption\n",
        "\n",
        "# ✅ Generate captions for all test images\n",
        "for entry in test_data:\n",
        "    entry[\"caption\"] = generate_caption(entry[\"image\"])"
      ],
      "metadata": {
        "id": "puPbG4nhsK_G"
      },
      "execution_count": null,
      "outputs": []
    },
    {
      "cell_type": "code",
      "source": [
        "test_dataset = Dataset.from_list(test_data)\n",
        "\n",
        "# ✅ Display the dataset\n",
        "import ace_tools as tools\n",
        "tools.display_dataframe_to_user(name=\"Test Set Predictions\", dataframe=test_dataset.to_pandas())"
      ],
      "metadata": {
        "id": "W7Q9UmhosORS"
      },
      "execution_count": null,
      "outputs": []
    },
    {
      "cell_type": "code",
      "source": [
        "submission_path = \"/content/kaggle_competition/sample_submission.csv\"\n",
        "submission_df = pd.read_csv(submission_path)\n",
        "\n",
        "test_df = test_dataset.to_pandas()\n",
        "\n",
        "# ✅ Rename columns to match `sample_submission.csv`\n",
        "test_df.rename(columns={\"ipuid\": \"image_id\"}, inplace=True)\n",
        "\n",
        "submission_df = submission_df.merge(test_df[['image_id', 'caption']], on=\"image_id\", how=\"left\")\n",
        "\n",
        "print(submission_df.head())"
      ],
      "metadata": {
        "id": "kl7vgMQ-tGFz"
      },
      "execution_count": null,
      "outputs": []
    },
    {
      "cell_type": "code",
      "source": [
        "output_path = \"/content/final_submission.csv\"\n",
        "submission_df.to_csv(output_path, index=False, encoding=\"utf-8\")\n",
        "print(f\"✅ Submission file saved: {output_path}\")"
      ],
      "metadata": {
        "id": "7Ftc_RIKtar9"
      },
      "execution_count": null,
      "outputs": []
    },
    {
      "cell_type": "code",
      "source": [
        "from unsloth import FastVisionModel\n",
        "from trl import SFTTrainer, SFTConfig\n",
        "\n",
        "# Load the fine-tuned model\n",
        "model, tokenizer = FastVisionModel.from_pretrained(\n",
        "    \"unsloth/Qwen2-VL-7B-Instruct-bnb-4bit\",\n",
        "    load_in_4bit = True,  # Keep the same settings\n",
        "    use_gradient_checkpointing = \"unsloth\",\n",
        ")\n",
        "\n",
        "# Load the saved LoRA adapters\n",
        "model = FastVisionModel.get_peft_model(model, \"fine_tuned_qwen2_vl\")\n",
        "\n",
        "# Enable training mode again\n",
        "FastVisionModel.for_training(model)\n",
        "\n",
        "# Reinitialize Trainer\n",
        "trainer = SFTTrainer(\n",
        "    model = model,\n",
        "    tokenizer = tokenizer,\n",
        "    data_collator = UnslothVisionDataCollator(model, tokenizer),\n",
        "    train_dataset = converted_1000_kaggle_dataset,  # Continue training with your dataset\n",
        "    eval_dataset = converted_val_dataset,\n",
        "    args = SFTConfig(\n",
        "        per_device_train_batch_size = 2,\n",
        "        gradient_accumulation_steps = 4,\n",
        "        warmup_steps = 10,\n",
        "        num_train_epochs = 1,  # Set the desired additional epochs\n",
        "        learning_rate = 5e-4,\n",
        "        fp16 = not is_bf16_supported(),\n",
        "        bf16 = is_bf16_supported(),\n",
        "        logging_steps = 50,\n",
        "        optim = \"adamw_8bit\",\n",
        "        weight_decay = 0.01,\n",
        "        lr_scheduler_type = \"linear\",\n",
        "        seed = 3407,\n",
        "        output_dir = \"outputs\",\n",
        "        report_to = \"none\",\n",
        "        remove_unused_columns = False,\n",
        "        dataset_text_field = \"messages\",\n",
        "        dataset_kwargs = {\"skip_prepare_dataset\": True},\n",
        "        dataset_num_proc = 4,\n",
        "        max_seq_length = 1024,\n",
        "    ),\n",
        ")\n",
        "\n",
        "# Continue training\n",
        "trainer.train()\n"
      ],
      "metadata": {
        "id": "J-IYlPQzHIOY"
      },
      "execution_count": null,
      "outputs": []
    }
  ]
}